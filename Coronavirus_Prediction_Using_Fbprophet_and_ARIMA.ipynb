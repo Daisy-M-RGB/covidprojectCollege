{
  "nbformat": 4,
  "nbformat_minor": 5,
  "metadata": {
    "kernelspec": {
      "display_name": "Python 3",
      "language": "python",
      "name": "python3"
    },
    "language_info": {
      "codemirror_mode": {
        "name": "ipython",
        "version": 3
      },
      "file_extension": ".py",
      "mimetype": "text/x-python",
      "name": "python",
      "nbconvert_exporter": "python",
      "pygments_lexer": "ipython3",
      "version": "3.7.10"
    },
    "colab": {
      "name": "Coronavirus Prediction Using Fbprophet and ARIMA.ipynb",
      "provenance": [],
      "collapsed_sections": [],
      "include_colab_link": true
    }
  },
  "cells": [
    {
      "cell_type": "markdown",
      "metadata": {
        "id": "view-in-github",
        "colab_type": "text"
      },
      "source": [
        "<a href=\"https://colab.research.google.com/github/Daisy-M-RGB/covidprojectCollege/blob/main/Coronavirus_Prediction_Using_Fbprophet_and_ARIMA.ipynb\" target=\"_parent\"><img src=\"https://colab.research.google.com/assets/colab-badge.svg\" alt=\"Open In Colab\"/></a>"
      ]
    },
    {
      "cell_type": "code",
      "metadata": {
        "colab": {
          "base_uri": "https://localhost:8080/"
        },
        "id": "WawI48o-bhSF",
        "outputId": "184ab911-b99d-471d-c06f-9d29375458c4"
      },
      "source": [
        "from google.colab import drive\n",
        "drive.mount('/content/drive')"
      ],
      "id": "WawI48o-bhSF",
      "execution_count": 1,
      "outputs": [
        {
          "output_type": "stream",
          "text": [
            "Drive already mounted at /content/drive; to attempt to forcibly remount, call drive.mount(\"/content/drive\", force_remount=True).\n"
          ],
          "name": "stdout"
        }
      ]
    },
    {
      "cell_type": "code",
      "metadata": {
        "id": "2fPVZjZ6HCaz",
        "colab": {
          "base_uri": "https://localhost:8080/"
        },
        "outputId": "9a91d7db-b430-4e1a-92db-2e776065382b"
      },
      "source": [
        "!pip install statsmodels --upgrade"
      ],
      "id": "2fPVZjZ6HCaz",
      "execution_count": 2,
      "outputs": [
        {
          "output_type": "stream",
          "text": [
            "Requirement already satisfied: statsmodels in /usr/local/lib/python3.7/dist-packages (0.12.2)\n",
            "Requirement already satisfied: patsy>=0.5 in /usr/local/lib/python3.7/dist-packages (from statsmodels) (0.5.1)\n",
            "Requirement already satisfied: pandas>=0.21 in /usr/local/lib/python3.7/dist-packages (from statsmodels) (1.1.5)\n",
            "Requirement already satisfied: scipy>=1.1 in /usr/local/lib/python3.7/dist-packages (from statsmodels) (1.4.1)\n",
            "Requirement already satisfied: numpy>=1.15 in /usr/local/lib/python3.7/dist-packages (from statsmodels) (1.19.5)\n",
            "Requirement already satisfied: pytz>=2017.2 in /usr/local/lib/python3.7/dist-packages (from pandas>=0.21->statsmodels) (2018.9)\n",
            "Requirement already satisfied: python-dateutil>=2.7.3 in /usr/local/lib/python3.7/dist-packages (from pandas>=0.21->statsmodels) (2.8.1)\n",
            "Requirement already satisfied: six in /usr/local/lib/python3.7/dist-packages (from patsy>=0.5->statsmodels) (1.15.0)\n"
          ],
          "name": "stdout"
        }
      ]
    },
    {
      "cell_type": "code",
      "metadata": {
        "id": "eHooUOQ0HDNH",
        "colab": {
          "base_uri": "https://localhost:8080/"
        },
        "outputId": "4a46cfe8-a2bf-4992-9ea0-717ff5833e85"
      },
      "source": [
        "pip install pmdarima"
      ],
      "id": "eHooUOQ0HDNH",
      "execution_count": 3,
      "outputs": [
        {
          "output_type": "stream",
          "text": [
            "Requirement already satisfied: pmdarima in /usr/local/lib/python3.7/dist-packages (1.8.2)\n",
            "Requirement already satisfied: Cython!=0.29.18,>=0.29 in /usr/local/lib/python3.7/dist-packages (from pmdarima) (0.29.23)\n",
            "Requirement already satisfied: pandas>=0.19 in /usr/local/lib/python3.7/dist-packages (from pmdarima) (1.1.5)\n",
            "Requirement already satisfied: statsmodels!=0.12.0,>=0.11 in /usr/local/lib/python3.7/dist-packages (from pmdarima) (0.12.2)\n",
            "Requirement already satisfied: setuptools!=50.0.0,>=38.6.0 in /usr/local/lib/python3.7/dist-packages (from pmdarima) (57.2.0)\n",
            "Requirement already satisfied: scipy>=1.3.2 in /usr/local/lib/python3.7/dist-packages (from pmdarima) (1.4.1)\n",
            "Requirement already satisfied: numpy~=1.19.0 in /usr/local/lib/python3.7/dist-packages (from pmdarima) (1.19.5)\n",
            "Requirement already satisfied: urllib3 in /usr/local/lib/python3.7/dist-packages (from pmdarima) (1.24.3)\n",
            "Requirement already satisfied: scikit-learn>=0.22 in /usr/local/lib/python3.7/dist-packages (from pmdarima) (0.22.2.post1)\n",
            "Requirement already satisfied: joblib>=0.11 in /usr/local/lib/python3.7/dist-packages (from pmdarima) (1.0.1)\n",
            "Requirement already satisfied: python-dateutil>=2.7.3 in /usr/local/lib/python3.7/dist-packages (from pandas>=0.19->pmdarima) (2.8.1)\n",
            "Requirement already satisfied: pytz>=2017.2 in /usr/local/lib/python3.7/dist-packages (from pandas>=0.19->pmdarima) (2018.9)\n",
            "Requirement already satisfied: six>=1.5 in /usr/local/lib/python3.7/dist-packages (from python-dateutil>=2.7.3->pandas>=0.19->pmdarima) (1.15.0)\n",
            "Requirement already satisfied: patsy>=0.5 in /usr/local/lib/python3.7/dist-packages (from statsmodels!=0.12.0,>=0.11->pmdarima) (0.5.1)\n"
          ],
          "name": "stdout"
        }
      ]
    },
    {
      "cell_type": "code",
      "metadata": {
        "id": "ui5SiuscHDRo"
      },
      "source": [
        "# importing the required libraries\n",
        "import pandas as pd\n",
        "import numpy as np\n",
        "# Visualisation libraries\n",
        "import matplotlib.pyplot as plt\n",
        "%matplotlib inline\n",
        "from sklearn.metrics import r2_score\n",
        "# Manipulating the default plot size\n",
        "plt.rcParams['figure.figsize'] = 8, 10\n",
        "# Disable warnings\n",
        "import warnings\n",
        "warnings.filterwarnings('ignore')"
      ],
      "id": "ui5SiuscHDRo",
      "execution_count": 4,
      "outputs": []
    },
    {
      "cell_type": "code",
      "metadata": {
        "id": "lkhaQljlHDU_"
      },
      "source": [
        "confirmed_cases = pd.read_csv('/content/drive/MyDrive/dataset/time_series_covid19_confirmed_global.csv')\n",
        "deaths_reported = pd.read_csv('/content/drive/MyDrive/dataset/time_series_covid19_deaths_global.csv')\n",
        "confirmed_cases.rename(columns={'Country/Region':'Country'}, inplace=True)\n",
        "deaths_reported.rename(columns={'Country/Region':'Country'}, inplace=True)"
      ],
      "id": "lkhaQljlHDU_",
      "execution_count": 5,
      "outputs": []
    },
    {
      "cell_type": "code",
      "metadata": {
        "colab": {
          "base_uri": "https://localhost:8080/",
          "height": 455
        },
        "id": "CkY8rUgyHDYP",
        "outputId": "7b3c6b8c-23ab-44f1-90d6-514b17072fa6"
      },
      "source": [
        "confirmed_cases"
      ],
      "id": "CkY8rUgyHDYP",
      "execution_count": 6,
      "outputs": [
        {
          "output_type": "execute_result",
          "data": {
            "text/html": [
              "<div>\n",
              "<style scoped>\n",
              "    .dataframe tbody tr th:only-of-type {\n",
              "        vertical-align: middle;\n",
              "    }\n",
              "\n",
              "    .dataframe tbody tr th {\n",
              "        vertical-align: top;\n",
              "    }\n",
              "\n",
              "    .dataframe thead th {\n",
              "        text-align: right;\n",
              "    }\n",
              "</style>\n",
              "<table border=\"1\" class=\"dataframe\">\n",
              "  <thead>\n",
              "    <tr style=\"text-align: right;\">\n",
              "      <th></th>\n",
              "      <th>Province/State</th>\n",
              "      <th>Country</th>\n",
              "      <th>Lat</th>\n",
              "      <th>Long</th>\n",
              "      <th>1/22/20</th>\n",
              "      <th>1/23/20</th>\n",
              "      <th>1/24/20</th>\n",
              "      <th>1/25/20</th>\n",
              "      <th>1/26/20</th>\n",
              "      <th>1/27/20</th>\n",
              "      <th>1/28/20</th>\n",
              "      <th>1/29/20</th>\n",
              "      <th>1/30/20</th>\n",
              "      <th>1/31/20</th>\n",
              "      <th>2/1/20</th>\n",
              "      <th>2/2/20</th>\n",
              "      <th>2/3/20</th>\n",
              "      <th>2/4/20</th>\n",
              "      <th>2/5/20</th>\n",
              "      <th>2/6/20</th>\n",
              "      <th>2/7/20</th>\n",
              "      <th>2/8/20</th>\n",
              "      <th>2/9/20</th>\n",
              "      <th>2/10/20</th>\n",
              "      <th>2/11/20</th>\n",
              "      <th>2/12/20</th>\n",
              "      <th>2/13/20</th>\n",
              "      <th>2/14/20</th>\n",
              "      <th>2/15/20</th>\n",
              "      <th>2/16/20</th>\n",
              "      <th>2/17/20</th>\n",
              "      <th>2/18/20</th>\n",
              "      <th>2/19/20</th>\n",
              "      <th>2/20/20</th>\n",
              "      <th>2/21/20</th>\n",
              "      <th>2/22/20</th>\n",
              "      <th>2/23/20</th>\n",
              "      <th>2/24/20</th>\n",
              "      <th>2/25/20</th>\n",
              "      <th>2/26/20</th>\n",
              "      <th>...</th>\n",
              "      <th>4/28/21</th>\n",
              "      <th>4/29/21</th>\n",
              "      <th>4/30/21</th>\n",
              "      <th>5/1/21</th>\n",
              "      <th>5/2/21</th>\n",
              "      <th>5/3/21</th>\n",
              "      <th>5/4/21</th>\n",
              "      <th>5/5/21</th>\n",
              "      <th>5/6/21</th>\n",
              "      <th>5/7/21</th>\n",
              "      <th>5/8/21</th>\n",
              "      <th>5/9/21</th>\n",
              "      <th>5/10/21</th>\n",
              "      <th>5/11/21</th>\n",
              "      <th>5/12/21</th>\n",
              "      <th>5/13/21</th>\n",
              "      <th>5/14/21</th>\n",
              "      <th>5/15/21</th>\n",
              "      <th>5/16/21</th>\n",
              "      <th>5/17/21</th>\n",
              "      <th>5/18/21</th>\n",
              "      <th>5/19/21</th>\n",
              "      <th>5/20/21</th>\n",
              "      <th>5/21/21</th>\n",
              "      <th>5/22/21</th>\n",
              "      <th>5/23/21</th>\n",
              "      <th>5/24/21</th>\n",
              "      <th>5/25/21</th>\n",
              "      <th>5/26/21</th>\n",
              "      <th>5/27/21</th>\n",
              "      <th>5/28/21</th>\n",
              "      <th>5/29/21</th>\n",
              "      <th>5/30/21</th>\n",
              "      <th>5/31/21</th>\n",
              "      <th>6/1/21</th>\n",
              "      <th>6/2/21</th>\n",
              "      <th>6/3/21</th>\n",
              "      <th>6/4/21</th>\n",
              "      <th>6/5/21</th>\n",
              "      <th>6/6/21</th>\n",
              "    </tr>\n",
              "  </thead>\n",
              "  <tbody>\n",
              "    <tr>\n",
              "      <th>0</th>\n",
              "      <td>NaN</td>\n",
              "      <td>Afghanistan</td>\n",
              "      <td>33.939110</td>\n",
              "      <td>67.709953</td>\n",
              "      <td>0</td>\n",
              "      <td>0</td>\n",
              "      <td>0</td>\n",
              "      <td>0</td>\n",
              "      <td>0</td>\n",
              "      <td>0</td>\n",
              "      <td>0</td>\n",
              "      <td>0</td>\n",
              "      <td>0</td>\n",
              "      <td>0</td>\n",
              "      <td>0</td>\n",
              "      <td>0</td>\n",
              "      <td>0</td>\n",
              "      <td>0</td>\n",
              "      <td>0</td>\n",
              "      <td>0</td>\n",
              "      <td>0</td>\n",
              "      <td>0</td>\n",
              "      <td>0</td>\n",
              "      <td>0</td>\n",
              "      <td>0</td>\n",
              "      <td>0</td>\n",
              "      <td>0</td>\n",
              "      <td>0</td>\n",
              "      <td>0</td>\n",
              "      <td>0</td>\n",
              "      <td>0</td>\n",
              "      <td>0</td>\n",
              "      <td>0</td>\n",
              "      <td>0</td>\n",
              "      <td>0</td>\n",
              "      <td>0</td>\n",
              "      <td>0</td>\n",
              "      <td>1</td>\n",
              "      <td>1</td>\n",
              "      <td>1</td>\n",
              "      <td>...</td>\n",
              "      <td>59370</td>\n",
              "      <td>59576</td>\n",
              "      <td>59745</td>\n",
              "      <td>59939</td>\n",
              "      <td>60122</td>\n",
              "      <td>60300</td>\n",
              "      <td>60563</td>\n",
              "      <td>60797</td>\n",
              "      <td>61162</td>\n",
              "      <td>61455</td>\n",
              "      <td>61755</td>\n",
              "      <td>61842</td>\n",
              "      <td>62063</td>\n",
              "      <td>62403</td>\n",
              "      <td>62718</td>\n",
              "      <td>63045</td>\n",
              "      <td>63355</td>\n",
              "      <td>63412</td>\n",
              "      <td>63484</td>\n",
              "      <td>63598</td>\n",
              "      <td>63819</td>\n",
              "      <td>64122</td>\n",
              "      <td>64575</td>\n",
              "      <td>65080</td>\n",
              "      <td>65486</td>\n",
              "      <td>65728</td>\n",
              "      <td>66275</td>\n",
              "      <td>66903</td>\n",
              "      <td>67743</td>\n",
              "      <td>68366</td>\n",
              "      <td>69130</td>\n",
              "      <td>70111</td>\n",
              "      <td>70761</td>\n",
              "      <td>71838</td>\n",
              "      <td>72977</td>\n",
              "      <td>74026</td>\n",
              "      <td>75119</td>\n",
              "      <td>76628</td>\n",
              "      <td>77963</td>\n",
              "      <td>79224</td>\n",
              "    </tr>\n",
              "    <tr>\n",
              "      <th>1</th>\n",
              "      <td>NaN</td>\n",
              "      <td>Albania</td>\n",
              "      <td>41.153300</td>\n",
              "      <td>20.168300</td>\n",
              "      <td>0</td>\n",
              "      <td>0</td>\n",
              "      <td>0</td>\n",
              "      <td>0</td>\n",
              "      <td>0</td>\n",
              "      <td>0</td>\n",
              "      <td>0</td>\n",
              "      <td>0</td>\n",
              "      <td>0</td>\n",
              "      <td>0</td>\n",
              "      <td>0</td>\n",
              "      <td>0</td>\n",
              "      <td>0</td>\n",
              "      <td>0</td>\n",
              "      <td>0</td>\n",
              "      <td>0</td>\n",
              "      <td>0</td>\n",
              "      <td>0</td>\n",
              "      <td>0</td>\n",
              "      <td>0</td>\n",
              "      <td>0</td>\n",
              "      <td>0</td>\n",
              "      <td>0</td>\n",
              "      <td>0</td>\n",
              "      <td>0</td>\n",
              "      <td>0</td>\n",
              "      <td>0</td>\n",
              "      <td>0</td>\n",
              "      <td>0</td>\n",
              "      <td>0</td>\n",
              "      <td>0</td>\n",
              "      <td>0</td>\n",
              "      <td>0</td>\n",
              "      <td>0</td>\n",
              "      <td>0</td>\n",
              "      <td>0</td>\n",
              "      <td>...</td>\n",
              "      <td>130859</td>\n",
              "      <td>130977</td>\n",
              "      <td>131085</td>\n",
              "      <td>131185</td>\n",
              "      <td>131238</td>\n",
              "      <td>131276</td>\n",
              "      <td>131327</td>\n",
              "      <td>131419</td>\n",
              "      <td>131510</td>\n",
              "      <td>131577</td>\n",
              "      <td>131666</td>\n",
              "      <td>131723</td>\n",
              "      <td>131753</td>\n",
              "      <td>131803</td>\n",
              "      <td>131845</td>\n",
              "      <td>131890</td>\n",
              "      <td>131939</td>\n",
              "      <td>131978</td>\n",
              "      <td>132015</td>\n",
              "      <td>132032</td>\n",
              "      <td>132071</td>\n",
              "      <td>132095</td>\n",
              "      <td>132118</td>\n",
              "      <td>132153</td>\n",
              "      <td>132176</td>\n",
              "      <td>132209</td>\n",
              "      <td>132215</td>\n",
              "      <td>132229</td>\n",
              "      <td>132244</td>\n",
              "      <td>132264</td>\n",
              "      <td>132285</td>\n",
              "      <td>132297</td>\n",
              "      <td>132309</td>\n",
              "      <td>132315</td>\n",
              "      <td>132337</td>\n",
              "      <td>132351</td>\n",
              "      <td>132360</td>\n",
              "      <td>132372</td>\n",
              "      <td>132374</td>\n",
              "      <td>132379</td>\n",
              "    </tr>\n",
              "    <tr>\n",
              "      <th>2</th>\n",
              "      <td>NaN</td>\n",
              "      <td>Algeria</td>\n",
              "      <td>28.033900</td>\n",
              "      <td>1.659600</td>\n",
              "      <td>0</td>\n",
              "      <td>0</td>\n",
              "      <td>0</td>\n",
              "      <td>0</td>\n",
              "      <td>0</td>\n",
              "      <td>0</td>\n",
              "      <td>0</td>\n",
              "      <td>0</td>\n",
              "      <td>0</td>\n",
              "      <td>0</td>\n",
              "      <td>0</td>\n",
              "      <td>0</td>\n",
              "      <td>0</td>\n",
              "      <td>0</td>\n",
              "      <td>0</td>\n",
              "      <td>0</td>\n",
              "      <td>0</td>\n",
              "      <td>0</td>\n",
              "      <td>0</td>\n",
              "      <td>0</td>\n",
              "      <td>0</td>\n",
              "      <td>0</td>\n",
              "      <td>0</td>\n",
              "      <td>0</td>\n",
              "      <td>0</td>\n",
              "      <td>0</td>\n",
              "      <td>0</td>\n",
              "      <td>0</td>\n",
              "      <td>0</td>\n",
              "      <td>0</td>\n",
              "      <td>0</td>\n",
              "      <td>0</td>\n",
              "      <td>0</td>\n",
              "      <td>0</td>\n",
              "      <td>1</td>\n",
              "      <td>1</td>\n",
              "      <td>...</td>\n",
              "      <td>121580</td>\n",
              "      <td>121866</td>\n",
              "      <td>122108</td>\n",
              "      <td>122311</td>\n",
              "      <td>122522</td>\n",
              "      <td>122717</td>\n",
              "      <td>122999</td>\n",
              "      <td>123272</td>\n",
              "      <td>123473</td>\n",
              "      <td>123692</td>\n",
              "      <td>123900</td>\n",
              "      <td>124104</td>\n",
              "      <td>124288</td>\n",
              "      <td>124483</td>\n",
              "      <td>124682</td>\n",
              "      <td>124889</td>\n",
              "      <td>125059</td>\n",
              "      <td>125194</td>\n",
              "      <td>125311</td>\n",
              "      <td>125485</td>\n",
              "      <td>125693</td>\n",
              "      <td>125896</td>\n",
              "      <td>126156</td>\n",
              "      <td>126434</td>\n",
              "      <td>126651</td>\n",
              "      <td>126860</td>\n",
              "      <td>127107</td>\n",
              "      <td>127361</td>\n",
              "      <td>127646</td>\n",
              "      <td>127926</td>\n",
              "      <td>128198</td>\n",
              "      <td>128456</td>\n",
              "      <td>128725</td>\n",
              "      <td>128913</td>\n",
              "      <td>129218</td>\n",
              "      <td>129640</td>\n",
              "      <td>129976</td>\n",
              "      <td>130361</td>\n",
              "      <td>130681</td>\n",
              "      <td>130958</td>\n",
              "    </tr>\n",
              "    <tr>\n",
              "      <th>3</th>\n",
              "      <td>NaN</td>\n",
              "      <td>Andorra</td>\n",
              "      <td>42.506300</td>\n",
              "      <td>1.521800</td>\n",
              "      <td>0</td>\n",
              "      <td>0</td>\n",
              "      <td>0</td>\n",
              "      <td>0</td>\n",
              "      <td>0</td>\n",
              "      <td>0</td>\n",
              "      <td>0</td>\n",
              "      <td>0</td>\n",
              "      <td>0</td>\n",
              "      <td>0</td>\n",
              "      <td>0</td>\n",
              "      <td>0</td>\n",
              "      <td>0</td>\n",
              "      <td>0</td>\n",
              "      <td>0</td>\n",
              "      <td>0</td>\n",
              "      <td>0</td>\n",
              "      <td>0</td>\n",
              "      <td>0</td>\n",
              "      <td>0</td>\n",
              "      <td>0</td>\n",
              "      <td>0</td>\n",
              "      <td>0</td>\n",
              "      <td>0</td>\n",
              "      <td>0</td>\n",
              "      <td>0</td>\n",
              "      <td>0</td>\n",
              "      <td>0</td>\n",
              "      <td>0</td>\n",
              "      <td>0</td>\n",
              "      <td>0</td>\n",
              "      <td>0</td>\n",
              "      <td>0</td>\n",
              "      <td>0</td>\n",
              "      <td>0</td>\n",
              "      <td>0</td>\n",
              "      <td>...</td>\n",
              "      <td>13148</td>\n",
              "      <td>13198</td>\n",
              "      <td>13232</td>\n",
              "      <td>13232</td>\n",
              "      <td>13282</td>\n",
              "      <td>13295</td>\n",
              "      <td>13316</td>\n",
              "      <td>13340</td>\n",
              "      <td>13363</td>\n",
              "      <td>13390</td>\n",
              "      <td>13406</td>\n",
              "      <td>13423</td>\n",
              "      <td>13429</td>\n",
              "      <td>13447</td>\n",
              "      <td>13470</td>\n",
              "      <td>13470</td>\n",
              "      <td>13510</td>\n",
              "      <td>13510</td>\n",
              "      <td>13510</td>\n",
              "      <td>13555</td>\n",
              "      <td>13569</td>\n",
              "      <td>13569</td>\n",
              "      <td>13569</td>\n",
              "      <td>13569</td>\n",
              "      <td>13569</td>\n",
              "      <td>13569</td>\n",
              "      <td>13569</td>\n",
              "      <td>13664</td>\n",
              "      <td>13671</td>\n",
              "      <td>13682</td>\n",
              "      <td>13693</td>\n",
              "      <td>13693</td>\n",
              "      <td>13693</td>\n",
              "      <td>13727</td>\n",
              "      <td>13729</td>\n",
              "      <td>13744</td>\n",
              "      <td>13752</td>\n",
              "      <td>13758</td>\n",
              "      <td>13758</td>\n",
              "      <td>13758</td>\n",
              "    </tr>\n",
              "    <tr>\n",
              "      <th>4</th>\n",
              "      <td>NaN</td>\n",
              "      <td>Angola</td>\n",
              "      <td>-11.202700</td>\n",
              "      <td>17.873900</td>\n",
              "      <td>0</td>\n",
              "      <td>0</td>\n",
              "      <td>0</td>\n",
              "      <td>0</td>\n",
              "      <td>0</td>\n",
              "      <td>0</td>\n",
              "      <td>0</td>\n",
              "      <td>0</td>\n",
              "      <td>0</td>\n",
              "      <td>0</td>\n",
              "      <td>0</td>\n",
              "      <td>0</td>\n",
              "      <td>0</td>\n",
              "      <td>0</td>\n",
              "      <td>0</td>\n",
              "      <td>0</td>\n",
              "      <td>0</td>\n",
              "      <td>0</td>\n",
              "      <td>0</td>\n",
              "      <td>0</td>\n",
              "      <td>0</td>\n",
              "      <td>0</td>\n",
              "      <td>0</td>\n",
              "      <td>0</td>\n",
              "      <td>0</td>\n",
              "      <td>0</td>\n",
              "      <td>0</td>\n",
              "      <td>0</td>\n",
              "      <td>0</td>\n",
              "      <td>0</td>\n",
              "      <td>0</td>\n",
              "      <td>0</td>\n",
              "      <td>0</td>\n",
              "      <td>0</td>\n",
              "      <td>0</td>\n",
              "      <td>0</td>\n",
              "      <td>...</td>\n",
              "      <td>26168</td>\n",
              "      <td>26431</td>\n",
              "      <td>26652</td>\n",
              "      <td>26815</td>\n",
              "      <td>26993</td>\n",
              "      <td>27133</td>\n",
              "      <td>27284</td>\n",
              "      <td>27529</td>\n",
              "      <td>27921</td>\n",
              "      <td>28201</td>\n",
              "      <td>28477</td>\n",
              "      <td>28740</td>\n",
              "      <td>28875</td>\n",
              "      <td>29146</td>\n",
              "      <td>29405</td>\n",
              "      <td>29695</td>\n",
              "      <td>30030</td>\n",
              "      <td>30354</td>\n",
              "      <td>30637</td>\n",
              "      <td>30787</td>\n",
              "      <td>31045</td>\n",
              "      <td>31438</td>\n",
              "      <td>31661</td>\n",
              "      <td>31909</td>\n",
              "      <td>32149</td>\n",
              "      <td>32441</td>\n",
              "      <td>32623</td>\n",
              "      <td>32933</td>\n",
              "      <td>33338</td>\n",
              "      <td>33607</td>\n",
              "      <td>33944</td>\n",
              "      <td>34180</td>\n",
              "      <td>34366</td>\n",
              "      <td>34551</td>\n",
              "      <td>34752</td>\n",
              "      <td>34960</td>\n",
              "      <td>35140</td>\n",
              "      <td>35307</td>\n",
              "      <td>35594</td>\n",
              "      <td>35772</td>\n",
              "    </tr>\n",
              "    <tr>\n",
              "      <th>...</th>\n",
              "      <td>...</td>\n",
              "      <td>...</td>\n",
              "      <td>...</td>\n",
              "      <td>...</td>\n",
              "      <td>...</td>\n",
              "      <td>...</td>\n",
              "      <td>...</td>\n",
              "      <td>...</td>\n",
              "      <td>...</td>\n",
              "      <td>...</td>\n",
              "      <td>...</td>\n",
              "      <td>...</td>\n",
              "      <td>...</td>\n",
              "      <td>...</td>\n",
              "      <td>...</td>\n",
              "      <td>...</td>\n",
              "      <td>...</td>\n",
              "      <td>...</td>\n",
              "      <td>...</td>\n",
              "      <td>...</td>\n",
              "      <td>...</td>\n",
              "      <td>...</td>\n",
              "      <td>...</td>\n",
              "      <td>...</td>\n",
              "      <td>...</td>\n",
              "      <td>...</td>\n",
              "      <td>...</td>\n",
              "      <td>...</td>\n",
              "      <td>...</td>\n",
              "      <td>...</td>\n",
              "      <td>...</td>\n",
              "      <td>...</td>\n",
              "      <td>...</td>\n",
              "      <td>...</td>\n",
              "      <td>...</td>\n",
              "      <td>...</td>\n",
              "      <td>...</td>\n",
              "      <td>...</td>\n",
              "      <td>...</td>\n",
              "      <td>...</td>\n",
              "      <td>...</td>\n",
              "      <td>...</td>\n",
              "      <td>...</td>\n",
              "      <td>...</td>\n",
              "      <td>...</td>\n",
              "      <td>...</td>\n",
              "      <td>...</td>\n",
              "      <td>...</td>\n",
              "      <td>...</td>\n",
              "      <td>...</td>\n",
              "      <td>...</td>\n",
              "      <td>...</td>\n",
              "      <td>...</td>\n",
              "      <td>...</td>\n",
              "      <td>...</td>\n",
              "      <td>...</td>\n",
              "      <td>...</td>\n",
              "      <td>...</td>\n",
              "      <td>...</td>\n",
              "      <td>...</td>\n",
              "      <td>...</td>\n",
              "      <td>...</td>\n",
              "      <td>...</td>\n",
              "      <td>...</td>\n",
              "      <td>...</td>\n",
              "      <td>...</td>\n",
              "      <td>...</td>\n",
              "      <td>...</td>\n",
              "      <td>...</td>\n",
              "      <td>...</td>\n",
              "      <td>...</td>\n",
              "      <td>...</td>\n",
              "      <td>...</td>\n",
              "      <td>...</td>\n",
              "      <td>...</td>\n",
              "      <td>...</td>\n",
              "      <td>...</td>\n",
              "      <td>...</td>\n",
              "      <td>...</td>\n",
              "      <td>...</td>\n",
              "      <td>...</td>\n",
              "    </tr>\n",
              "    <tr>\n",
              "      <th>271</th>\n",
              "      <td>NaN</td>\n",
              "      <td>Vietnam</td>\n",
              "      <td>14.058324</td>\n",
              "      <td>108.277199</td>\n",
              "      <td>0</td>\n",
              "      <td>2</td>\n",
              "      <td>2</td>\n",
              "      <td>2</td>\n",
              "      <td>2</td>\n",
              "      <td>2</td>\n",
              "      <td>2</td>\n",
              "      <td>2</td>\n",
              "      <td>2</td>\n",
              "      <td>2</td>\n",
              "      <td>6</td>\n",
              "      <td>6</td>\n",
              "      <td>8</td>\n",
              "      <td>8</td>\n",
              "      <td>8</td>\n",
              "      <td>10</td>\n",
              "      <td>10</td>\n",
              "      <td>13</td>\n",
              "      <td>13</td>\n",
              "      <td>14</td>\n",
              "      <td>15</td>\n",
              "      <td>15</td>\n",
              "      <td>16</td>\n",
              "      <td>16</td>\n",
              "      <td>16</td>\n",
              "      <td>16</td>\n",
              "      <td>16</td>\n",
              "      <td>16</td>\n",
              "      <td>16</td>\n",
              "      <td>16</td>\n",
              "      <td>16</td>\n",
              "      <td>16</td>\n",
              "      <td>16</td>\n",
              "      <td>16</td>\n",
              "      <td>16</td>\n",
              "      <td>16</td>\n",
              "      <td>...</td>\n",
              "      <td>2865</td>\n",
              "      <td>2910</td>\n",
              "      <td>2928</td>\n",
              "      <td>2942</td>\n",
              "      <td>2962</td>\n",
              "      <td>2985</td>\n",
              "      <td>2995</td>\n",
              "      <td>3030</td>\n",
              "      <td>3090</td>\n",
              "      <td>3137</td>\n",
              "      <td>3245</td>\n",
              "      <td>3412</td>\n",
              "      <td>3489</td>\n",
              "      <td>3571</td>\n",
              "      <td>3658</td>\n",
              "      <td>3740</td>\n",
              "      <td>3816</td>\n",
              "      <td>4112</td>\n",
              "      <td>4212</td>\n",
              "      <td>4359</td>\n",
              "      <td>4512</td>\n",
              "      <td>4720</td>\n",
              "      <td>4809</td>\n",
              "      <td>4941</td>\n",
              "      <td>5119</td>\n",
              "      <td>5275</td>\n",
              "      <td>5404</td>\n",
              "      <td>5931</td>\n",
              "      <td>6086</td>\n",
              "      <td>6356</td>\n",
              "      <td>6396</td>\n",
              "      <td>6908</td>\n",
              "      <td>7107</td>\n",
              "      <td>7432</td>\n",
              "      <td>7625</td>\n",
              "      <td>7870</td>\n",
              "      <td>8063</td>\n",
              "      <td>8364</td>\n",
              "      <td>8580</td>\n",
              "      <td>8791</td>\n",
              "    </tr>\n",
              "    <tr>\n",
              "      <th>272</th>\n",
              "      <td>NaN</td>\n",
              "      <td>West Bank and Gaza</td>\n",
              "      <td>31.952200</td>\n",
              "      <td>35.233200</td>\n",
              "      <td>0</td>\n",
              "      <td>0</td>\n",
              "      <td>0</td>\n",
              "      <td>0</td>\n",
              "      <td>0</td>\n",
              "      <td>0</td>\n",
              "      <td>0</td>\n",
              "      <td>0</td>\n",
              "      <td>0</td>\n",
              "      <td>0</td>\n",
              "      <td>0</td>\n",
              "      <td>0</td>\n",
              "      <td>0</td>\n",
              "      <td>0</td>\n",
              "      <td>0</td>\n",
              "      <td>0</td>\n",
              "      <td>0</td>\n",
              "      <td>0</td>\n",
              "      <td>0</td>\n",
              "      <td>0</td>\n",
              "      <td>0</td>\n",
              "      <td>0</td>\n",
              "      <td>0</td>\n",
              "      <td>0</td>\n",
              "      <td>0</td>\n",
              "      <td>0</td>\n",
              "      <td>0</td>\n",
              "      <td>0</td>\n",
              "      <td>0</td>\n",
              "      <td>0</td>\n",
              "      <td>0</td>\n",
              "      <td>0</td>\n",
              "      <td>0</td>\n",
              "      <td>0</td>\n",
              "      <td>0</td>\n",
              "      <td>0</td>\n",
              "      <td>...</td>\n",
              "      <td>294550</td>\n",
              "      <td>295601</td>\n",
              "      <td>296462</td>\n",
              "      <td>296462</td>\n",
              "      <td>297638</td>\n",
              "      <td>298203</td>\n",
              "      <td>298921</td>\n",
              "      <td>299736</td>\n",
              "      <td>300387</td>\n",
              "      <td>300946</td>\n",
              "      <td>301437</td>\n",
              "      <td>301751</td>\n",
              "      <td>302249</td>\n",
              "      <td>302777</td>\n",
              "      <td>303270</td>\n",
              "      <td>303270</td>\n",
              "      <td>303270</td>\n",
              "      <td>303658</td>\n",
              "      <td>303827</td>\n",
              "      <td>304074</td>\n",
              "      <td>304074</td>\n",
              "      <td>304532</td>\n",
              "      <td>304532</td>\n",
              "      <td>304968</td>\n",
              "      <td>305201</td>\n",
              "      <td>305201</td>\n",
              "      <td>305777</td>\n",
              "      <td>306334</td>\n",
              "      <td>306795</td>\n",
              "      <td>306795</td>\n",
              "      <td>307569</td>\n",
              "      <td>307838</td>\n",
              "      <td>308048</td>\n",
              "      <td>308350</td>\n",
              "      <td>308732</td>\n",
              "      <td>309036</td>\n",
              "      <td>309333</td>\n",
              "      <td>309644</td>\n",
              "      <td>309853</td>\n",
              "      <td>310026</td>\n",
              "    </tr>\n",
              "    <tr>\n",
              "      <th>273</th>\n",
              "      <td>NaN</td>\n",
              "      <td>Yemen</td>\n",
              "      <td>15.552727</td>\n",
              "      <td>48.516388</td>\n",
              "      <td>0</td>\n",
              "      <td>0</td>\n",
              "      <td>0</td>\n",
              "      <td>0</td>\n",
              "      <td>0</td>\n",
              "      <td>0</td>\n",
              "      <td>0</td>\n",
              "      <td>0</td>\n",
              "      <td>0</td>\n",
              "      <td>0</td>\n",
              "      <td>0</td>\n",
              "      <td>0</td>\n",
              "      <td>0</td>\n",
              "      <td>0</td>\n",
              "      <td>0</td>\n",
              "      <td>0</td>\n",
              "      <td>0</td>\n",
              "      <td>0</td>\n",
              "      <td>0</td>\n",
              "      <td>0</td>\n",
              "      <td>0</td>\n",
              "      <td>0</td>\n",
              "      <td>0</td>\n",
              "      <td>0</td>\n",
              "      <td>0</td>\n",
              "      <td>0</td>\n",
              "      <td>0</td>\n",
              "      <td>0</td>\n",
              "      <td>0</td>\n",
              "      <td>0</td>\n",
              "      <td>0</td>\n",
              "      <td>0</td>\n",
              "      <td>0</td>\n",
              "      <td>0</td>\n",
              "      <td>0</td>\n",
              "      <td>0</td>\n",
              "      <td>...</td>\n",
              "      <td>6263</td>\n",
              "      <td>6294</td>\n",
              "      <td>6317</td>\n",
              "      <td>6325</td>\n",
              "      <td>6341</td>\n",
              "      <td>6363</td>\n",
              "      <td>6390</td>\n",
              "      <td>6414</td>\n",
              "      <td>6426</td>\n",
              "      <td>6446</td>\n",
              "      <td>6462</td>\n",
              "      <td>6482</td>\n",
              "      <td>6485</td>\n",
              "      <td>6492</td>\n",
              "      <td>6498</td>\n",
              "      <td>6507</td>\n",
              "      <td>6523</td>\n",
              "      <td>6538</td>\n",
              "      <td>6543</td>\n",
              "      <td>6568</td>\n",
              "      <td>6586</td>\n",
              "      <td>6593</td>\n",
              "      <td>6613</td>\n",
              "      <td>6632</td>\n",
              "      <td>6649</td>\n",
              "      <td>6658</td>\n",
              "      <td>6662</td>\n",
              "      <td>6670</td>\n",
              "      <td>6688</td>\n",
              "      <td>6696</td>\n",
              "      <td>6723</td>\n",
              "      <td>6731</td>\n",
              "      <td>6737</td>\n",
              "      <td>6742</td>\n",
              "      <td>6751</td>\n",
              "      <td>6759</td>\n",
              "      <td>6767</td>\n",
              "      <td>6773</td>\n",
              "      <td>6780</td>\n",
              "      <td>6787</td>\n",
              "    </tr>\n",
              "    <tr>\n",
              "      <th>274</th>\n",
              "      <td>NaN</td>\n",
              "      <td>Zambia</td>\n",
              "      <td>-13.133897</td>\n",
              "      <td>27.849332</td>\n",
              "      <td>0</td>\n",
              "      <td>0</td>\n",
              "      <td>0</td>\n",
              "      <td>0</td>\n",
              "      <td>0</td>\n",
              "      <td>0</td>\n",
              "      <td>0</td>\n",
              "      <td>0</td>\n",
              "      <td>0</td>\n",
              "      <td>0</td>\n",
              "      <td>0</td>\n",
              "      <td>0</td>\n",
              "      <td>0</td>\n",
              "      <td>0</td>\n",
              "      <td>0</td>\n",
              "      <td>0</td>\n",
              "      <td>0</td>\n",
              "      <td>0</td>\n",
              "      <td>0</td>\n",
              "      <td>0</td>\n",
              "      <td>0</td>\n",
              "      <td>0</td>\n",
              "      <td>0</td>\n",
              "      <td>0</td>\n",
              "      <td>0</td>\n",
              "      <td>0</td>\n",
              "      <td>0</td>\n",
              "      <td>0</td>\n",
              "      <td>0</td>\n",
              "      <td>0</td>\n",
              "      <td>0</td>\n",
              "      <td>0</td>\n",
              "      <td>0</td>\n",
              "      <td>0</td>\n",
              "      <td>0</td>\n",
              "      <td>0</td>\n",
              "      <td>...</td>\n",
              "      <td>91484</td>\n",
              "      <td>91533</td>\n",
              "      <td>91586</td>\n",
              "      <td>91670</td>\n",
              "      <td>91693</td>\n",
              "      <td>91722</td>\n",
              "      <td>91804</td>\n",
              "      <td>91849</td>\n",
              "      <td>91946</td>\n",
              "      <td>92004</td>\n",
              "      <td>92057</td>\n",
              "      <td>92092</td>\n",
              "      <td>92112</td>\n",
              "      <td>92152</td>\n",
              "      <td>92211</td>\n",
              "      <td>92262</td>\n",
              "      <td>92356</td>\n",
              "      <td>92409</td>\n",
              "      <td>92436</td>\n",
              "      <td>92460</td>\n",
              "      <td>92520</td>\n",
              "      <td>92630</td>\n",
              "      <td>92754</td>\n",
              "      <td>92920</td>\n",
              "      <td>93106</td>\n",
              "      <td>93201</td>\n",
              "      <td>93279</td>\n",
              "      <td>93428</td>\n",
              "      <td>93627</td>\n",
              "      <td>93947</td>\n",
              "      <td>94430</td>\n",
              "      <td>94751</td>\n",
              "      <td>95050</td>\n",
              "      <td>95263</td>\n",
              "      <td>95821</td>\n",
              "      <td>96563</td>\n",
              "      <td>97388</td>\n",
              "      <td>98376</td>\n",
              "      <td>99540</td>\n",
              "      <td>100278</td>\n",
              "    </tr>\n",
              "    <tr>\n",
              "      <th>275</th>\n",
              "      <td>NaN</td>\n",
              "      <td>Zimbabwe</td>\n",
              "      <td>-19.015438</td>\n",
              "      <td>29.154857</td>\n",
              "      <td>0</td>\n",
              "      <td>0</td>\n",
              "      <td>0</td>\n",
              "      <td>0</td>\n",
              "      <td>0</td>\n",
              "      <td>0</td>\n",
              "      <td>0</td>\n",
              "      <td>0</td>\n",
              "      <td>0</td>\n",
              "      <td>0</td>\n",
              "      <td>0</td>\n",
              "      <td>0</td>\n",
              "      <td>0</td>\n",
              "      <td>0</td>\n",
              "      <td>0</td>\n",
              "      <td>0</td>\n",
              "      <td>0</td>\n",
              "      <td>0</td>\n",
              "      <td>0</td>\n",
              "      <td>0</td>\n",
              "      <td>0</td>\n",
              "      <td>0</td>\n",
              "      <td>0</td>\n",
              "      <td>0</td>\n",
              "      <td>0</td>\n",
              "      <td>0</td>\n",
              "      <td>0</td>\n",
              "      <td>0</td>\n",
              "      <td>0</td>\n",
              "      <td>0</td>\n",
              "      <td>0</td>\n",
              "      <td>0</td>\n",
              "      <td>0</td>\n",
              "      <td>0</td>\n",
              "      <td>0</td>\n",
              "      <td>0</td>\n",
              "      <td>...</td>\n",
              "      <td>38191</td>\n",
              "      <td>38235</td>\n",
              "      <td>38257</td>\n",
              "      <td>38260</td>\n",
              "      <td>38281</td>\n",
              "      <td>38293</td>\n",
              "      <td>38327</td>\n",
              "      <td>38357</td>\n",
              "      <td>38398</td>\n",
              "      <td>38403</td>\n",
              "      <td>38414</td>\n",
              "      <td>38419</td>\n",
              "      <td>38433</td>\n",
              "      <td>38448</td>\n",
              "      <td>38466</td>\n",
              "      <td>38491</td>\n",
              "      <td>38535</td>\n",
              "      <td>38554</td>\n",
              "      <td>38560</td>\n",
              "      <td>38572</td>\n",
              "      <td>38595</td>\n",
              "      <td>38612</td>\n",
              "      <td>38635</td>\n",
              "      <td>38664</td>\n",
              "      <td>38679</td>\n",
              "      <td>38682</td>\n",
              "      <td>38696</td>\n",
              "      <td>38706</td>\n",
              "      <td>38819</td>\n",
              "      <td>38854</td>\n",
              "      <td>38918</td>\n",
              "      <td>38933</td>\n",
              "      <td>38944</td>\n",
              "      <td>38961</td>\n",
              "      <td>38998</td>\n",
              "      <td>39031</td>\n",
              "      <td>39092</td>\n",
              "      <td>39144</td>\n",
              "      <td>39168</td>\n",
              "      <td>39189</td>\n",
              "    </tr>\n",
              "  </tbody>\n",
              "</table>\n",
              "<p>276 rows × 506 columns</p>\n",
              "</div>"
            ],
            "text/plain": [
              "    Province/State             Country        Lat  ...  6/4/21  6/5/21  6/6/21\n",
              "0              NaN         Afghanistan  33.939110  ...   76628   77963   79224\n",
              "1              NaN             Albania  41.153300  ...  132372  132374  132379\n",
              "2              NaN             Algeria  28.033900  ...  130361  130681  130958\n",
              "3              NaN             Andorra  42.506300  ...   13758   13758   13758\n",
              "4              NaN              Angola -11.202700  ...   35307   35594   35772\n",
              "..             ...                 ...        ...  ...     ...     ...     ...\n",
              "271            NaN             Vietnam  14.058324  ...    8364    8580    8791\n",
              "272            NaN  West Bank and Gaza  31.952200  ...  309644  309853  310026\n",
              "273            NaN               Yemen  15.552727  ...    6773    6780    6787\n",
              "274            NaN              Zambia -13.133897  ...   98376   99540  100278\n",
              "275            NaN            Zimbabwe -19.015438  ...   39144   39168   39189\n",
              "\n",
              "[276 rows x 506 columns]"
            ]
          },
          "metadata": {
            "tags": []
          },
          "execution_count": 6
        }
      ]
    },
    {
      "cell_type": "code",
      "metadata": {
        "colab": {
          "base_uri": "https://localhost:8080/",
          "height": 455
        },
        "id": "TtCZznOQHDbS",
        "outputId": "0cffaf65-867b-45a6-9803-d7563f4ee3bc"
      },
      "source": [
        "deaths_reported"
      ],
      "id": "TtCZznOQHDbS",
      "execution_count": 7,
      "outputs": [
        {
          "output_type": "execute_result",
          "data": {
            "text/html": [
              "<div>\n",
              "<style scoped>\n",
              "    .dataframe tbody tr th:only-of-type {\n",
              "        vertical-align: middle;\n",
              "    }\n",
              "\n",
              "    .dataframe tbody tr th {\n",
              "        vertical-align: top;\n",
              "    }\n",
              "\n",
              "    .dataframe thead th {\n",
              "        text-align: right;\n",
              "    }\n",
              "</style>\n",
              "<table border=\"1\" class=\"dataframe\">\n",
              "  <thead>\n",
              "    <tr style=\"text-align: right;\">\n",
              "      <th></th>\n",
              "      <th>Province/State</th>\n",
              "      <th>Country</th>\n",
              "      <th>Lat</th>\n",
              "      <th>Long</th>\n",
              "      <th>1/22/20</th>\n",
              "      <th>1/23/20</th>\n",
              "      <th>1/24/20</th>\n",
              "      <th>1/25/20</th>\n",
              "      <th>1/26/20</th>\n",
              "      <th>1/27/20</th>\n",
              "      <th>1/28/20</th>\n",
              "      <th>1/29/20</th>\n",
              "      <th>1/30/20</th>\n",
              "      <th>1/31/20</th>\n",
              "      <th>2/1/20</th>\n",
              "      <th>2/2/20</th>\n",
              "      <th>2/3/20</th>\n",
              "      <th>2/4/20</th>\n",
              "      <th>2/5/20</th>\n",
              "      <th>2/6/20</th>\n",
              "      <th>2/7/20</th>\n",
              "      <th>2/8/20</th>\n",
              "      <th>2/9/20</th>\n",
              "      <th>2/10/20</th>\n",
              "      <th>2/11/20</th>\n",
              "      <th>2/12/20</th>\n",
              "      <th>2/13/20</th>\n",
              "      <th>2/14/20</th>\n",
              "      <th>2/15/20</th>\n",
              "      <th>2/16/20</th>\n",
              "      <th>2/17/20</th>\n",
              "      <th>2/18/20</th>\n",
              "      <th>2/19/20</th>\n",
              "      <th>2/20/20</th>\n",
              "      <th>2/21/20</th>\n",
              "      <th>2/22/20</th>\n",
              "      <th>2/23/20</th>\n",
              "      <th>2/24/20</th>\n",
              "      <th>2/25/20</th>\n",
              "      <th>2/26/20</th>\n",
              "      <th>...</th>\n",
              "      <th>4/28/21</th>\n",
              "      <th>4/29/21</th>\n",
              "      <th>4/30/21</th>\n",
              "      <th>5/1/21</th>\n",
              "      <th>5/2/21</th>\n",
              "      <th>5/3/21</th>\n",
              "      <th>5/4/21</th>\n",
              "      <th>5/5/21</th>\n",
              "      <th>5/6/21</th>\n",
              "      <th>5/7/21</th>\n",
              "      <th>5/8/21</th>\n",
              "      <th>5/9/21</th>\n",
              "      <th>5/10/21</th>\n",
              "      <th>5/11/21</th>\n",
              "      <th>5/12/21</th>\n",
              "      <th>5/13/21</th>\n",
              "      <th>5/14/21</th>\n",
              "      <th>5/15/21</th>\n",
              "      <th>5/16/21</th>\n",
              "      <th>5/17/21</th>\n",
              "      <th>5/18/21</th>\n",
              "      <th>5/19/21</th>\n",
              "      <th>5/20/21</th>\n",
              "      <th>5/21/21</th>\n",
              "      <th>5/22/21</th>\n",
              "      <th>5/23/21</th>\n",
              "      <th>5/24/21</th>\n",
              "      <th>5/25/21</th>\n",
              "      <th>5/26/21</th>\n",
              "      <th>5/27/21</th>\n",
              "      <th>5/28/21</th>\n",
              "      <th>5/29/21</th>\n",
              "      <th>5/30/21</th>\n",
              "      <th>5/31/21</th>\n",
              "      <th>6/1/21</th>\n",
              "      <th>6/2/21</th>\n",
              "      <th>6/3/21</th>\n",
              "      <th>6/4/21</th>\n",
              "      <th>6/5/21</th>\n",
              "      <th>6/6/21</th>\n",
              "    </tr>\n",
              "  </thead>\n",
              "  <tbody>\n",
              "    <tr>\n",
              "      <th>0</th>\n",
              "      <td>NaN</td>\n",
              "      <td>Afghanistan</td>\n",
              "      <td>33.939110</td>\n",
              "      <td>67.709953</td>\n",
              "      <td>0</td>\n",
              "      <td>0</td>\n",
              "      <td>0</td>\n",
              "      <td>0</td>\n",
              "      <td>0</td>\n",
              "      <td>0</td>\n",
              "      <td>0</td>\n",
              "      <td>0</td>\n",
              "      <td>0</td>\n",
              "      <td>0</td>\n",
              "      <td>0</td>\n",
              "      <td>0</td>\n",
              "      <td>0</td>\n",
              "      <td>0</td>\n",
              "      <td>0</td>\n",
              "      <td>0</td>\n",
              "      <td>0</td>\n",
              "      <td>0</td>\n",
              "      <td>0</td>\n",
              "      <td>0</td>\n",
              "      <td>0</td>\n",
              "      <td>0</td>\n",
              "      <td>0</td>\n",
              "      <td>0</td>\n",
              "      <td>0</td>\n",
              "      <td>0</td>\n",
              "      <td>0</td>\n",
              "      <td>0</td>\n",
              "      <td>0</td>\n",
              "      <td>0</td>\n",
              "      <td>0</td>\n",
              "      <td>0</td>\n",
              "      <td>0</td>\n",
              "      <td>0</td>\n",
              "      <td>0</td>\n",
              "      <td>0</td>\n",
              "      <td>...</td>\n",
              "      <td>2611</td>\n",
              "      <td>2618</td>\n",
              "      <td>2625</td>\n",
              "      <td>2631</td>\n",
              "      <td>2637</td>\n",
              "      <td>2642</td>\n",
              "      <td>2648</td>\n",
              "      <td>2654</td>\n",
              "      <td>2664</td>\n",
              "      <td>2673</td>\n",
              "      <td>2683</td>\n",
              "      <td>2686</td>\n",
              "      <td>2698</td>\n",
              "      <td>2710</td>\n",
              "      <td>2713</td>\n",
              "      <td>2721</td>\n",
              "      <td>2730</td>\n",
              "      <td>2733</td>\n",
              "      <td>2742</td>\n",
              "      <td>2745</td>\n",
              "      <td>2751</td>\n",
              "      <td>2762</td>\n",
              "      <td>2772</td>\n",
              "      <td>2782</td>\n",
              "      <td>2792</td>\n",
              "      <td>2802</td>\n",
              "      <td>2812</td>\n",
              "      <td>2836</td>\n",
              "      <td>2855</td>\n",
              "      <td>2869</td>\n",
              "      <td>2881</td>\n",
              "      <td>2899</td>\n",
              "      <td>2919</td>\n",
              "      <td>2944</td>\n",
              "      <td>2973</td>\n",
              "      <td>3007</td>\n",
              "      <td>3034</td>\n",
              "      <td>3068</td>\n",
              "      <td>3104</td>\n",
              "      <td>3145</td>\n",
              "    </tr>\n",
              "    <tr>\n",
              "      <th>1</th>\n",
              "      <td>NaN</td>\n",
              "      <td>Albania</td>\n",
              "      <td>41.153300</td>\n",
              "      <td>20.168300</td>\n",
              "      <td>0</td>\n",
              "      <td>0</td>\n",
              "      <td>0</td>\n",
              "      <td>0</td>\n",
              "      <td>0</td>\n",
              "      <td>0</td>\n",
              "      <td>0</td>\n",
              "      <td>0</td>\n",
              "      <td>0</td>\n",
              "      <td>0</td>\n",
              "      <td>0</td>\n",
              "      <td>0</td>\n",
              "      <td>0</td>\n",
              "      <td>0</td>\n",
              "      <td>0</td>\n",
              "      <td>0</td>\n",
              "      <td>0</td>\n",
              "      <td>0</td>\n",
              "      <td>0</td>\n",
              "      <td>0</td>\n",
              "      <td>0</td>\n",
              "      <td>0</td>\n",
              "      <td>0</td>\n",
              "      <td>0</td>\n",
              "      <td>0</td>\n",
              "      <td>0</td>\n",
              "      <td>0</td>\n",
              "      <td>0</td>\n",
              "      <td>0</td>\n",
              "      <td>0</td>\n",
              "      <td>0</td>\n",
              "      <td>0</td>\n",
              "      <td>0</td>\n",
              "      <td>0</td>\n",
              "      <td>0</td>\n",
              "      <td>0</td>\n",
              "      <td>...</td>\n",
              "      <td>2386</td>\n",
              "      <td>2389</td>\n",
              "      <td>2394</td>\n",
              "      <td>2396</td>\n",
              "      <td>2397</td>\n",
              "      <td>2399</td>\n",
              "      <td>2402</td>\n",
              "      <td>2403</td>\n",
              "      <td>2406</td>\n",
              "      <td>2408</td>\n",
              "      <td>2411</td>\n",
              "      <td>2412</td>\n",
              "      <td>2416</td>\n",
              "      <td>2420</td>\n",
              "      <td>2423</td>\n",
              "      <td>2426</td>\n",
              "      <td>2427</td>\n",
              "      <td>2429</td>\n",
              "      <td>2432</td>\n",
              "      <td>2435</td>\n",
              "      <td>2436</td>\n",
              "      <td>2438</td>\n",
              "      <td>2440</td>\n",
              "      <td>2441</td>\n",
              "      <td>2442</td>\n",
              "      <td>2444</td>\n",
              "      <td>2445</td>\n",
              "      <td>2447</td>\n",
              "      <td>2447</td>\n",
              "      <td>2447</td>\n",
              "      <td>2448</td>\n",
              "      <td>2449</td>\n",
              "      <td>2450</td>\n",
              "      <td>2451</td>\n",
              "      <td>2451</td>\n",
              "      <td>2451</td>\n",
              "      <td>2451</td>\n",
              "      <td>2451</td>\n",
              "      <td>2451</td>\n",
              "      <td>2451</td>\n",
              "    </tr>\n",
              "    <tr>\n",
              "      <th>2</th>\n",
              "      <td>NaN</td>\n",
              "      <td>Algeria</td>\n",
              "      <td>28.033900</td>\n",
              "      <td>1.659600</td>\n",
              "      <td>0</td>\n",
              "      <td>0</td>\n",
              "      <td>0</td>\n",
              "      <td>0</td>\n",
              "      <td>0</td>\n",
              "      <td>0</td>\n",
              "      <td>0</td>\n",
              "      <td>0</td>\n",
              "      <td>0</td>\n",
              "      <td>0</td>\n",
              "      <td>0</td>\n",
              "      <td>0</td>\n",
              "      <td>0</td>\n",
              "      <td>0</td>\n",
              "      <td>0</td>\n",
              "      <td>0</td>\n",
              "      <td>0</td>\n",
              "      <td>0</td>\n",
              "      <td>0</td>\n",
              "      <td>0</td>\n",
              "      <td>0</td>\n",
              "      <td>0</td>\n",
              "      <td>0</td>\n",
              "      <td>0</td>\n",
              "      <td>0</td>\n",
              "      <td>0</td>\n",
              "      <td>0</td>\n",
              "      <td>0</td>\n",
              "      <td>0</td>\n",
              "      <td>0</td>\n",
              "      <td>0</td>\n",
              "      <td>0</td>\n",
              "      <td>0</td>\n",
              "      <td>0</td>\n",
              "      <td>0</td>\n",
              "      <td>0</td>\n",
              "      <td>...</td>\n",
              "      <td>3234</td>\n",
              "      <td>3244</td>\n",
              "      <td>3253</td>\n",
              "      <td>3261</td>\n",
              "      <td>3270</td>\n",
              "      <td>3280</td>\n",
              "      <td>3289</td>\n",
              "      <td>3299</td>\n",
              "      <td>3307</td>\n",
              "      <td>3315</td>\n",
              "      <td>3321</td>\n",
              "      <td>3328</td>\n",
              "      <td>3335</td>\n",
              "      <td>3343</td>\n",
              "      <td>3350</td>\n",
              "      <td>3355</td>\n",
              "      <td>3360</td>\n",
              "      <td>3366</td>\n",
              "      <td>3374</td>\n",
              "      <td>3381</td>\n",
              "      <td>3388</td>\n",
              "      <td>3395</td>\n",
              "      <td>3401</td>\n",
              "      <td>3405</td>\n",
              "      <td>3411</td>\n",
              "      <td>3418</td>\n",
              "      <td>3426</td>\n",
              "      <td>3433</td>\n",
              "      <td>3440</td>\n",
              "      <td>3448</td>\n",
              "      <td>3455</td>\n",
              "      <td>3460</td>\n",
              "      <td>3465</td>\n",
              "      <td>3472</td>\n",
              "      <td>3480</td>\n",
              "      <td>3490</td>\n",
              "      <td>3497</td>\n",
              "      <td>3504</td>\n",
              "      <td>3510</td>\n",
              "      <td>3518</td>\n",
              "    </tr>\n",
              "    <tr>\n",
              "      <th>3</th>\n",
              "      <td>NaN</td>\n",
              "      <td>Andorra</td>\n",
              "      <td>42.506300</td>\n",
              "      <td>1.521800</td>\n",
              "      <td>0</td>\n",
              "      <td>0</td>\n",
              "      <td>0</td>\n",
              "      <td>0</td>\n",
              "      <td>0</td>\n",
              "      <td>0</td>\n",
              "      <td>0</td>\n",
              "      <td>0</td>\n",
              "      <td>0</td>\n",
              "      <td>0</td>\n",
              "      <td>0</td>\n",
              "      <td>0</td>\n",
              "      <td>0</td>\n",
              "      <td>0</td>\n",
              "      <td>0</td>\n",
              "      <td>0</td>\n",
              "      <td>0</td>\n",
              "      <td>0</td>\n",
              "      <td>0</td>\n",
              "      <td>0</td>\n",
              "      <td>0</td>\n",
              "      <td>0</td>\n",
              "      <td>0</td>\n",
              "      <td>0</td>\n",
              "      <td>0</td>\n",
              "      <td>0</td>\n",
              "      <td>0</td>\n",
              "      <td>0</td>\n",
              "      <td>0</td>\n",
              "      <td>0</td>\n",
              "      <td>0</td>\n",
              "      <td>0</td>\n",
              "      <td>0</td>\n",
              "      <td>0</td>\n",
              "      <td>0</td>\n",
              "      <td>0</td>\n",
              "      <td>...</td>\n",
              "      <td>125</td>\n",
              "      <td>125</td>\n",
              "      <td>125</td>\n",
              "      <td>125</td>\n",
              "      <td>127</td>\n",
              "      <td>127</td>\n",
              "      <td>127</td>\n",
              "      <td>127</td>\n",
              "      <td>127</td>\n",
              "      <td>127</td>\n",
              "      <td>127</td>\n",
              "      <td>127</td>\n",
              "      <td>127</td>\n",
              "      <td>127</td>\n",
              "      <td>127</td>\n",
              "      <td>127</td>\n",
              "      <td>127</td>\n",
              "      <td>127</td>\n",
              "      <td>127</td>\n",
              "      <td>127</td>\n",
              "      <td>127</td>\n",
              "      <td>127</td>\n",
              "      <td>127</td>\n",
              "      <td>127</td>\n",
              "      <td>127</td>\n",
              "      <td>127</td>\n",
              "      <td>127</td>\n",
              "      <td>127</td>\n",
              "      <td>127</td>\n",
              "      <td>127</td>\n",
              "      <td>127</td>\n",
              "      <td>127</td>\n",
              "      <td>127</td>\n",
              "      <td>127</td>\n",
              "      <td>127</td>\n",
              "      <td>127</td>\n",
              "      <td>127</td>\n",
              "      <td>127</td>\n",
              "      <td>127</td>\n",
              "      <td>127</td>\n",
              "    </tr>\n",
              "    <tr>\n",
              "      <th>4</th>\n",
              "      <td>NaN</td>\n",
              "      <td>Angola</td>\n",
              "      <td>-11.202700</td>\n",
              "      <td>17.873900</td>\n",
              "      <td>0</td>\n",
              "      <td>0</td>\n",
              "      <td>0</td>\n",
              "      <td>0</td>\n",
              "      <td>0</td>\n",
              "      <td>0</td>\n",
              "      <td>0</td>\n",
              "      <td>0</td>\n",
              "      <td>0</td>\n",
              "      <td>0</td>\n",
              "      <td>0</td>\n",
              "      <td>0</td>\n",
              "      <td>0</td>\n",
              "      <td>0</td>\n",
              "      <td>0</td>\n",
              "      <td>0</td>\n",
              "      <td>0</td>\n",
              "      <td>0</td>\n",
              "      <td>0</td>\n",
              "      <td>0</td>\n",
              "      <td>0</td>\n",
              "      <td>0</td>\n",
              "      <td>0</td>\n",
              "      <td>0</td>\n",
              "      <td>0</td>\n",
              "      <td>0</td>\n",
              "      <td>0</td>\n",
              "      <td>0</td>\n",
              "      <td>0</td>\n",
              "      <td>0</td>\n",
              "      <td>0</td>\n",
              "      <td>0</td>\n",
              "      <td>0</td>\n",
              "      <td>0</td>\n",
              "      <td>0</td>\n",
              "      <td>0</td>\n",
              "      <td>...</td>\n",
              "      <td>591</td>\n",
              "      <td>594</td>\n",
              "      <td>596</td>\n",
              "      <td>600</td>\n",
              "      <td>602</td>\n",
              "      <td>603</td>\n",
              "      <td>609</td>\n",
              "      <td>618</td>\n",
              "      <td>622</td>\n",
              "      <td>628</td>\n",
              "      <td>630</td>\n",
              "      <td>633</td>\n",
              "      <td>636</td>\n",
              "      <td>639</td>\n",
              "      <td>645</td>\n",
              "      <td>649</td>\n",
              "      <td>651</td>\n",
              "      <td>655</td>\n",
              "      <td>659</td>\n",
              "      <td>677</td>\n",
              "      <td>685</td>\n",
              "      <td>696</td>\n",
              "      <td>704</td>\n",
              "      <td>709</td>\n",
              "      <td>715</td>\n",
              "      <td>725</td>\n",
              "      <td>731</td>\n",
              "      <td>735</td>\n",
              "      <td>742</td>\n",
              "      <td>745</td>\n",
              "      <td>749</td>\n",
              "      <td>757</td>\n",
              "      <td>764</td>\n",
              "      <td>766</td>\n",
              "      <td>772</td>\n",
              "      <td>780</td>\n",
              "      <td>784</td>\n",
              "      <td>788</td>\n",
              "      <td>794</td>\n",
              "      <td>797</td>\n",
              "    </tr>\n",
              "    <tr>\n",
              "      <th>...</th>\n",
              "      <td>...</td>\n",
              "      <td>...</td>\n",
              "      <td>...</td>\n",
              "      <td>...</td>\n",
              "      <td>...</td>\n",
              "      <td>...</td>\n",
              "      <td>...</td>\n",
              "      <td>...</td>\n",
              "      <td>...</td>\n",
              "      <td>...</td>\n",
              "      <td>...</td>\n",
              "      <td>...</td>\n",
              "      <td>...</td>\n",
              "      <td>...</td>\n",
              "      <td>...</td>\n",
              "      <td>...</td>\n",
              "      <td>...</td>\n",
              "      <td>...</td>\n",
              "      <td>...</td>\n",
              "      <td>...</td>\n",
              "      <td>...</td>\n",
              "      <td>...</td>\n",
              "      <td>...</td>\n",
              "      <td>...</td>\n",
              "      <td>...</td>\n",
              "      <td>...</td>\n",
              "      <td>...</td>\n",
              "      <td>...</td>\n",
              "      <td>...</td>\n",
              "      <td>...</td>\n",
              "      <td>...</td>\n",
              "      <td>...</td>\n",
              "      <td>...</td>\n",
              "      <td>...</td>\n",
              "      <td>...</td>\n",
              "      <td>...</td>\n",
              "      <td>...</td>\n",
              "      <td>...</td>\n",
              "      <td>...</td>\n",
              "      <td>...</td>\n",
              "      <td>...</td>\n",
              "      <td>...</td>\n",
              "      <td>...</td>\n",
              "      <td>...</td>\n",
              "      <td>...</td>\n",
              "      <td>...</td>\n",
              "      <td>...</td>\n",
              "      <td>...</td>\n",
              "      <td>...</td>\n",
              "      <td>...</td>\n",
              "      <td>...</td>\n",
              "      <td>...</td>\n",
              "      <td>...</td>\n",
              "      <td>...</td>\n",
              "      <td>...</td>\n",
              "      <td>...</td>\n",
              "      <td>...</td>\n",
              "      <td>...</td>\n",
              "      <td>...</td>\n",
              "      <td>...</td>\n",
              "      <td>...</td>\n",
              "      <td>...</td>\n",
              "      <td>...</td>\n",
              "      <td>...</td>\n",
              "      <td>...</td>\n",
              "      <td>...</td>\n",
              "      <td>...</td>\n",
              "      <td>...</td>\n",
              "      <td>...</td>\n",
              "      <td>...</td>\n",
              "      <td>...</td>\n",
              "      <td>...</td>\n",
              "      <td>...</td>\n",
              "      <td>...</td>\n",
              "      <td>...</td>\n",
              "      <td>...</td>\n",
              "      <td>...</td>\n",
              "      <td>...</td>\n",
              "      <td>...</td>\n",
              "      <td>...</td>\n",
              "      <td>...</td>\n",
              "    </tr>\n",
              "    <tr>\n",
              "      <th>271</th>\n",
              "      <td>NaN</td>\n",
              "      <td>Vietnam</td>\n",
              "      <td>14.058324</td>\n",
              "      <td>108.277199</td>\n",
              "      <td>0</td>\n",
              "      <td>0</td>\n",
              "      <td>0</td>\n",
              "      <td>0</td>\n",
              "      <td>0</td>\n",
              "      <td>0</td>\n",
              "      <td>0</td>\n",
              "      <td>0</td>\n",
              "      <td>0</td>\n",
              "      <td>0</td>\n",
              "      <td>0</td>\n",
              "      <td>0</td>\n",
              "      <td>0</td>\n",
              "      <td>0</td>\n",
              "      <td>0</td>\n",
              "      <td>0</td>\n",
              "      <td>0</td>\n",
              "      <td>0</td>\n",
              "      <td>0</td>\n",
              "      <td>0</td>\n",
              "      <td>0</td>\n",
              "      <td>0</td>\n",
              "      <td>0</td>\n",
              "      <td>0</td>\n",
              "      <td>0</td>\n",
              "      <td>0</td>\n",
              "      <td>0</td>\n",
              "      <td>0</td>\n",
              "      <td>0</td>\n",
              "      <td>0</td>\n",
              "      <td>0</td>\n",
              "      <td>0</td>\n",
              "      <td>0</td>\n",
              "      <td>0</td>\n",
              "      <td>0</td>\n",
              "      <td>0</td>\n",
              "      <td>...</td>\n",
              "      <td>35</td>\n",
              "      <td>35</td>\n",
              "      <td>35</td>\n",
              "      <td>35</td>\n",
              "      <td>35</td>\n",
              "      <td>35</td>\n",
              "      <td>35</td>\n",
              "      <td>35</td>\n",
              "      <td>35</td>\n",
              "      <td>35</td>\n",
              "      <td>35</td>\n",
              "      <td>35</td>\n",
              "      <td>35</td>\n",
              "      <td>35</td>\n",
              "      <td>35</td>\n",
              "      <td>35</td>\n",
              "      <td>35</td>\n",
              "      <td>36</td>\n",
              "      <td>37</td>\n",
              "      <td>37</td>\n",
              "      <td>37</td>\n",
              "      <td>37</td>\n",
              "      <td>39</td>\n",
              "      <td>41</td>\n",
              "      <td>42</td>\n",
              "      <td>43</td>\n",
              "      <td>44</td>\n",
              "      <td>44</td>\n",
              "      <td>45</td>\n",
              "      <td>46</td>\n",
              "      <td>47</td>\n",
              "      <td>47</td>\n",
              "      <td>47</td>\n",
              "      <td>47</td>\n",
              "      <td>48</td>\n",
              "      <td>49</td>\n",
              "      <td>49</td>\n",
              "      <td>51</td>\n",
              "      <td>53</td>\n",
              "      <td>53</td>\n",
              "    </tr>\n",
              "    <tr>\n",
              "      <th>272</th>\n",
              "      <td>NaN</td>\n",
              "      <td>West Bank and Gaza</td>\n",
              "      <td>31.952200</td>\n",
              "      <td>35.233200</td>\n",
              "      <td>0</td>\n",
              "      <td>0</td>\n",
              "      <td>0</td>\n",
              "      <td>0</td>\n",
              "      <td>0</td>\n",
              "      <td>0</td>\n",
              "      <td>0</td>\n",
              "      <td>0</td>\n",
              "      <td>0</td>\n",
              "      <td>0</td>\n",
              "      <td>0</td>\n",
              "      <td>0</td>\n",
              "      <td>0</td>\n",
              "      <td>0</td>\n",
              "      <td>0</td>\n",
              "      <td>0</td>\n",
              "      <td>0</td>\n",
              "      <td>0</td>\n",
              "      <td>0</td>\n",
              "      <td>0</td>\n",
              "      <td>0</td>\n",
              "      <td>0</td>\n",
              "      <td>0</td>\n",
              "      <td>0</td>\n",
              "      <td>0</td>\n",
              "      <td>0</td>\n",
              "      <td>0</td>\n",
              "      <td>0</td>\n",
              "      <td>0</td>\n",
              "      <td>0</td>\n",
              "      <td>0</td>\n",
              "      <td>0</td>\n",
              "      <td>0</td>\n",
              "      <td>0</td>\n",
              "      <td>0</td>\n",
              "      <td>0</td>\n",
              "      <td>...</td>\n",
              "      <td>3206</td>\n",
              "      <td>3231</td>\n",
              "      <td>3249</td>\n",
              "      <td>3249</td>\n",
              "      <td>3272</td>\n",
              "      <td>3283</td>\n",
              "      <td>3296</td>\n",
              "      <td>3317</td>\n",
              "      <td>3326</td>\n",
              "      <td>3338</td>\n",
              "      <td>3351</td>\n",
              "      <td>3358</td>\n",
              "      <td>3378</td>\n",
              "      <td>3393</td>\n",
              "      <td>3401</td>\n",
              "      <td>3401</td>\n",
              "      <td>3401</td>\n",
              "      <td>3423</td>\n",
              "      <td>3428</td>\n",
              "      <td>3437</td>\n",
              "      <td>3437</td>\n",
              "      <td>3448</td>\n",
              "      <td>3448</td>\n",
              "      <td>3452</td>\n",
              "      <td>3459</td>\n",
              "      <td>3459</td>\n",
              "      <td>3470</td>\n",
              "      <td>3480</td>\n",
              "      <td>3483</td>\n",
              "      <td>3483</td>\n",
              "      <td>3489</td>\n",
              "      <td>3492</td>\n",
              "      <td>3495</td>\n",
              "      <td>3497</td>\n",
              "      <td>3503</td>\n",
              "      <td>3507</td>\n",
              "      <td>3509</td>\n",
              "      <td>3511</td>\n",
              "      <td>3516</td>\n",
              "      <td>3517</td>\n",
              "    </tr>\n",
              "    <tr>\n",
              "      <th>273</th>\n",
              "      <td>NaN</td>\n",
              "      <td>Yemen</td>\n",
              "      <td>15.552727</td>\n",
              "      <td>48.516388</td>\n",
              "      <td>0</td>\n",
              "      <td>0</td>\n",
              "      <td>0</td>\n",
              "      <td>0</td>\n",
              "      <td>0</td>\n",
              "      <td>0</td>\n",
              "      <td>0</td>\n",
              "      <td>0</td>\n",
              "      <td>0</td>\n",
              "      <td>0</td>\n",
              "      <td>0</td>\n",
              "      <td>0</td>\n",
              "      <td>0</td>\n",
              "      <td>0</td>\n",
              "      <td>0</td>\n",
              "      <td>0</td>\n",
              "      <td>0</td>\n",
              "      <td>0</td>\n",
              "      <td>0</td>\n",
              "      <td>0</td>\n",
              "      <td>0</td>\n",
              "      <td>0</td>\n",
              "      <td>0</td>\n",
              "      <td>0</td>\n",
              "      <td>0</td>\n",
              "      <td>0</td>\n",
              "      <td>0</td>\n",
              "      <td>0</td>\n",
              "      <td>0</td>\n",
              "      <td>0</td>\n",
              "      <td>0</td>\n",
              "      <td>0</td>\n",
              "      <td>0</td>\n",
              "      <td>0</td>\n",
              "      <td>0</td>\n",
              "      <td>0</td>\n",
              "      <td>...</td>\n",
              "      <td>1216</td>\n",
              "      <td>1222</td>\n",
              "      <td>1226</td>\n",
              "      <td>1229</td>\n",
              "      <td>1233</td>\n",
              "      <td>1239</td>\n",
              "      <td>1240</td>\n",
              "      <td>1260</td>\n",
              "      <td>1265</td>\n",
              "      <td>1269</td>\n",
              "      <td>1270</td>\n",
              "      <td>1271</td>\n",
              "      <td>1275</td>\n",
              "      <td>1276</td>\n",
              "      <td>1277</td>\n",
              "      <td>1278</td>\n",
              "      <td>1285</td>\n",
              "      <td>1285</td>\n",
              "      <td>1289</td>\n",
              "      <td>1294</td>\n",
              "      <td>1297</td>\n",
              "      <td>1298</td>\n",
              "      <td>1301</td>\n",
              "      <td>1302</td>\n",
              "      <td>1304</td>\n",
              "      <td>1307</td>\n",
              "      <td>1310</td>\n",
              "      <td>1311</td>\n",
              "      <td>1313</td>\n",
              "      <td>1315</td>\n",
              "      <td>1316</td>\n",
              "      <td>1319</td>\n",
              "      <td>1320</td>\n",
              "      <td>1321</td>\n",
              "      <td>1322</td>\n",
              "      <td>1323</td>\n",
              "      <td>1325</td>\n",
              "      <td>1325</td>\n",
              "      <td>1325</td>\n",
              "      <td>1329</td>\n",
              "    </tr>\n",
              "    <tr>\n",
              "      <th>274</th>\n",
              "      <td>NaN</td>\n",
              "      <td>Zambia</td>\n",
              "      <td>-13.133897</td>\n",
              "      <td>27.849332</td>\n",
              "      <td>0</td>\n",
              "      <td>0</td>\n",
              "      <td>0</td>\n",
              "      <td>0</td>\n",
              "      <td>0</td>\n",
              "      <td>0</td>\n",
              "      <td>0</td>\n",
              "      <td>0</td>\n",
              "      <td>0</td>\n",
              "      <td>0</td>\n",
              "      <td>0</td>\n",
              "      <td>0</td>\n",
              "      <td>0</td>\n",
              "      <td>0</td>\n",
              "      <td>0</td>\n",
              "      <td>0</td>\n",
              "      <td>0</td>\n",
              "      <td>0</td>\n",
              "      <td>0</td>\n",
              "      <td>0</td>\n",
              "      <td>0</td>\n",
              "      <td>0</td>\n",
              "      <td>0</td>\n",
              "      <td>0</td>\n",
              "      <td>0</td>\n",
              "      <td>0</td>\n",
              "      <td>0</td>\n",
              "      <td>0</td>\n",
              "      <td>0</td>\n",
              "      <td>0</td>\n",
              "      <td>0</td>\n",
              "      <td>0</td>\n",
              "      <td>0</td>\n",
              "      <td>0</td>\n",
              "      <td>0</td>\n",
              "      <td>0</td>\n",
              "      <td>...</td>\n",
              "      <td>1249</td>\n",
              "      <td>1250</td>\n",
              "      <td>1251</td>\n",
              "      <td>1251</td>\n",
              "      <td>1253</td>\n",
              "      <td>1253</td>\n",
              "      <td>1254</td>\n",
              "      <td>1255</td>\n",
              "      <td>1256</td>\n",
              "      <td>1256</td>\n",
              "      <td>1257</td>\n",
              "      <td>1257</td>\n",
              "      <td>1257</td>\n",
              "      <td>1258</td>\n",
              "      <td>1259</td>\n",
              "      <td>1260</td>\n",
              "      <td>1260</td>\n",
              "      <td>1260</td>\n",
              "      <td>1260</td>\n",
              "      <td>1261</td>\n",
              "      <td>1263</td>\n",
              "      <td>1263</td>\n",
              "      <td>1265</td>\n",
              "      <td>1266</td>\n",
              "      <td>1267</td>\n",
              "      <td>1268</td>\n",
              "      <td>1271</td>\n",
              "      <td>1271</td>\n",
              "      <td>1273</td>\n",
              "      <td>1275</td>\n",
              "      <td>1275</td>\n",
              "      <td>1276</td>\n",
              "      <td>1278</td>\n",
              "      <td>1281</td>\n",
              "      <td>1282</td>\n",
              "      <td>1284</td>\n",
              "      <td>1288</td>\n",
              "      <td>1297</td>\n",
              "      <td>1303</td>\n",
              "      <td>1308</td>\n",
              "    </tr>\n",
              "    <tr>\n",
              "      <th>275</th>\n",
              "      <td>NaN</td>\n",
              "      <td>Zimbabwe</td>\n",
              "      <td>-19.015438</td>\n",
              "      <td>29.154857</td>\n",
              "      <td>0</td>\n",
              "      <td>0</td>\n",
              "      <td>0</td>\n",
              "      <td>0</td>\n",
              "      <td>0</td>\n",
              "      <td>0</td>\n",
              "      <td>0</td>\n",
              "      <td>0</td>\n",
              "      <td>0</td>\n",
              "      <td>0</td>\n",
              "      <td>0</td>\n",
              "      <td>0</td>\n",
              "      <td>0</td>\n",
              "      <td>0</td>\n",
              "      <td>0</td>\n",
              "      <td>0</td>\n",
              "      <td>0</td>\n",
              "      <td>0</td>\n",
              "      <td>0</td>\n",
              "      <td>0</td>\n",
              "      <td>0</td>\n",
              "      <td>0</td>\n",
              "      <td>0</td>\n",
              "      <td>0</td>\n",
              "      <td>0</td>\n",
              "      <td>0</td>\n",
              "      <td>0</td>\n",
              "      <td>0</td>\n",
              "      <td>0</td>\n",
              "      <td>0</td>\n",
              "      <td>0</td>\n",
              "      <td>0</td>\n",
              "      <td>0</td>\n",
              "      <td>0</td>\n",
              "      <td>0</td>\n",
              "      <td>0</td>\n",
              "      <td>...</td>\n",
              "      <td>1565</td>\n",
              "      <td>1567</td>\n",
              "      <td>1567</td>\n",
              "      <td>1568</td>\n",
              "      <td>1570</td>\n",
              "      <td>1573</td>\n",
              "      <td>1574</td>\n",
              "      <td>1574</td>\n",
              "      <td>1575</td>\n",
              "      <td>1576</td>\n",
              "      <td>1576</td>\n",
              "      <td>1576</td>\n",
              "      <td>1576</td>\n",
              "      <td>1579</td>\n",
              "      <td>1579</td>\n",
              "      <td>1582</td>\n",
              "      <td>1582</td>\n",
              "      <td>1582</td>\n",
              "      <td>1582</td>\n",
              "      <td>1582</td>\n",
              "      <td>1583</td>\n",
              "      <td>1583</td>\n",
              "      <td>1585</td>\n",
              "      <td>1586</td>\n",
              "      <td>1586</td>\n",
              "      <td>1586</td>\n",
              "      <td>1586</td>\n",
              "      <td>1587</td>\n",
              "      <td>1589</td>\n",
              "      <td>1592</td>\n",
              "      <td>1592</td>\n",
              "      <td>1594</td>\n",
              "      <td>1594</td>\n",
              "      <td>1594</td>\n",
              "      <td>1599</td>\n",
              "      <td>1599</td>\n",
              "      <td>1604</td>\n",
              "      <td>1605</td>\n",
              "      <td>1605</td>\n",
              "      <td>1606</td>\n",
              "    </tr>\n",
              "  </tbody>\n",
              "</table>\n",
              "<p>276 rows × 506 columns</p>\n",
              "</div>"
            ],
            "text/plain": [
              "    Province/State             Country        Lat  ...  6/4/21  6/5/21  6/6/21\n",
              "0              NaN         Afghanistan  33.939110  ...    3068    3104    3145\n",
              "1              NaN             Albania  41.153300  ...    2451    2451    2451\n",
              "2              NaN             Algeria  28.033900  ...    3504    3510    3518\n",
              "3              NaN             Andorra  42.506300  ...     127     127     127\n",
              "4              NaN              Angola -11.202700  ...     788     794     797\n",
              "..             ...                 ...        ...  ...     ...     ...     ...\n",
              "271            NaN             Vietnam  14.058324  ...      51      53      53\n",
              "272            NaN  West Bank and Gaza  31.952200  ...    3511    3516    3517\n",
              "273            NaN               Yemen  15.552727  ...    1325    1325    1329\n",
              "274            NaN              Zambia -13.133897  ...    1297    1303    1308\n",
              "275            NaN            Zimbabwe -19.015438  ...    1605    1605    1606\n",
              "\n",
              "[276 rows x 506 columns]"
            ]
          },
          "metadata": {
            "tags": []
          },
          "execution_count": 7
        }
      ]
    },
    {
      "cell_type": "markdown",
      "metadata": {
        "id": "J3m7npFgHiE3"
      },
      "source": [
        "merging dataframes"
      ],
      "id": "J3m7npFgHiE3"
    },
    {
      "cell_type": "code",
      "metadata": {
        "colab": {
          "base_uri": "https://localhost:8080/"
        },
        "id": "LJGq1ho_HDhW",
        "outputId": "dda9901c-59a6-4e48-beb2-ec75ffd5938c"
      },
      "source": [
        "# extract dates\n",
        "dates = confirmed_cases.columns[4:]\n",
        "dates = deaths_reported.columns[4:]\n",
        "\n",
        "# melt dataframes into longer format\n",
        "# ==================================\n",
        "confirmed_df = confirmed_cases.melt(id_vars=['Province/State', 'Country','Lat', 'Long'], \n",
        "                            value_vars=dates, var_name='Date', value_name='Confirmed')\n",
        "\n",
        "deaths_df = deaths_reported.melt(id_vars=['Province/State', 'Country','Lat', 'Long'], \n",
        "                            value_vars=dates, var_name='Date', value_name='Deaths')\n",
        "\n",
        "\n",
        "print(confirmed_df.shape)\n",
        "print(deaths_df.shape)"
      ],
      "id": "LJGq1ho_HDhW",
      "execution_count": 8,
      "outputs": [
        {
          "output_type": "stream",
          "text": [
            "(138552, 6)\n",
            "(138552, 6)\n"
          ],
          "name": "stdout"
        }
      ]
    },
    {
      "cell_type": "code",
      "metadata": {
        "colab": {
          "base_uri": "https://localhost:8080/",
          "height": 204
        },
        "id": "1t4ryXfLHDkJ",
        "outputId": "f141ac3b-9a73-41e9-e363-e7dc6ce76f69"
      },
      "source": [
        "confirmed_df.head()"
      ],
      "id": "1t4ryXfLHDkJ",
      "execution_count": 9,
      "outputs": [
        {
          "output_type": "execute_result",
          "data": {
            "text/html": [
              "<div>\n",
              "<style scoped>\n",
              "    .dataframe tbody tr th:only-of-type {\n",
              "        vertical-align: middle;\n",
              "    }\n",
              "\n",
              "    .dataframe tbody tr th {\n",
              "        vertical-align: top;\n",
              "    }\n",
              "\n",
              "    .dataframe thead th {\n",
              "        text-align: right;\n",
              "    }\n",
              "</style>\n",
              "<table border=\"1\" class=\"dataframe\">\n",
              "  <thead>\n",
              "    <tr style=\"text-align: right;\">\n",
              "      <th></th>\n",
              "      <th>Province/State</th>\n",
              "      <th>Country</th>\n",
              "      <th>Lat</th>\n",
              "      <th>Long</th>\n",
              "      <th>Date</th>\n",
              "      <th>Confirmed</th>\n",
              "    </tr>\n",
              "  </thead>\n",
              "  <tbody>\n",
              "    <tr>\n",
              "      <th>0</th>\n",
              "      <td>NaN</td>\n",
              "      <td>Afghanistan</td>\n",
              "      <td>33.93911</td>\n",
              "      <td>67.709953</td>\n",
              "      <td>1/22/20</td>\n",
              "      <td>0</td>\n",
              "    </tr>\n",
              "    <tr>\n",
              "      <th>1</th>\n",
              "      <td>NaN</td>\n",
              "      <td>Albania</td>\n",
              "      <td>41.15330</td>\n",
              "      <td>20.168300</td>\n",
              "      <td>1/22/20</td>\n",
              "      <td>0</td>\n",
              "    </tr>\n",
              "    <tr>\n",
              "      <th>2</th>\n",
              "      <td>NaN</td>\n",
              "      <td>Algeria</td>\n",
              "      <td>28.03390</td>\n",
              "      <td>1.659600</td>\n",
              "      <td>1/22/20</td>\n",
              "      <td>0</td>\n",
              "    </tr>\n",
              "    <tr>\n",
              "      <th>3</th>\n",
              "      <td>NaN</td>\n",
              "      <td>Andorra</td>\n",
              "      <td>42.50630</td>\n",
              "      <td>1.521800</td>\n",
              "      <td>1/22/20</td>\n",
              "      <td>0</td>\n",
              "    </tr>\n",
              "    <tr>\n",
              "      <th>4</th>\n",
              "      <td>NaN</td>\n",
              "      <td>Angola</td>\n",
              "      <td>-11.20270</td>\n",
              "      <td>17.873900</td>\n",
              "      <td>1/22/20</td>\n",
              "      <td>0</td>\n",
              "    </tr>\n",
              "  </tbody>\n",
              "</table>\n",
              "</div>"
            ],
            "text/plain": [
              "  Province/State      Country       Lat       Long     Date  Confirmed\n",
              "0            NaN  Afghanistan  33.93911  67.709953  1/22/20          0\n",
              "1            NaN      Albania  41.15330  20.168300  1/22/20          0\n",
              "2            NaN      Algeria  28.03390   1.659600  1/22/20          0\n",
              "3            NaN      Andorra  42.50630   1.521800  1/22/20          0\n",
              "4            NaN       Angola -11.20270  17.873900  1/22/20          0"
            ]
          },
          "metadata": {
            "tags": []
          },
          "execution_count": 9
        }
      ]
    },
    {
      "cell_type": "code",
      "metadata": {
        "colab": {
          "base_uri": "https://localhost:8080/"
        },
        "id": "oJCvGH43HDnH",
        "outputId": "445d66d9-9968-40b4-80a7-ff7c7d02d9e1"
      },
      "source": [
        "confirmed_df.isnull().sum()"
      ],
      "id": "oJCvGH43HDnH",
      "execution_count": 10,
      "outputs": [
        {
          "output_type": "execute_result",
          "data": {
            "text/plain": [
              "Province/State    95380\n",
              "Country               0\n",
              "Lat                1004\n",
              "Long               1004\n",
              "Date                  0\n",
              "Confirmed             0\n",
              "dtype: int64"
            ]
          },
          "metadata": {
            "tags": []
          },
          "execution_count": 10
        }
      ]
    },
    {
      "cell_type": "code",
      "metadata": {
        "colab": {
          "base_uri": "https://localhost:8080/"
        },
        "id": "7w1WnqNxHDqm",
        "outputId": "e6a4177b-8692-44da-b0df-58488b060d03"
      },
      "source": [
        "deaths_df.isnull().sum()"
      ],
      "id": "7w1WnqNxHDqm",
      "execution_count": 11,
      "outputs": [
        {
          "output_type": "execute_result",
          "data": {
            "text/plain": [
              "Province/State    95380\n",
              "Country               0\n",
              "Lat                1004\n",
              "Long               1004\n",
              "Date                  0\n",
              "Deaths                0\n",
              "dtype: int64"
            ]
          },
          "metadata": {
            "tags": []
          },
          "execution_count": 11
        }
      ]
    },
    {
      "cell_type": "code",
      "metadata": {
        "id": "fGfhqRLnIDiN"
      },
      "source": [
        "confirmed_df.drop(['Lat', 'Long'],axis=1,inplace=True)"
      ],
      "id": "fGfhqRLnIDiN",
      "execution_count": 12,
      "outputs": []
    },
    {
      "cell_type": "code",
      "metadata": {
        "id": "XuKxKuYbIDlX"
      },
      "source": [
        "deaths_df.drop(['Lat', 'Long'],axis=1,inplace=True)"
      ],
      "id": "XuKxKuYbIDlX",
      "execution_count": 13,
      "outputs": []
    },
    {
      "cell_type": "code",
      "metadata": {
        "id": "3G2haYnlIiqj"
      },
      "source": [
        "confirmed_df['Date'] = pd.to_datetime(confirmed_df['Date'])\n",
        "deaths_df['Date'] = pd.to_datetime(deaths_df['Date'])"
      ],
      "id": "3G2haYnlIiqj",
      "execution_count": 14,
      "outputs": []
    },
    {
      "cell_type": "code",
      "metadata": {
        "id": "mVZ6C3U6Iiti"
      },
      "source": [
        "confirmed = confirmed_df.groupby('Date').sum()['Confirmed'].reset_index()\n",
        "deaths = deaths_df.groupby('Date').sum()['Deaths'].reset_index()"
      ],
      "id": "mVZ6C3U6Iiti",
      "execution_count": 15,
      "outputs": []
    },
    {
      "cell_type": "code",
      "metadata": {
        "colab": {
          "base_uri": "https://localhost:8080/",
          "height": 204
        },
        "id": "t2WA5J_bUJqN",
        "outputId": "0e5a7691-d2e4-479b-b2bd-38ef40f03cd2"
      },
      "source": [
        "confirmed.head()"
      ],
      "id": "t2WA5J_bUJqN",
      "execution_count": 16,
      "outputs": [
        {
          "output_type": "execute_result",
          "data": {
            "text/html": [
              "<div>\n",
              "<style scoped>\n",
              "    .dataframe tbody tr th:only-of-type {\n",
              "        vertical-align: middle;\n",
              "    }\n",
              "\n",
              "    .dataframe tbody tr th {\n",
              "        vertical-align: top;\n",
              "    }\n",
              "\n",
              "    .dataframe thead th {\n",
              "        text-align: right;\n",
              "    }\n",
              "</style>\n",
              "<table border=\"1\" class=\"dataframe\">\n",
              "  <thead>\n",
              "    <tr style=\"text-align: right;\">\n",
              "      <th></th>\n",
              "      <th>Date</th>\n",
              "      <th>Confirmed</th>\n",
              "    </tr>\n",
              "  </thead>\n",
              "  <tbody>\n",
              "    <tr>\n",
              "      <th>0</th>\n",
              "      <td>2020-01-22</td>\n",
              "      <td>557</td>\n",
              "    </tr>\n",
              "    <tr>\n",
              "      <th>1</th>\n",
              "      <td>2020-01-23</td>\n",
              "      <td>655</td>\n",
              "    </tr>\n",
              "    <tr>\n",
              "      <th>2</th>\n",
              "      <td>2020-01-24</td>\n",
              "      <td>941</td>\n",
              "    </tr>\n",
              "    <tr>\n",
              "      <th>3</th>\n",
              "      <td>2020-01-25</td>\n",
              "      <td>1433</td>\n",
              "    </tr>\n",
              "    <tr>\n",
              "      <th>4</th>\n",
              "      <td>2020-01-26</td>\n",
              "      <td>2118</td>\n",
              "    </tr>\n",
              "  </tbody>\n",
              "</table>\n",
              "</div>"
            ],
            "text/plain": [
              "        Date  Confirmed\n",
              "0 2020-01-22        557\n",
              "1 2020-01-23        655\n",
              "2 2020-01-24        941\n",
              "3 2020-01-25       1433\n",
              "4 2020-01-26       2118"
            ]
          },
          "metadata": {
            "tags": []
          },
          "execution_count": 16
        }
      ]
    },
    {
      "cell_type": "code",
      "metadata": {
        "colab": {
          "base_uri": "https://localhost:8080/",
          "height": 204
        },
        "id": "GcAGfmGhUJxy",
        "outputId": "5fe22bb7-c39e-4c2d-9f95-48268e783283"
      },
      "source": [
        "deaths.head()"
      ],
      "id": "GcAGfmGhUJxy",
      "execution_count": 17,
      "outputs": [
        {
          "output_type": "execute_result",
          "data": {
            "text/html": [
              "<div>\n",
              "<style scoped>\n",
              "    .dataframe tbody tr th:only-of-type {\n",
              "        vertical-align: middle;\n",
              "    }\n",
              "\n",
              "    .dataframe tbody tr th {\n",
              "        vertical-align: top;\n",
              "    }\n",
              "\n",
              "    .dataframe thead th {\n",
              "        text-align: right;\n",
              "    }\n",
              "</style>\n",
              "<table border=\"1\" class=\"dataframe\">\n",
              "  <thead>\n",
              "    <tr style=\"text-align: right;\">\n",
              "      <th></th>\n",
              "      <th>Date</th>\n",
              "      <th>Deaths</th>\n",
              "    </tr>\n",
              "  </thead>\n",
              "  <tbody>\n",
              "    <tr>\n",
              "      <th>0</th>\n",
              "      <td>2020-01-22</td>\n",
              "      <td>17</td>\n",
              "    </tr>\n",
              "    <tr>\n",
              "      <th>1</th>\n",
              "      <td>2020-01-23</td>\n",
              "      <td>18</td>\n",
              "    </tr>\n",
              "    <tr>\n",
              "      <th>2</th>\n",
              "      <td>2020-01-24</td>\n",
              "      <td>26</td>\n",
              "    </tr>\n",
              "    <tr>\n",
              "      <th>3</th>\n",
              "      <td>2020-01-25</td>\n",
              "      <td>42</td>\n",
              "    </tr>\n",
              "    <tr>\n",
              "      <th>4</th>\n",
              "      <td>2020-01-26</td>\n",
              "      <td>56</td>\n",
              "    </tr>\n",
              "  </tbody>\n",
              "</table>\n",
              "</div>"
            ],
            "text/plain": [
              "        Date  Deaths\n",
              "0 2020-01-22      17\n",
              "1 2020-01-23      18\n",
              "2 2020-01-24      26\n",
              "3 2020-01-25      42\n",
              "4 2020-01-26      56"
            ]
          },
          "metadata": {
            "tags": []
          },
          "execution_count": 17
        }
      ]
    },
    {
      "cell_type": "markdown",
      "metadata": {
        "id": "TAVpau8ZAoAv"
      },
      "source": [
        "Data Visualization"
      ],
      "id": "TAVpau8ZAoAv"
    },
    {
      "cell_type": "code",
      "metadata": {
        "id": "xUcJjVTH0djp"
      },
      "source": [
        "import plotly.express as px\n",
        "import plotly.graph_objects as go"
      ],
      "id": "xUcJjVTH0djp",
      "execution_count": 18,
      "outputs": []
    },
    {
      "cell_type": "code",
      "metadata": {
        "id": "SiH51ht70dmo",
        "colab": {
          "base_uri": "https://localhost:8080/",
          "height": 542
        },
        "outputId": "3604644a-af28-4c36-c314-ffe57658e623"
      },
      "source": [
        "fig = go.Figure()\n",
        "#Plotting datewise confirmed cases\n",
        "fig.add_trace(go.Scatter(x=confirmed['Date'], y=confirmed['Confirmed'], mode='lines+markers', name='Confirmed',line=dict(color='blue', width=2)))\n",
        "fig.add_trace(go.Scatter(x=deaths['Date'], y=deaths['Deaths'], mode='lines+markers', name='Deaths', line=dict(color='Red', width=2)))\n",
        "fig.update_layout(title='Worldwide COVID-19 Cases', xaxis_tickfont_size=14,yaxis=dict(title='Number of Cases'))\n",
        "fig.show()"
      ],
      "id": "SiH51ht70dmo",
      "execution_count": 19,
      "outputs": [
        {
          "output_type": "display_data",
          "data": {
            "text/html": [
              "<html>\n",
              "<head><meta charset=\"utf-8\" /></head>\n",
              "<body>\n",
              "    <div>\n",
              "            <script src=\"https://cdnjs.cloudflare.com/ajax/libs/mathjax/2.7.5/MathJax.js?config=TeX-AMS-MML_SVG\"></script><script type=\"text/javascript\">if (window.MathJax) {MathJax.Hub.Config({SVG: {font: \"STIX-Web\"}});}</script>\n",
              "                <script type=\"text/javascript\">window.PlotlyConfig = {MathJaxConfig: 'local'};</script>\n",
              "        <script src=\"https://cdn.plot.ly/plotly-latest.min.js\"></script>    \n",
              "            <div id=\"eb49d7f9-8bd0-429c-b9c2-1b57ccc40c41\" class=\"plotly-graph-div\" style=\"height:525px; width:100%;\"></div>\n",
              "            <script type=\"text/javascript\">\n",
              "                \n",
              "                    window.PLOTLYENV=window.PLOTLYENV || {};\n",
              "                    \n",
              "                if (document.getElementById(\"eb49d7f9-8bd0-429c-b9c2-1b57ccc40c41\")) {\n",
              "                    Plotly.newPlot(\n",
              "                        'eb49d7f9-8bd0-429c-b9c2-1b57ccc40c41',\n",
              "                        [{\"line\": {\"color\": \"blue\", \"width\": 2}, \"mode\": \"lines+markers\", \"name\": \"Confirmed\", \"type\": \"scatter\", \"x\": [\"2020-01-22T00:00:00\", \"2020-01-23T00:00:00\", \"2020-01-24T00:00:00\", \"2020-01-25T00:00:00\", \"2020-01-26T00:00:00\", \"2020-01-27T00:00:00\", \"2020-01-28T00:00:00\", \"2020-01-29T00:00:00\", \"2020-01-30T00:00:00\", \"2020-01-31T00:00:00\", \"2020-02-01T00:00:00\", \"2020-02-02T00:00:00\", \"2020-02-03T00:00:00\", \"2020-02-04T00:00:00\", \"2020-02-05T00:00:00\", \"2020-02-06T00:00:00\", \"2020-02-07T00:00:00\", \"2020-02-08T00:00:00\", \"2020-02-09T00:00:00\", \"2020-02-10T00:00:00\", \"2020-02-11T00:00:00\", \"2020-02-12T00:00:00\", \"2020-02-13T00:00:00\", \"2020-02-14T00:00:00\", \"2020-02-15T00:00:00\", \"2020-02-16T00:00:00\", \"2020-02-17T00:00:00\", \"2020-02-18T00:00:00\", \"2020-02-19T00:00:00\", \"2020-02-20T00:00:00\", \"2020-02-21T00:00:00\", \"2020-02-22T00:00:00\", \"2020-02-23T00:00:00\", \"2020-02-24T00:00:00\", \"2020-02-25T00:00:00\", \"2020-02-26T00:00:00\", \"2020-02-27T00:00:00\", \"2020-02-28T00:00:00\", \"2020-02-29T00:00:00\", \"2020-03-01T00:00:00\", \"2020-03-02T00:00:00\", \"2020-03-03T00:00:00\", \"2020-03-04T00:00:00\", \"2020-03-05T00:00:00\", \"2020-03-06T00:00:00\", \"2020-03-07T00:00:00\", \"2020-03-08T00:00:00\", \"2020-03-09T00:00:00\", \"2020-03-10T00:00:00\", \"2020-03-11T00:00:00\", \"2020-03-12T00:00:00\", \"2020-03-13T00:00:00\", \"2020-03-14T00:00:00\", \"2020-03-15T00:00:00\", \"2020-03-16T00:00:00\", \"2020-03-17T00:00:00\", \"2020-03-18T00:00:00\", \"2020-03-19T00:00:00\", \"2020-03-20T00:00:00\", \"2020-03-21T00:00:00\", \"2020-03-22T00:00:00\", \"2020-03-23T00:00:00\", \"2020-03-24T00:00:00\", \"2020-03-25T00:00:00\", \"2020-03-26T00:00:00\", \"2020-03-27T00:00:00\", \"2020-03-28T00:00:00\", \"2020-03-29T00:00:00\", \"2020-03-30T00:00:00\", \"2020-03-31T00:00:00\", \"2020-04-01T00:00:00\", \"2020-04-02T00:00:00\", \"2020-04-03T00:00:00\", \"2020-04-04T00:00:00\", \"2020-04-05T00:00:00\", \"2020-04-06T00:00:00\", \"2020-04-07T00:00:00\", \"2020-04-08T00:00:00\", \"2020-04-09T00:00:00\", \"2020-04-10T00:00:00\", \"2020-04-11T00:00:00\", \"2020-04-12T00:00:00\", \"2020-04-13T00:00:00\", \"2020-04-14T00:00:00\", \"2020-04-15T00:00:00\", \"2020-04-16T00:00:00\", \"2020-04-17T00:00:00\", \"2020-04-18T00:00:00\", \"2020-04-19T00:00:00\", \"2020-04-20T00:00:00\", \"2020-04-21T00:00:00\", \"2020-04-22T00:00:00\", \"2020-04-23T00:00:00\", \"2020-04-24T00:00:00\", \"2020-04-25T00:00:00\", \"2020-04-26T00:00:00\", \"2020-04-27T00:00:00\", \"2020-04-28T00:00:00\", \"2020-04-29T00:00:00\", \"2020-04-30T00:00:00\", \"2020-05-01T00:00:00\", \"2020-05-02T00:00:00\", \"2020-05-03T00:00:00\", \"2020-05-04T00:00:00\", \"2020-05-05T00:00:00\", \"2020-05-06T00:00:00\", \"2020-05-07T00:00:00\", \"2020-05-08T00:00:00\", \"2020-05-09T00:00:00\", \"2020-05-10T00:00:00\", \"2020-05-11T00:00:00\", \"2020-05-12T00:00:00\", \"2020-05-13T00:00:00\", \"2020-05-14T00:00:00\", \"2020-05-15T00:00:00\", \"2020-05-16T00:00:00\", \"2020-05-17T00:00:00\", \"2020-05-18T00:00:00\", \"2020-05-19T00:00:00\", \"2020-05-20T00:00:00\", \"2020-05-21T00:00:00\", \"2020-05-22T00:00:00\", \"2020-05-23T00:00:00\", \"2020-05-24T00:00:00\", \"2020-05-25T00:00:00\", \"2020-05-26T00:00:00\", \"2020-05-27T00:00:00\", \"2020-05-28T00:00:00\", \"2020-05-29T00:00:00\", \"2020-05-30T00:00:00\", \"2020-05-31T00:00:00\", \"2020-06-01T00:00:00\", \"2020-06-02T00:00:00\", \"2020-06-03T00:00:00\", \"2020-06-04T00:00:00\", \"2020-06-05T00:00:00\", \"2020-06-06T00:00:00\", \"2020-06-07T00:00:00\", \"2020-06-08T00:00:00\", \"2020-06-09T00:00:00\", \"2020-06-10T00:00:00\", \"2020-06-11T00:00:00\", \"2020-06-12T00:00:00\", \"2020-06-13T00:00:00\", \"2020-06-14T00:00:00\", \"2020-06-15T00:00:00\", \"2020-06-16T00:00:00\", \"2020-06-17T00:00:00\", \"2020-06-18T00:00:00\", \"2020-06-19T00:00:00\", \"2020-06-20T00:00:00\", \"2020-06-21T00:00:00\", \"2020-06-22T00:00:00\", \"2020-06-23T00:00:00\", \"2020-06-24T00:00:00\", \"2020-06-25T00:00:00\", \"2020-06-26T00:00:00\", \"2020-06-27T00:00:00\", \"2020-06-28T00:00:00\", \"2020-06-29T00:00:00\", \"2020-06-30T00:00:00\", \"2020-07-01T00:00:00\", \"2020-07-02T00:00:00\", \"2020-07-03T00:00:00\", \"2020-07-04T00:00:00\", \"2020-07-05T00:00:00\", \"2020-07-06T00:00:00\", \"2020-07-07T00:00:00\", \"2020-07-08T00:00:00\", \"2020-07-09T00:00:00\", \"2020-07-10T00:00:00\", \"2020-07-11T00:00:00\", \"2020-07-12T00:00:00\", \"2020-07-13T00:00:00\", \"2020-07-14T00:00:00\", \"2020-07-15T00:00:00\", \"2020-07-16T00:00:00\", \"2020-07-17T00:00:00\", \"2020-07-18T00:00:00\", \"2020-07-19T00:00:00\", \"2020-07-20T00:00:00\", \"2020-07-21T00:00:00\", \"2020-07-22T00:00:00\", \"2020-07-23T00:00:00\", \"2020-07-24T00:00:00\", \"2020-07-25T00:00:00\", \"2020-07-26T00:00:00\", \"2020-07-27T00:00:00\", \"2020-07-28T00:00:00\", \"2020-07-29T00:00:00\", \"2020-07-30T00:00:00\", \"2020-07-31T00:00:00\", \"2020-08-01T00:00:00\", \"2020-08-02T00:00:00\", \"2020-08-03T00:00:00\", \"2020-08-04T00:00:00\", \"2020-08-05T00:00:00\", \"2020-08-06T00:00:00\", \"2020-08-07T00:00:00\", \"2020-08-08T00:00:00\", \"2020-08-09T00:00:00\", \"2020-08-10T00:00:00\", \"2020-08-11T00:00:00\", \"2020-08-12T00:00:00\", \"2020-08-13T00:00:00\", \"2020-08-14T00:00:00\", \"2020-08-15T00:00:00\", \"2020-08-16T00:00:00\", \"2020-08-17T00:00:00\", \"2020-08-18T00:00:00\", \"2020-08-19T00:00:00\", \"2020-08-20T00:00:00\", \"2020-08-21T00:00:00\", \"2020-08-22T00:00:00\", \"2020-08-23T00:00:00\", \"2020-08-24T00:00:00\", \"2020-08-25T00:00:00\", \"2020-08-26T00:00:00\", \"2020-08-27T00:00:00\", \"2020-08-28T00:00:00\", \"2020-08-29T00:00:00\", \"2020-08-30T00:00:00\", \"2020-08-31T00:00:00\", \"2020-09-01T00:00:00\", \"2020-09-02T00:00:00\", \"2020-09-03T00:00:00\", \"2020-09-04T00:00:00\", \"2020-09-05T00:00:00\", \"2020-09-06T00:00:00\", \"2020-09-07T00:00:00\", \"2020-09-08T00:00:00\", \"2020-09-09T00:00:00\", \"2020-09-10T00:00:00\", \"2020-09-11T00:00:00\", \"2020-09-12T00:00:00\", \"2020-09-13T00:00:00\", \"2020-09-14T00:00:00\", \"2020-09-15T00:00:00\", \"2020-09-16T00:00:00\", \"2020-09-17T00:00:00\", \"2020-09-18T00:00:00\", \"2020-09-19T00:00:00\", \"2020-09-20T00:00:00\", \"2020-09-21T00:00:00\", \"2020-09-22T00:00:00\", \"2020-09-23T00:00:00\", \"2020-09-24T00:00:00\", \"2020-09-25T00:00:00\", \"2020-09-26T00:00:00\", \"2020-09-27T00:00:00\", \"2020-09-28T00:00:00\", \"2020-09-29T00:00:00\", \"2020-09-30T00:00:00\", \"2020-10-01T00:00:00\", \"2020-10-02T00:00:00\", \"2020-10-03T00:00:00\", \"2020-10-04T00:00:00\", \"2020-10-05T00:00:00\", \"2020-10-06T00:00:00\", \"2020-10-07T00:00:00\", \"2020-10-08T00:00:00\", \"2020-10-09T00:00:00\", \"2020-10-10T00:00:00\", \"2020-10-11T00:00:00\", \"2020-10-12T00:00:00\", \"2020-10-13T00:00:00\", \"2020-10-14T00:00:00\", \"2020-10-15T00:00:00\", \"2020-10-16T00:00:00\", \"2020-10-17T00:00:00\", \"2020-10-18T00:00:00\", \"2020-10-19T00:00:00\", \"2020-10-20T00:00:00\", \"2020-10-21T00:00:00\", \"2020-10-22T00:00:00\", \"2020-10-23T00:00:00\", \"2020-10-24T00:00:00\", \"2020-10-25T00:00:00\", \"2020-10-26T00:00:00\", \"2020-10-27T00:00:00\", \"2020-10-28T00:00:00\", \"2020-10-29T00:00:00\", \"2020-10-30T00:00:00\", \"2020-10-31T00:00:00\", \"2020-11-01T00:00:00\", \"2020-11-02T00:00:00\", \"2020-11-03T00:00:00\", \"2020-11-04T00:00:00\", \"2020-11-05T00:00:00\", \"2020-11-06T00:00:00\", \"2020-11-07T00:00:00\", \"2020-11-08T00:00:00\", \"2020-11-09T00:00:00\", \"2020-11-10T00:00:00\", \"2020-11-11T00:00:00\", \"2020-11-12T00:00:00\", \"2020-11-13T00:00:00\", \"2020-11-14T00:00:00\", \"2020-11-15T00:00:00\", \"2020-11-16T00:00:00\", \"2020-11-17T00:00:00\", \"2020-11-18T00:00:00\", \"2020-11-19T00:00:00\", \"2020-11-20T00:00:00\", \"2020-11-21T00:00:00\", \"2020-11-22T00:00:00\", \"2020-11-23T00:00:00\", \"2020-11-24T00:00:00\", \"2020-11-25T00:00:00\", \"2020-11-26T00:00:00\", \"2020-11-27T00:00:00\", \"2020-11-28T00:00:00\", \"2020-11-29T00:00:00\", \"2020-11-30T00:00:00\", \"2020-12-01T00:00:00\", \"2020-12-02T00:00:00\", \"2020-12-03T00:00:00\", \"2020-12-04T00:00:00\", \"2020-12-05T00:00:00\", \"2020-12-06T00:00:00\", \"2020-12-07T00:00:00\", \"2020-12-08T00:00:00\", \"2020-12-09T00:00:00\", \"2020-12-10T00:00:00\", \"2020-12-11T00:00:00\", \"2020-12-12T00:00:00\", \"2020-12-13T00:00:00\", \"2020-12-14T00:00:00\", \"2020-12-15T00:00:00\", \"2020-12-16T00:00:00\", \"2020-12-17T00:00:00\", \"2020-12-18T00:00:00\", \"2020-12-19T00:00:00\", \"2020-12-20T00:00:00\", \"2020-12-21T00:00:00\", \"2020-12-22T00:00:00\", \"2020-12-23T00:00:00\", \"2020-12-24T00:00:00\", \"2020-12-25T00:00:00\", \"2020-12-26T00:00:00\", \"2020-12-27T00:00:00\", \"2020-12-28T00:00:00\", \"2020-12-29T00:00:00\", \"2020-12-30T00:00:00\", \"2020-12-31T00:00:00\", \"2021-01-01T00:00:00\", \"2021-01-02T00:00:00\", \"2021-01-03T00:00:00\", \"2021-01-04T00:00:00\", \"2021-01-05T00:00:00\", \"2021-01-06T00:00:00\", \"2021-01-07T00:00:00\", \"2021-01-08T00:00:00\", \"2021-01-09T00:00:00\", \"2021-01-10T00:00:00\", \"2021-01-11T00:00:00\", \"2021-01-12T00:00:00\", \"2021-01-13T00:00:00\", \"2021-01-14T00:00:00\", \"2021-01-15T00:00:00\", \"2021-01-16T00:00:00\", \"2021-01-17T00:00:00\", \"2021-01-18T00:00:00\", \"2021-01-19T00:00:00\", \"2021-01-20T00:00:00\", \"2021-01-21T00:00:00\", \"2021-01-22T00:00:00\", \"2021-01-23T00:00:00\", \"2021-01-24T00:00:00\", \"2021-01-25T00:00:00\", \"2021-01-26T00:00:00\", \"2021-01-27T00:00:00\", \"2021-01-28T00:00:00\", \"2021-01-29T00:00:00\", \"2021-01-30T00:00:00\", \"2021-01-31T00:00:00\", \"2021-02-01T00:00:00\", \"2021-02-02T00:00:00\", \"2021-02-03T00:00:00\", \"2021-02-04T00:00:00\", \"2021-02-05T00:00:00\", \"2021-02-06T00:00:00\", \"2021-02-07T00:00:00\", \"2021-02-08T00:00:00\", \"2021-02-09T00:00:00\", \"2021-02-10T00:00:00\", \"2021-02-11T00:00:00\", \"2021-02-12T00:00:00\", \"2021-02-13T00:00:00\", \"2021-02-14T00:00:00\", \"2021-02-15T00:00:00\", \"2021-02-16T00:00:00\", \"2021-02-17T00:00:00\", \"2021-02-18T00:00:00\", \"2021-02-19T00:00:00\", \"2021-02-20T00:00:00\", \"2021-02-21T00:00:00\", \"2021-02-22T00:00:00\", \"2021-02-23T00:00:00\", \"2021-02-24T00:00:00\", \"2021-02-25T00:00:00\", \"2021-02-26T00:00:00\", \"2021-02-27T00:00:00\", \"2021-02-28T00:00:00\", \"2021-03-01T00:00:00\", \"2021-03-02T00:00:00\", \"2021-03-03T00:00:00\", \"2021-03-04T00:00:00\", \"2021-03-05T00:00:00\", \"2021-03-06T00:00:00\", \"2021-03-07T00:00:00\", \"2021-03-08T00:00:00\", \"2021-03-09T00:00:00\", \"2021-03-10T00:00:00\", \"2021-03-11T00:00:00\", \"2021-03-12T00:00:00\", \"2021-03-13T00:00:00\", \"2021-03-14T00:00:00\", \"2021-03-15T00:00:00\", \"2021-03-16T00:00:00\", \"2021-03-17T00:00:00\", \"2021-03-18T00:00:00\", \"2021-03-19T00:00:00\", \"2021-03-20T00:00:00\", \"2021-03-21T00:00:00\", \"2021-03-22T00:00:00\", \"2021-03-23T00:00:00\", \"2021-03-24T00:00:00\", \"2021-03-25T00:00:00\", \"2021-03-26T00:00:00\", \"2021-03-27T00:00:00\", \"2021-03-28T00:00:00\", \"2021-03-29T00:00:00\", \"2021-03-30T00:00:00\", \"2021-03-31T00:00:00\", \"2021-04-01T00:00:00\", \"2021-04-02T00:00:00\", \"2021-04-03T00:00:00\", \"2021-04-04T00:00:00\", \"2021-04-05T00:00:00\", \"2021-04-06T00:00:00\", \"2021-04-07T00:00:00\", \"2021-04-08T00:00:00\", \"2021-04-09T00:00:00\", \"2021-04-10T00:00:00\", \"2021-04-11T00:00:00\", \"2021-04-12T00:00:00\", \"2021-04-13T00:00:00\", \"2021-04-14T00:00:00\", \"2021-04-15T00:00:00\", \"2021-04-16T00:00:00\", \"2021-04-17T00:00:00\", \"2021-04-18T00:00:00\", \"2021-04-19T00:00:00\", \"2021-04-20T00:00:00\", \"2021-04-21T00:00:00\", \"2021-04-22T00:00:00\", \"2021-04-23T00:00:00\", \"2021-04-24T00:00:00\", \"2021-04-25T00:00:00\", \"2021-04-26T00:00:00\", \"2021-04-27T00:00:00\", \"2021-04-28T00:00:00\", \"2021-04-29T00:00:00\", \"2021-04-30T00:00:00\", \"2021-05-01T00:00:00\", \"2021-05-02T00:00:00\", \"2021-05-03T00:00:00\", \"2021-05-04T00:00:00\", \"2021-05-05T00:00:00\", \"2021-05-06T00:00:00\", \"2021-05-07T00:00:00\", \"2021-05-08T00:00:00\", \"2021-05-09T00:00:00\", \"2021-05-10T00:00:00\", \"2021-05-11T00:00:00\", \"2021-05-12T00:00:00\", \"2021-05-13T00:00:00\", \"2021-05-14T00:00:00\", \"2021-05-15T00:00:00\", \"2021-05-16T00:00:00\", \"2021-05-17T00:00:00\", \"2021-05-18T00:00:00\", \"2021-05-19T00:00:00\", \"2021-05-20T00:00:00\", \"2021-05-21T00:00:00\", \"2021-05-22T00:00:00\", \"2021-05-23T00:00:00\", \"2021-05-24T00:00:00\", \"2021-05-25T00:00:00\", \"2021-05-26T00:00:00\", \"2021-05-27T00:00:00\", \"2021-05-28T00:00:00\", \"2021-05-29T00:00:00\", \"2021-05-30T00:00:00\", \"2021-05-31T00:00:00\", \"2021-06-01T00:00:00\", \"2021-06-02T00:00:00\", \"2021-06-03T00:00:00\", \"2021-06-04T00:00:00\", \"2021-06-05T00:00:00\", \"2021-06-06T00:00:00\"], \"y\": [557, 655, 941, 1433, 2118, 2927, 5578, 6167, 8235, 9927, 12038, 16787, 19887, 23898, 27643, 30803, 34396, 37130, 40160, 42769, 44811, 45229, 60382, 66909, 69052, 71235, 73270, 75152, 75652, 76212, 76841, 78602, 78982, 79546, 80399, 81376, 82736, 84122, 86013, 88394, 90377, 92971, 95279, 98090, 102003, 106098, 110047, 114219, 119041, 126702, 132492, 146876, 157950, 169219, 184027, 199970, 219535, 246584, 277359, 309350, 344205, 387040, 428219, 479220, 542097, 607138, 674418, 733655, 798949, 875794, 958629, 1041679, 1125250, 1183609, 1256219, 1329371, 1399212, 1482610, 1569630, 1655153, 1729417, 1849112, 1919853, 2003857, 2080973, 2176491, 2264524, 2341739, 2418310, 2494320, 2570078, 2651377, 2735668, 2819764, 2902007, 2973582, 3043786, 3119324, 3196455, 3279935, 3368292, 3447490, 3523887, 3601559, 3682058, 3772095, 3860819, 3951089, 4036352, 4111266, 4187924, 4272394, 4357399, 4453629, 4549347, 4643762, 4721809, 4810975, 4907722, 5009628, 5116275, 5222689, 5327481, 5421702, 5508408, 5602388, 5705152, 5824433, 5945341, 6081855, 6188259, 6284232, 6406196, 6520447, 6651410, 6782636, 6916355, 7028730, 7131206, 7256265, 7391371, 7529424, 7658151, 7793444, 7925721, 8045387, 8187468, 8331222, 8472296, 8652193, 8809651, 8937355, 9076708, 9243514, 9416110, 9594500, 9786102, 9964218, 10128093, 10283456, 10457988, 10675596, 10885548, 11086923, 11280744, 11464726, 11628722, 11840091, 12054250, 12281090, 12513766, 12730232, 12922492, 13113970, 13336173, 13567611, 13818969, 14061686, 14297865, 14511279, 14718412, 14952034, 15231917, 15514776, 15795846, 16049938, 16263015, 16489477, 16742217, 17033965, 17314074, 17604811, 17853166, 18084181, 18290628, 18548543, 18825127, 19110321, 19392566, 19651099, 19875797, 20101808, 20359380, 20636018, 20925236, 21228980, 21476718, 21691208, 21898916, 22157171, 22436722, 22709277, 22970496, 23234766, 23440930, 23666158, 23910153, 24193952, 24477860, 24761471, 25025287, 25246275, 25509140, 25774047, 26057555, 26339015, 26653020, 26923081, 27153595, 27371523, 27613555, 27898369, 28198228, 28519589, 28806206, 29048946, 29312693, 29598140, 29902687, 30217566, 30543485, 30835647, 31087793, 31363785, 31648303, 31924402, 32277431, 32608314, 32896777, 33148188, 33403027, 33685585, 34011804, 34330104, 34627958, 34960044, 35221464, 35522414, 35848966, 36199957, 36561290, 36922190, 37279326, 37566278, 37857976, 38177218, 38559565, 38966541, 39378313, 39750993, 40067583, 40454758, 40843745, 41288653, 41761382, 42258164, 42714986, 43075703, 43562021, 44032249, 44544143, 45094525, 45665604, 46142428, 46604864, 47167894, 47721721, 48233206, 48829777, 49474659, 50071611, 50555683, 51057076, 51616461, 52265191, 52914645, 53566727, 54161862, 54635935, 55170071, 55781327, 56408504, 57062051, 57730831, 58318557, 58806701, 59331660, 59921951, 60558291, 61140970, 61827863, 62414022, 62902699, 63411091, 64023308, 64675043, 65369179, 66052314, 66694746, 67233741, 67753311, 68396799, 69066819, 70564945, 71269554, 71904616, 72435722, 72960602, 73596794, 74330464, 75070221, 75790546, 76401995, 76935664, 77484615, 78134972, 78830100, 79496691, 79962475, 80475205, 80913868, 81409709, 82074293, 82835540, 83560482, 84093788, 84720299, 85253202, 85807043, 86547096, 87330661, 88211545, 89014809, 89776075, 90365376, 90984976, 91690531, 92438858, 93194145, 93961381, 94600703, 95130064, 95645312, 96253248, 96946210, 97602571, 98261639, 98829909, 99275699, 99772747, 100329071, 100927448, 101541893, 102132381, 102647858, 103029652, 103476199, 103934126, 104456157, 104923095, 105458548, 105830862, 106229038, 106545054, 106972720, 107408534, 107850003, 108278724, 108652122, 108946086, 109229345, 109580144, 109975720, 110379223, 110791727, 111162265, 111476792, 111765161, 112154029, 112598969, 113046460, 113489486, 113878785, 114182356, 114488090, 114798408, 115239558, 115692613, 116139645, 116550222, 116918602, 117217208, 117631885, 118098952, 118575835, 119065151, 119519364, 119879810, 120228591, 120701640, 121241068, 121794627, 122356343, 122855285, 123278672, 123695333, 124209643, 124843218, 125494652, 126136052, 126720792, 127190873, 127649131, 128217581, 128900516, 129612373, 130246167, 130775801, 131328758, 131818062, 132422295, 133106608, 133946462, 134694522, 135359190, 136050057, 136666545, 137446191, 138263254, 139080030, 139934945, 140723160, 141408751, 142102363, 142956456, 143846433, 144746200, 145649953, 146471022, 147193478, 147876137, 148720592, 149626600, 150524258, 151403270, 152200029, 152874414, 153555936, 154363355, 155204557, 156074567, 156906973, 157692702, 158334279, 158956114, 159694580, 160454640, 161179904, 161897925, 162525484, 163073713, 163613363, 164235519, 164906611, 165186091, 165811578, 166389394, 166865482, 167319676, 167851504, 168419640, 168973937, 169473761, 169954619, 170345677, 170724212, 171187600, 171680812, 172169929, 172589646, 172987591, 173209947]}, {\"line\": {\"color\": \"Red\", \"width\": 2}, \"mode\": \"lines+markers\", \"name\": \"Deaths\", \"type\": \"scatter\", \"x\": [\"2020-01-22T00:00:00\", \"2020-01-23T00:00:00\", \"2020-01-24T00:00:00\", \"2020-01-25T00:00:00\", \"2020-01-26T00:00:00\", \"2020-01-27T00:00:00\", \"2020-01-28T00:00:00\", \"2020-01-29T00:00:00\", \"2020-01-30T00:00:00\", \"2020-01-31T00:00:00\", \"2020-02-01T00:00:00\", \"2020-02-02T00:00:00\", \"2020-02-03T00:00:00\", \"2020-02-04T00:00:00\", \"2020-02-05T00:00:00\", \"2020-02-06T00:00:00\", \"2020-02-07T00:00:00\", \"2020-02-08T00:00:00\", \"2020-02-09T00:00:00\", \"2020-02-10T00:00:00\", \"2020-02-11T00:00:00\", \"2020-02-12T00:00:00\", \"2020-02-13T00:00:00\", \"2020-02-14T00:00:00\", \"2020-02-15T00:00:00\", \"2020-02-16T00:00:00\", \"2020-02-17T00:00:00\", \"2020-02-18T00:00:00\", \"2020-02-19T00:00:00\", \"2020-02-20T00:00:00\", \"2020-02-21T00:00:00\", \"2020-02-22T00:00:00\", \"2020-02-23T00:00:00\", \"2020-02-24T00:00:00\", \"2020-02-25T00:00:00\", \"2020-02-26T00:00:00\", \"2020-02-27T00:00:00\", \"2020-02-28T00:00:00\", \"2020-02-29T00:00:00\", \"2020-03-01T00:00:00\", \"2020-03-02T00:00:00\", \"2020-03-03T00:00:00\", \"2020-03-04T00:00:00\", \"2020-03-05T00:00:00\", \"2020-03-06T00:00:00\", \"2020-03-07T00:00:00\", \"2020-03-08T00:00:00\", \"2020-03-09T00:00:00\", \"2020-03-10T00:00:00\", \"2020-03-11T00:00:00\", \"2020-03-12T00:00:00\", \"2020-03-13T00:00:00\", \"2020-03-14T00:00:00\", \"2020-03-15T00:00:00\", \"2020-03-16T00:00:00\", \"2020-03-17T00:00:00\", \"2020-03-18T00:00:00\", \"2020-03-19T00:00:00\", \"2020-03-20T00:00:00\", \"2020-03-21T00:00:00\", \"2020-03-22T00:00:00\", \"2020-03-23T00:00:00\", \"2020-03-24T00:00:00\", \"2020-03-25T00:00:00\", \"2020-03-26T00:00:00\", \"2020-03-27T00:00:00\", \"2020-03-28T00:00:00\", \"2020-03-29T00:00:00\", \"2020-03-30T00:00:00\", \"2020-03-31T00:00:00\", \"2020-04-01T00:00:00\", \"2020-04-02T00:00:00\", \"2020-04-03T00:00:00\", \"2020-04-04T00:00:00\", \"2020-04-05T00:00:00\", \"2020-04-06T00:00:00\", \"2020-04-07T00:00:00\", \"2020-04-08T00:00:00\", \"2020-04-09T00:00:00\", \"2020-04-10T00:00:00\", \"2020-04-11T00:00:00\", \"2020-04-12T00:00:00\", \"2020-04-13T00:00:00\", \"2020-04-14T00:00:00\", \"2020-04-15T00:00:00\", \"2020-04-16T00:00:00\", \"2020-04-17T00:00:00\", \"2020-04-18T00:00:00\", \"2020-04-19T00:00:00\", \"2020-04-20T00:00:00\", \"2020-04-21T00:00:00\", \"2020-04-22T00:00:00\", \"2020-04-23T00:00:00\", \"2020-04-24T00:00:00\", \"2020-04-25T00:00:00\", \"2020-04-26T00:00:00\", \"2020-04-27T00:00:00\", \"2020-04-28T00:00:00\", \"2020-04-29T00:00:00\", \"2020-04-30T00:00:00\", \"2020-05-01T00:00:00\", \"2020-05-02T00:00:00\", \"2020-05-03T00:00:00\", \"2020-05-04T00:00:00\", \"2020-05-05T00:00:00\", \"2020-05-06T00:00:00\", \"2020-05-07T00:00:00\", \"2020-05-08T00:00:00\", \"2020-05-09T00:00:00\", \"2020-05-10T00:00:00\", \"2020-05-11T00:00:00\", \"2020-05-12T00:00:00\", \"2020-05-13T00:00:00\", \"2020-05-14T00:00:00\", \"2020-05-15T00:00:00\", \"2020-05-16T00:00:00\", \"2020-05-17T00:00:00\", \"2020-05-18T00:00:00\", \"2020-05-19T00:00:00\", \"2020-05-20T00:00:00\", \"2020-05-21T00:00:00\", \"2020-05-22T00:00:00\", \"2020-05-23T00:00:00\", \"2020-05-24T00:00:00\", \"2020-05-25T00:00:00\", \"2020-05-26T00:00:00\", \"2020-05-27T00:00:00\", \"2020-05-28T00:00:00\", \"2020-05-29T00:00:00\", \"2020-05-30T00:00:00\", \"2020-05-31T00:00:00\", \"2020-06-01T00:00:00\", \"2020-06-02T00:00:00\", \"2020-06-03T00:00:00\", \"2020-06-04T00:00:00\", \"2020-06-05T00:00:00\", \"2020-06-06T00:00:00\", \"2020-06-07T00:00:00\", \"2020-06-08T00:00:00\", \"2020-06-09T00:00:00\", \"2020-06-10T00:00:00\", \"2020-06-11T00:00:00\", \"2020-06-12T00:00:00\", \"2020-06-13T00:00:00\", \"2020-06-14T00:00:00\", \"2020-06-15T00:00:00\", \"2020-06-16T00:00:00\", \"2020-06-17T00:00:00\", \"2020-06-18T00:00:00\", \"2020-06-19T00:00:00\", \"2020-06-20T00:00:00\", \"2020-06-21T00:00:00\", \"2020-06-22T00:00:00\", \"2020-06-23T00:00:00\", \"2020-06-24T00:00:00\", \"2020-06-25T00:00:00\", \"2020-06-26T00:00:00\", \"2020-06-27T00:00:00\", \"2020-06-28T00:00:00\", \"2020-06-29T00:00:00\", \"2020-06-30T00:00:00\", \"2020-07-01T00:00:00\", \"2020-07-02T00:00:00\", \"2020-07-03T00:00:00\", \"2020-07-04T00:00:00\", \"2020-07-05T00:00:00\", \"2020-07-06T00:00:00\", \"2020-07-07T00:00:00\", \"2020-07-08T00:00:00\", \"2020-07-09T00:00:00\", \"2020-07-10T00:00:00\", \"2020-07-11T00:00:00\", \"2020-07-12T00:00:00\", \"2020-07-13T00:00:00\", \"2020-07-14T00:00:00\", \"2020-07-15T00:00:00\", \"2020-07-16T00:00:00\", \"2020-07-17T00:00:00\", \"2020-07-18T00:00:00\", \"2020-07-19T00:00:00\", \"2020-07-20T00:00:00\", \"2020-07-21T00:00:00\", \"2020-07-22T00:00:00\", \"2020-07-23T00:00:00\", \"2020-07-24T00:00:00\", \"2020-07-25T00:00:00\", \"2020-07-26T00:00:00\", \"2020-07-27T00:00:00\", \"2020-07-28T00:00:00\", \"2020-07-29T00:00:00\", \"2020-07-30T00:00:00\", \"2020-07-31T00:00:00\", \"2020-08-01T00:00:00\", \"2020-08-02T00:00:00\", \"2020-08-03T00:00:00\", \"2020-08-04T00:00:00\", \"2020-08-05T00:00:00\", \"2020-08-06T00:00:00\", \"2020-08-07T00:00:00\", \"2020-08-08T00:00:00\", \"2020-08-09T00:00:00\", \"2020-08-10T00:00:00\", \"2020-08-11T00:00:00\", \"2020-08-12T00:00:00\", \"2020-08-13T00:00:00\", \"2020-08-14T00:00:00\", \"2020-08-15T00:00:00\", \"2020-08-16T00:00:00\", \"2020-08-17T00:00:00\", \"2020-08-18T00:00:00\", \"2020-08-19T00:00:00\", \"2020-08-20T00:00:00\", \"2020-08-21T00:00:00\", \"2020-08-22T00:00:00\", \"2020-08-23T00:00:00\", \"2020-08-24T00:00:00\", \"2020-08-25T00:00:00\", \"2020-08-26T00:00:00\", \"2020-08-27T00:00:00\", \"2020-08-28T00:00:00\", \"2020-08-29T00:00:00\", \"2020-08-30T00:00:00\", \"2020-08-31T00:00:00\", \"2020-09-01T00:00:00\", \"2020-09-02T00:00:00\", \"2020-09-03T00:00:00\", \"2020-09-04T00:00:00\", \"2020-09-05T00:00:00\", \"2020-09-06T00:00:00\", \"2020-09-07T00:00:00\", \"2020-09-08T00:00:00\", \"2020-09-09T00:00:00\", \"2020-09-10T00:00:00\", \"2020-09-11T00:00:00\", \"2020-09-12T00:00:00\", \"2020-09-13T00:00:00\", \"2020-09-14T00:00:00\", \"2020-09-15T00:00:00\", \"2020-09-16T00:00:00\", \"2020-09-17T00:00:00\", \"2020-09-18T00:00:00\", \"2020-09-19T00:00:00\", \"2020-09-20T00:00:00\", \"2020-09-21T00:00:00\", \"2020-09-22T00:00:00\", \"2020-09-23T00:00:00\", \"2020-09-24T00:00:00\", \"2020-09-25T00:00:00\", \"2020-09-26T00:00:00\", \"2020-09-27T00:00:00\", \"2020-09-28T00:00:00\", \"2020-09-29T00:00:00\", \"2020-09-30T00:00:00\", \"2020-10-01T00:00:00\", \"2020-10-02T00:00:00\", \"2020-10-03T00:00:00\", \"2020-10-04T00:00:00\", \"2020-10-05T00:00:00\", \"2020-10-06T00:00:00\", \"2020-10-07T00:00:00\", \"2020-10-08T00:00:00\", \"2020-10-09T00:00:00\", \"2020-10-10T00:00:00\", \"2020-10-11T00:00:00\", \"2020-10-12T00:00:00\", \"2020-10-13T00:00:00\", \"2020-10-14T00:00:00\", \"2020-10-15T00:00:00\", \"2020-10-16T00:00:00\", \"2020-10-17T00:00:00\", \"2020-10-18T00:00:00\", \"2020-10-19T00:00:00\", \"2020-10-20T00:00:00\", \"2020-10-21T00:00:00\", \"2020-10-22T00:00:00\", \"2020-10-23T00:00:00\", \"2020-10-24T00:00:00\", \"2020-10-25T00:00:00\", \"2020-10-26T00:00:00\", \"2020-10-27T00:00:00\", \"2020-10-28T00:00:00\", \"2020-10-29T00:00:00\", \"2020-10-30T00:00:00\", \"2020-10-31T00:00:00\", \"2020-11-01T00:00:00\", \"2020-11-02T00:00:00\", \"2020-11-03T00:00:00\", \"2020-11-04T00:00:00\", \"2020-11-05T00:00:00\", \"2020-11-06T00:00:00\", \"2020-11-07T00:00:00\", \"2020-11-08T00:00:00\", \"2020-11-09T00:00:00\", \"2020-11-10T00:00:00\", \"2020-11-11T00:00:00\", \"2020-11-12T00:00:00\", \"2020-11-13T00:00:00\", \"2020-11-14T00:00:00\", \"2020-11-15T00:00:00\", \"2020-11-16T00:00:00\", \"2020-11-17T00:00:00\", \"2020-11-18T00:00:00\", \"2020-11-19T00:00:00\", \"2020-11-20T00:00:00\", \"2020-11-21T00:00:00\", \"2020-11-22T00:00:00\", \"2020-11-23T00:00:00\", \"2020-11-24T00:00:00\", \"2020-11-25T00:00:00\", \"2020-11-26T00:00:00\", \"2020-11-27T00:00:00\", \"2020-11-28T00:00:00\", \"2020-11-29T00:00:00\", \"2020-11-30T00:00:00\", \"2020-12-01T00:00:00\", \"2020-12-02T00:00:00\", \"2020-12-03T00:00:00\", \"2020-12-04T00:00:00\", \"2020-12-05T00:00:00\", \"2020-12-06T00:00:00\", \"2020-12-07T00:00:00\", \"2020-12-08T00:00:00\", \"2020-12-09T00:00:00\", \"2020-12-10T00:00:00\", \"2020-12-11T00:00:00\", \"2020-12-12T00:00:00\", \"2020-12-13T00:00:00\", \"2020-12-14T00:00:00\", \"2020-12-15T00:00:00\", \"2020-12-16T00:00:00\", \"2020-12-17T00:00:00\", \"2020-12-18T00:00:00\", \"2020-12-19T00:00:00\", \"2020-12-20T00:00:00\", \"2020-12-21T00:00:00\", \"2020-12-22T00:00:00\", \"2020-12-23T00:00:00\", \"2020-12-24T00:00:00\", \"2020-12-25T00:00:00\", \"2020-12-26T00:00:00\", \"2020-12-27T00:00:00\", \"2020-12-28T00:00:00\", \"2020-12-29T00:00:00\", \"2020-12-30T00:00:00\", \"2020-12-31T00:00:00\", \"2021-01-01T00:00:00\", \"2021-01-02T00:00:00\", \"2021-01-03T00:00:00\", \"2021-01-04T00:00:00\", \"2021-01-05T00:00:00\", \"2021-01-06T00:00:00\", \"2021-01-07T00:00:00\", \"2021-01-08T00:00:00\", \"2021-01-09T00:00:00\", \"2021-01-10T00:00:00\", \"2021-01-11T00:00:00\", \"2021-01-12T00:00:00\", \"2021-01-13T00:00:00\", \"2021-01-14T00:00:00\", \"2021-01-15T00:00:00\", \"2021-01-16T00:00:00\", \"2021-01-17T00:00:00\", \"2021-01-18T00:00:00\", \"2021-01-19T00:00:00\", \"2021-01-20T00:00:00\", \"2021-01-21T00:00:00\", \"2021-01-22T00:00:00\", \"2021-01-23T00:00:00\", \"2021-01-24T00:00:00\", \"2021-01-25T00:00:00\", \"2021-01-26T00:00:00\", \"2021-01-27T00:00:00\", \"2021-01-28T00:00:00\", \"2021-01-29T00:00:00\", \"2021-01-30T00:00:00\", \"2021-01-31T00:00:00\", \"2021-02-01T00:00:00\", \"2021-02-02T00:00:00\", \"2021-02-03T00:00:00\", \"2021-02-04T00:00:00\", \"2021-02-05T00:00:00\", \"2021-02-06T00:00:00\", \"2021-02-07T00:00:00\", \"2021-02-08T00:00:00\", \"2021-02-09T00:00:00\", \"2021-02-10T00:00:00\", \"2021-02-11T00:00:00\", \"2021-02-12T00:00:00\", \"2021-02-13T00:00:00\", \"2021-02-14T00:00:00\", \"2021-02-15T00:00:00\", \"2021-02-16T00:00:00\", \"2021-02-17T00:00:00\", \"2021-02-18T00:00:00\", \"2021-02-19T00:00:00\", \"2021-02-20T00:00:00\", \"2021-02-21T00:00:00\", \"2021-02-22T00:00:00\", \"2021-02-23T00:00:00\", \"2021-02-24T00:00:00\", \"2021-02-25T00:00:00\", \"2021-02-26T00:00:00\", \"2021-02-27T00:00:00\", \"2021-02-28T00:00:00\", \"2021-03-01T00:00:00\", \"2021-03-02T00:00:00\", \"2021-03-03T00:00:00\", \"2021-03-04T00:00:00\", \"2021-03-05T00:00:00\", \"2021-03-06T00:00:00\", \"2021-03-07T00:00:00\", \"2021-03-08T00:00:00\", \"2021-03-09T00:00:00\", \"2021-03-10T00:00:00\", \"2021-03-11T00:00:00\", \"2021-03-12T00:00:00\", \"2021-03-13T00:00:00\", \"2021-03-14T00:00:00\", \"2021-03-15T00:00:00\", \"2021-03-16T00:00:00\", \"2021-03-17T00:00:00\", \"2021-03-18T00:00:00\", \"2021-03-19T00:00:00\", \"2021-03-20T00:00:00\", \"2021-03-21T00:00:00\", \"2021-03-22T00:00:00\", \"2021-03-23T00:00:00\", \"2021-03-24T00:00:00\", \"2021-03-25T00:00:00\", \"2021-03-26T00:00:00\", \"2021-03-27T00:00:00\", \"2021-03-28T00:00:00\", \"2021-03-29T00:00:00\", \"2021-03-30T00:00:00\", \"2021-03-31T00:00:00\", \"2021-04-01T00:00:00\", \"2021-04-02T00:00:00\", \"2021-04-03T00:00:00\", \"2021-04-04T00:00:00\", \"2021-04-05T00:00:00\", \"2021-04-06T00:00:00\", \"2021-04-07T00:00:00\", \"2021-04-08T00:00:00\", \"2021-04-09T00:00:00\", \"2021-04-10T00:00:00\", \"2021-04-11T00:00:00\", \"2021-04-12T00:00:00\", \"2021-04-13T00:00:00\", \"2021-04-14T00:00:00\", \"2021-04-15T00:00:00\", \"2021-04-16T00:00:00\", \"2021-04-17T00:00:00\", \"2021-04-18T00:00:00\", \"2021-04-19T00:00:00\", \"2021-04-20T00:00:00\", \"2021-04-21T00:00:00\", \"2021-04-22T00:00:00\", \"2021-04-23T00:00:00\", \"2021-04-24T00:00:00\", \"2021-04-25T00:00:00\", \"2021-04-26T00:00:00\", \"2021-04-27T00:00:00\", \"2021-04-28T00:00:00\", \"2021-04-29T00:00:00\", \"2021-04-30T00:00:00\", \"2021-05-01T00:00:00\", \"2021-05-02T00:00:00\", \"2021-05-03T00:00:00\", \"2021-05-04T00:00:00\", \"2021-05-05T00:00:00\", \"2021-05-06T00:00:00\", \"2021-05-07T00:00:00\", \"2021-05-08T00:00:00\", \"2021-05-09T00:00:00\", \"2021-05-10T00:00:00\", \"2021-05-11T00:00:00\", \"2021-05-12T00:00:00\", \"2021-05-13T00:00:00\", \"2021-05-14T00:00:00\", \"2021-05-15T00:00:00\", \"2021-05-16T00:00:00\", \"2021-05-17T00:00:00\", \"2021-05-18T00:00:00\", \"2021-05-19T00:00:00\", \"2021-05-20T00:00:00\", \"2021-05-21T00:00:00\", \"2021-05-22T00:00:00\", \"2021-05-23T00:00:00\", \"2021-05-24T00:00:00\", \"2021-05-25T00:00:00\", \"2021-05-26T00:00:00\", \"2021-05-27T00:00:00\", \"2021-05-28T00:00:00\", \"2021-05-29T00:00:00\", \"2021-05-30T00:00:00\", \"2021-05-31T00:00:00\", \"2021-06-01T00:00:00\", \"2021-06-02T00:00:00\", \"2021-06-03T00:00:00\", \"2021-06-04T00:00:00\", \"2021-06-05T00:00:00\", \"2021-06-06T00:00:00\"], \"y\": [17, 18, 26, 42, 56, 82, 131, 133, 171, 213, 259, 362, 426, 492, 564, 634, 719, 806, 906, 1013, 1113, 1118, 1371, 1523, 1666, 1770, 1868, 2008, 2123, 2248, 2252, 2459, 2470, 2630, 2710, 2771, 2814, 2873, 2942, 2996, 3085, 3160, 3255, 3349, 3460, 3564, 3803, 3993, 4267, 4611, 4917, 5414, 5834, 6475, 7153, 7967, 8874, 9985, 11470, 13192, 14878, 16827, 19117, 21927, 24962, 28450, 32180, 35699, 39780, 44528, 50526, 56414, 62576, 68494, 73682, 79621, 87878, 94690, 102480, 109861, 116031, 121891, 127863, 134837, 143309, 150580, 158977, 165122, 170360, 176237, 183498, 190367, 197200, 203968, 209603, 213587, 218344, 224924, 231638, 237475, 242631, 248125, 251643, 255865, 261662, 268162, 273468, 279016, 283236, 286804, 290292, 295776, 300904, 306060, 311280, 315459, 318650, 322408, 327058, 331836, 336497, 341744, 345669, 348686, 349903, 354146, 359196, 363740, 368344, 372368, 375061, 378136, 382812, 388242, 393269, 397846, 401615, 404356, 408059, 412828, 417873, 422514, 426722, 430840, 434243, 437659, 444367, 449514, 454423, 460488, 464596, 468611, 472174, 477392, 482566, 487258, 492005, 496468, 499635, 503314, 508201, 513144, 518216, 523142, 527546, 531035, 534881, 540847, 546120, 551527, 556825, 561644, 565631, 569545, 575143, 580588, 586359, 593028, 598626, 602712, 606923, 613086, 620032, 629920, 635949, 641519, 645232, 650416, 656682, 663286, 669336, 675520, 680975, 685301, 689988, 696518, 703570, 710062, 716350, 721764, 726337, 731689, 737888, 744455, 750670, 760809, 766165, 770430, 774611, 781419, 788145, 794218, 799656, 805154, 809108, 813616, 819901, 826125, 832020, 837549, 842871, 846916, 851092, 857491, 863599, 869283, 875151, 880091, 883937, 893311, 898223, 904328, 910132, 915984, 920865, 924581, 929022, 935449, 941229, 946697, 952363, 957644, 961384, 965484, 971457, 977066, 983722, 989625, 994970, 998657, 1002632, 1008535, 1014997, 1023713, 1028650, 1034014, 1037853, 1044799, 1050575, 1056410, 1062688, 1068835, 1073718, 1077751, 1081735, 1087021, 1093093, 1099209, 1105395, 1110993, 1114535, 1119371, 1125925, 1132554, 1138489, 1145458, 1151275, 1155486, 1161003, 1168375, 1175534, 1182620, 1190217, 1196795, 1201805, 1207910, 1217255, 1227507, 1235521, 1245180, 1252780, 1258655, 1265878, 1275872, 1286323, 1296092, 1305680, 1314763, 1321189, 1329148, 1340217, 1351631, 1362668, 1374555, 1383528, 1390725, 1399250, 1411912, 1424039, 1434930, 1446319, 1455606, 1462769, 1471650, 1484340, 1496932, 1509495, 1522016, 1532309, 1539743, 1548459, 1560740, 1573453, 1586150, 1599170, 1609722, 1617187, 1626363, 1640319, 1653984, 1667431, 1680219, 1690997, 1698921, 1708571, 1722895, 1736712, 1748332, 1756939, 1764342, 1771750, 1781510, 1796676, 1811936, 1825112, 1834782, 1843219, 1850567, 1860712, 1876045, 1891077, 1906021, 1921191, 1933978, 1942329, 1952656, 1969762, 1986448, 2001821, 2016932, 2030186, 2038852, 2048278, 2064851, 2082756, 2099548, 2115567, 2128863, 2137832, 2148601, 2165911, 2182593, 2199602, 2214545, 2228134, 2236127, 2246350, 2261188, 2276913, 2289448, 2306019, 2316156, 2324144, 2332478, 2348010, 2361403, 2374882, 2387346, 2397151, 2403516, 2410410, 2421329, 2432669, 2444040, 2455079, 2463592, 2469474, 2476424, 2487604, 2499603, 2509767, 2520020, 2528161, 2533596, 2540804, 2551236, 2562302, 2572084, 2582098, 2589932, 2595208, 2602070, 2612052, 2621743, 2631503, 2641127, 2649115, 2654615, 2661436, 2671327, 2681453, 2692025, 2702424, 2710472, 2716274, 2723769, 2734875, 2744593, 2755932, 2768151, 2777988, 2784469, 2792433, 2804006, 2816284, 2828157, 2838416, 2846814, 2853745, 2861219, 2873047, 2887894, 2902548, 2915970, 2928387, 2936963, 2946273, 2959617, 2973168, 2986385, 2999220, 3011246, 3019873, 3030383, 3044587, 3058702, 3072451, 3086814, 3100112, 3109787, 3120962, 3135462, 3151188, 3166193, 3180475, 3193054, 3203014, 3214106, 3228020, 3242233, 3256484, 3270218, 3283400, 3293303, 3304083, 3317709, 3331650, 3344795, 3357921, 3369577, 3379677, 3390323, 3404576, 3417920, 3430700, 3443479, 3454827, 3464380, 3473206, 3485957, 3498665, 3511418, 3523130, 3533632, 3541337, 3550017, 3565115, 3691664, 3701573, 3712569, 3721736, 3726458]}],\n",
              "                        {\"template\": {\"data\": {\"bar\": [{\"error_x\": {\"color\": \"#2a3f5f\"}, \"error_y\": {\"color\": \"#2a3f5f\"}, \"marker\": {\"line\": {\"color\": \"#E5ECF6\", \"width\": 0.5}}, \"type\": \"bar\"}], \"barpolar\": [{\"marker\": {\"line\": {\"color\": \"#E5ECF6\", \"width\": 0.5}}, \"type\": \"barpolar\"}], \"carpet\": [{\"aaxis\": {\"endlinecolor\": \"#2a3f5f\", \"gridcolor\": \"white\", \"linecolor\": \"white\", \"minorgridcolor\": \"white\", \"startlinecolor\": \"#2a3f5f\"}, \"baxis\": {\"endlinecolor\": \"#2a3f5f\", \"gridcolor\": \"white\", \"linecolor\": \"white\", \"minorgridcolor\": \"white\", \"startlinecolor\": \"#2a3f5f\"}, \"type\": \"carpet\"}], \"choropleth\": [{\"colorbar\": {\"outlinewidth\": 0, \"ticks\": \"\"}, \"type\": \"choropleth\"}], \"contour\": [{\"colorbar\": {\"outlinewidth\": 0, \"ticks\": \"\"}, \"colorscale\": [[0.0, \"#0d0887\"], [0.1111111111111111, \"#46039f\"], [0.2222222222222222, \"#7201a8\"], [0.3333333333333333, \"#9c179e\"], [0.4444444444444444, \"#bd3786\"], [0.5555555555555556, \"#d8576b\"], [0.6666666666666666, \"#ed7953\"], [0.7777777777777778, \"#fb9f3a\"], [0.8888888888888888, \"#fdca26\"], [1.0, \"#f0f921\"]], \"type\": \"contour\"}], \"contourcarpet\": [{\"colorbar\": {\"outlinewidth\": 0, \"ticks\": \"\"}, \"type\": \"contourcarpet\"}], \"heatmap\": [{\"colorbar\": {\"outlinewidth\": 0, \"ticks\": \"\"}, \"colorscale\": [[0.0, \"#0d0887\"], [0.1111111111111111, \"#46039f\"], [0.2222222222222222, \"#7201a8\"], [0.3333333333333333, \"#9c179e\"], [0.4444444444444444, \"#bd3786\"], [0.5555555555555556, \"#d8576b\"], [0.6666666666666666, \"#ed7953\"], [0.7777777777777778, \"#fb9f3a\"], [0.8888888888888888, \"#fdca26\"], [1.0, \"#f0f921\"]], \"type\": \"heatmap\"}], \"heatmapgl\": [{\"colorbar\": {\"outlinewidth\": 0, \"ticks\": \"\"}, \"colorscale\": [[0.0, \"#0d0887\"], [0.1111111111111111, \"#46039f\"], [0.2222222222222222, \"#7201a8\"], [0.3333333333333333, \"#9c179e\"], [0.4444444444444444, \"#bd3786\"], [0.5555555555555556, \"#d8576b\"], [0.6666666666666666, \"#ed7953\"], [0.7777777777777778, \"#fb9f3a\"], [0.8888888888888888, \"#fdca26\"], [1.0, \"#f0f921\"]], \"type\": \"heatmapgl\"}], \"histogram\": [{\"marker\": {\"colorbar\": {\"outlinewidth\": 0, \"ticks\": \"\"}}, \"type\": \"histogram\"}], \"histogram2d\": [{\"colorbar\": {\"outlinewidth\": 0, \"ticks\": \"\"}, \"colorscale\": [[0.0, \"#0d0887\"], [0.1111111111111111, \"#46039f\"], [0.2222222222222222, \"#7201a8\"], [0.3333333333333333, \"#9c179e\"], [0.4444444444444444, \"#bd3786\"], [0.5555555555555556, \"#d8576b\"], [0.6666666666666666, \"#ed7953\"], [0.7777777777777778, \"#fb9f3a\"], [0.8888888888888888, \"#fdca26\"], [1.0, \"#f0f921\"]], \"type\": \"histogram2d\"}], \"histogram2dcontour\": [{\"colorbar\": {\"outlinewidth\": 0, \"ticks\": \"\"}, \"colorscale\": [[0.0, \"#0d0887\"], [0.1111111111111111, \"#46039f\"], [0.2222222222222222, \"#7201a8\"], [0.3333333333333333, \"#9c179e\"], [0.4444444444444444, \"#bd3786\"], [0.5555555555555556, \"#d8576b\"], [0.6666666666666666, \"#ed7953\"], [0.7777777777777778, \"#fb9f3a\"], [0.8888888888888888, \"#fdca26\"], [1.0, \"#f0f921\"]], \"type\": \"histogram2dcontour\"}], \"mesh3d\": [{\"colorbar\": {\"outlinewidth\": 0, \"ticks\": \"\"}, \"type\": \"mesh3d\"}], \"parcoords\": [{\"line\": {\"colorbar\": {\"outlinewidth\": 0, \"ticks\": \"\"}}, \"type\": \"parcoords\"}], \"pie\": [{\"automargin\": true, \"type\": \"pie\"}], \"scatter\": [{\"marker\": {\"colorbar\": {\"outlinewidth\": 0, \"ticks\": \"\"}}, \"type\": \"scatter\"}], \"scatter3d\": [{\"line\": {\"colorbar\": {\"outlinewidth\": 0, \"ticks\": \"\"}}, \"marker\": {\"colorbar\": {\"outlinewidth\": 0, \"ticks\": \"\"}}, \"type\": \"scatter3d\"}], \"scattercarpet\": [{\"marker\": {\"colorbar\": {\"outlinewidth\": 0, \"ticks\": \"\"}}, \"type\": \"scattercarpet\"}], \"scattergeo\": [{\"marker\": {\"colorbar\": {\"outlinewidth\": 0, \"ticks\": \"\"}}, \"type\": \"scattergeo\"}], \"scattergl\": [{\"marker\": {\"colorbar\": {\"outlinewidth\": 0, \"ticks\": \"\"}}, \"type\": \"scattergl\"}], \"scattermapbox\": [{\"marker\": {\"colorbar\": {\"outlinewidth\": 0, \"ticks\": \"\"}}, \"type\": \"scattermapbox\"}], \"scatterpolar\": [{\"marker\": {\"colorbar\": {\"outlinewidth\": 0, \"ticks\": \"\"}}, \"type\": \"scatterpolar\"}], \"scatterpolargl\": [{\"marker\": {\"colorbar\": {\"outlinewidth\": 0, \"ticks\": \"\"}}, \"type\": \"scatterpolargl\"}], \"scatterternary\": [{\"marker\": {\"colorbar\": {\"outlinewidth\": 0, \"ticks\": \"\"}}, \"type\": \"scatterternary\"}], \"surface\": [{\"colorbar\": {\"outlinewidth\": 0, \"ticks\": \"\"}, \"colorscale\": [[0.0, \"#0d0887\"], [0.1111111111111111, \"#46039f\"], [0.2222222222222222, \"#7201a8\"], [0.3333333333333333, \"#9c179e\"], [0.4444444444444444, \"#bd3786\"], [0.5555555555555556, \"#d8576b\"], [0.6666666666666666, \"#ed7953\"], [0.7777777777777778, \"#fb9f3a\"], [0.8888888888888888, \"#fdca26\"], [1.0, \"#f0f921\"]], \"type\": \"surface\"}], \"table\": [{\"cells\": {\"fill\": {\"color\": \"#EBF0F8\"}, \"line\": {\"color\": \"white\"}}, \"header\": {\"fill\": {\"color\": \"#C8D4E3\"}, \"line\": {\"color\": \"white\"}}, \"type\": \"table\"}]}, \"layout\": {\"annotationdefaults\": {\"arrowcolor\": \"#2a3f5f\", \"arrowhead\": 0, \"arrowwidth\": 1}, \"coloraxis\": {\"colorbar\": {\"outlinewidth\": 0, \"ticks\": \"\"}}, \"colorscale\": {\"diverging\": [[0, \"#8e0152\"], [0.1, \"#c51b7d\"], [0.2, \"#de77ae\"], [0.3, \"#f1b6da\"], [0.4, \"#fde0ef\"], [0.5, \"#f7f7f7\"], [0.6, \"#e6f5d0\"], [0.7, \"#b8e186\"], [0.8, \"#7fbc41\"], [0.9, \"#4d9221\"], [1, \"#276419\"]], \"sequential\": [[0.0, \"#0d0887\"], [0.1111111111111111, \"#46039f\"], [0.2222222222222222, \"#7201a8\"], [0.3333333333333333, \"#9c179e\"], [0.4444444444444444, \"#bd3786\"], [0.5555555555555556, \"#d8576b\"], [0.6666666666666666, \"#ed7953\"], [0.7777777777777778, \"#fb9f3a\"], [0.8888888888888888, \"#fdca26\"], [1.0, \"#f0f921\"]], \"sequentialminus\": [[0.0, \"#0d0887\"], [0.1111111111111111, \"#46039f\"], [0.2222222222222222, \"#7201a8\"], [0.3333333333333333, \"#9c179e\"], [0.4444444444444444, \"#bd3786\"], [0.5555555555555556, \"#d8576b\"], [0.6666666666666666, \"#ed7953\"], [0.7777777777777778, \"#fb9f3a\"], [0.8888888888888888, \"#fdca26\"], [1.0, \"#f0f921\"]]}, \"colorway\": [\"#636efa\", \"#EF553B\", \"#00cc96\", \"#ab63fa\", \"#FFA15A\", \"#19d3f3\", \"#FF6692\", \"#B6E880\", \"#FF97FF\", \"#FECB52\"], \"font\": {\"color\": \"#2a3f5f\"}, \"geo\": {\"bgcolor\": \"white\", \"lakecolor\": \"white\", \"landcolor\": \"#E5ECF6\", \"showlakes\": true, \"showland\": true, \"subunitcolor\": \"white\"}, \"hoverlabel\": {\"align\": \"left\"}, \"hovermode\": \"closest\", \"mapbox\": {\"style\": \"light\"}, \"paper_bgcolor\": \"white\", \"plot_bgcolor\": \"#E5ECF6\", \"polar\": {\"angularaxis\": {\"gridcolor\": \"white\", \"linecolor\": \"white\", \"ticks\": \"\"}, \"bgcolor\": \"#E5ECF6\", \"radialaxis\": {\"gridcolor\": \"white\", \"linecolor\": \"white\", \"ticks\": \"\"}}, \"scene\": {\"xaxis\": {\"backgroundcolor\": \"#E5ECF6\", \"gridcolor\": \"white\", \"gridwidth\": 2, \"linecolor\": \"white\", \"showbackground\": true, \"ticks\": \"\", \"zerolinecolor\": \"white\"}, \"yaxis\": {\"backgroundcolor\": \"#E5ECF6\", \"gridcolor\": \"white\", \"gridwidth\": 2, \"linecolor\": \"white\", \"showbackground\": true, \"ticks\": \"\", \"zerolinecolor\": \"white\"}, \"zaxis\": {\"backgroundcolor\": \"#E5ECF6\", \"gridcolor\": \"white\", \"gridwidth\": 2, \"linecolor\": \"white\", \"showbackground\": true, \"ticks\": \"\", \"zerolinecolor\": \"white\"}}, \"shapedefaults\": {\"line\": {\"color\": \"#2a3f5f\"}}, \"ternary\": {\"aaxis\": {\"gridcolor\": \"white\", \"linecolor\": \"white\", \"ticks\": \"\"}, \"baxis\": {\"gridcolor\": \"white\", \"linecolor\": \"white\", \"ticks\": \"\"}, \"bgcolor\": \"#E5ECF6\", \"caxis\": {\"gridcolor\": \"white\", \"linecolor\": \"white\", \"ticks\": \"\"}}, \"title\": {\"x\": 0.05}, \"xaxis\": {\"automargin\": true, \"gridcolor\": \"white\", \"linecolor\": \"white\", \"ticks\": \"\", \"title\": {\"standoff\": 15}, \"zerolinecolor\": \"white\", \"zerolinewidth\": 2}, \"yaxis\": {\"automargin\": true, \"gridcolor\": \"white\", \"linecolor\": \"white\", \"ticks\": \"\", \"title\": {\"standoff\": 15}, \"zerolinecolor\": \"white\", \"zerolinewidth\": 2}}}, \"title\": {\"text\": \"Worldwide COVID-19 Cases\"}, \"xaxis\": {\"tickfont\": {\"size\": 14}}, \"yaxis\": {\"title\": {\"text\": \"Number of Cases\"}}},\n",
              "                        {\"responsive\": true}\n",
              "                    ).then(function(){\n",
              "                            \n",
              "var gd = document.getElementById('eb49d7f9-8bd0-429c-b9c2-1b57ccc40c41');\n",
              "var x = new MutationObserver(function (mutations, observer) {{\n",
              "        var display = window.getComputedStyle(gd).display;\n",
              "        if (!display || display === 'none') {{\n",
              "            console.log([gd, 'removed!']);\n",
              "            Plotly.purge(gd);\n",
              "            observer.disconnect();\n",
              "        }}\n",
              "}});\n",
              "\n",
              "// Listen for the removal of the full notebook cells\n",
              "var notebookContainer = gd.closest('#notebook-container');\n",
              "if (notebookContainer) {{\n",
              "    x.observe(notebookContainer, {childList: true});\n",
              "}}\n",
              "\n",
              "// Listen for the clearing of the current output cell\n",
              "var outputEl = gd.closest('.output');\n",
              "if (outputEl) {{\n",
              "    x.observe(outputEl, {childList: true});\n",
              "}}\n",
              "\n",
              "                        })\n",
              "                };\n",
              "                \n",
              "            </script>\n",
              "        </div>\n",
              "</body>\n",
              "</html>"
            ]
          },
          "metadata": {
            "tags": []
          }
        }
      ]
    },
    {
      "cell_type": "markdown",
      "metadata": {
        "id": "Zh9xG7H0JKiy"
      },
      "source": [
        "ARIMA\n"
      ],
      "id": "Zh9xG7H0JKiy"
    },
    {
      "cell_type": "code",
      "metadata": {
        "id": "AB0kbY_TIiwb"
      },
      "source": [
        "confirmed.set_index('Date',inplace=True)\n",
        "deaths.set_index('Date',inplace=True)"
      ],
      "id": "AB0kbY_TIiwb",
      "execution_count": 20,
      "outputs": []
    },
    {
      "cell_type": "code",
      "metadata": {
        "id": "BRT3_oKQIizN"
      },
      "source": [
        "### Testing For Stationarity\n",
        "\n",
        "from statsmodels.tsa.stattools import adfuller"
      ],
      "id": "BRT3_oKQIizN",
      "execution_count": 21,
      "outputs": []
    },
    {
      "cell_type": "markdown",
      "metadata": {
        "id": "2zLjSi-fKJt2"
      },
      "source": [
        "FOR CONFIRMED DATASET"
      ],
      "id": "2zLjSi-fKJt2"
    },
    {
      "cell_type": "code",
      "metadata": {
        "id": "EukZjS2dIi1x"
      },
      "source": [
        "test_result=adfuller(confirmed['Confirmed'])"
      ],
      "id": "EukZjS2dIi1x",
      "execution_count": 22,
      "outputs": []
    },
    {
      "cell_type": "code",
      "metadata": {
        "id": "1lm01Z05Ja-y"
      },
      "source": [
        "def adfuller_test(Confirmed):\n",
        "    result=adfuller(Confirmed)\n",
        "    labels = ['ADF Test Statistic','p-value','#Lags Used','Number of Observations Used']\n",
        "    for value,label in zip(result,labels):\n",
        "        print(label+' : '+str(value) )\n",
        "    if result[1] <= 0.05:\n",
        "        print(\"strong evidence against the null hypothesis(Ho), reject the null hypothesis. Data has no unit root and is stationary\")\n",
        "    else:\n",
        "        print(\"weak evidence against null hypothesis, time series has a unit root, indicating it is non-stationary \")"
      ],
      "id": "1lm01Z05Ja-y",
      "execution_count": 23,
      "outputs": []
    },
    {
      "cell_type": "code",
      "metadata": {
        "colab": {
          "base_uri": "https://localhost:8080/"
        },
        "id": "nzH4T9TjJbB3",
        "outputId": "95c588a7-e295-41fe-ecec-f6981c423dbc"
      },
      "source": [
        "adfuller_test(confirmed['Confirmed'])"
      ],
      "id": "nzH4T9TjJbB3",
      "execution_count": 24,
      "outputs": [
        {
          "output_type": "stream",
          "text": [
            "ADF Test Statistic : 0.02026333776247091\n",
            "p-value : 0.9601761117089871\n",
            "#Lags Used : 15\n",
            "Number of Observations Used : 486\n",
            "weak evidence against null hypothesis, time series has a unit root, indicating it is non-stationary \n"
          ],
          "name": "stdout"
        }
      ]
    },
    {
      "cell_type": "code",
      "metadata": {
        "id": "lgh2mPpZJbEq"
      },
      "source": [
        "# Calculating the log to make the confirmed time series stationary\n",
        "confirmed['adj_log'] = np.log(confirmed['Confirmed'])"
      ],
      "id": "lgh2mPpZJbEq",
      "execution_count": 25,
      "outputs": []
    },
    {
      "cell_type": "code",
      "metadata": {
        "id": "GfSHWFiLJbHp"
      },
      "source": [
        "confirmed['confirmed_log_diff'] = confirmed['adj_log']  - confirmed['adj_log'] .shift(1)"
      ],
      "id": "GfSHWFiLJbHp",
      "execution_count": 26,
      "outputs": []
    },
    {
      "cell_type": "code",
      "metadata": {
        "colab": {
          "base_uri": "https://localhost:8080/"
        },
        "id": "BLhqVG8rJbKn",
        "outputId": "cdbdf715-ad70-4e41-b28e-d7e988bc52d9"
      },
      "source": [
        "adfuller_test(confirmed['confirmed_log_diff'].dropna())"
      ],
      "id": "BLhqVG8rJbKn",
      "execution_count": 27,
      "outputs": [
        {
          "output_type": "stream",
          "text": [
            "ADF Test Statistic : -2.98675454427855\n",
            "p-value : 0.036150010944704936\n",
            "#Lags Used : 17\n",
            "Number of Observations Used : 483\n",
            "strong evidence against the null hypothesis(Ho), reject the null hypothesis. Data has no unit root and is stationary\n"
          ],
          "name": "stdout"
        }
      ]
    },
    {
      "cell_type": "markdown",
      "metadata": {
        "id": "eghUSstXK0Q-"
      },
      "source": [
        "FOR DEATH DATASET"
      ],
      "id": "eghUSstXK0Q-"
    },
    {
      "cell_type": "code",
      "metadata": {
        "id": "FK_Eo_2AKEjd"
      },
      "source": [
        "test_result=adfuller(deaths['Deaths'])"
      ],
      "id": "FK_Eo_2AKEjd",
      "execution_count": 28,
      "outputs": []
    },
    {
      "cell_type": "code",
      "metadata": {
        "id": "pvtFe2zYKUV-"
      },
      "source": [
        "def adfuller_test(Deaths):\n",
        "    result=adfuller(Deaths)\n",
        "    labels = ['ADF Test Statistic','p-value','#Lags Used','Number of Observations Used']\n",
        "    for value,label in zip(result,labels):\n",
        "        print(label+' : '+str(value) )\n",
        "    if result[1] <= 0.05:\n",
        "        print(\"strong evidence against the null hypothesis(Ho), reject the null hypothesis. Data has no unit root and is stationary\")\n",
        "    else:\n",
        "        print(\"weak evidence against null hypothesis, time series has a unit root, indicating it is non-stationary \")"
      ],
      "id": "pvtFe2zYKUV-",
      "execution_count": 29,
      "outputs": []
    },
    {
      "cell_type": "code",
      "metadata": {
        "colab": {
          "base_uri": "https://localhost:8080/"
        },
        "id": "t_pndDyHKZMj",
        "outputId": "59823773-17e8-4fdf-d045-75d82760b715"
      },
      "source": [
        "adfuller_test(deaths['Deaths'])"
      ],
      "id": "t_pndDyHKZMj",
      "execution_count": 30,
      "outputs": [
        {
          "output_type": "stream",
          "text": [
            "ADF Test Statistic : 2.5212695668177085\n",
            "p-value : 0.9990563896880673\n",
            "#Lags Used : 9\n",
            "Number of Observations Used : 492\n",
            "weak evidence against null hypothesis, time series has a unit root, indicating it is non-stationary \n"
          ],
          "name": "stdout"
        }
      ]
    },
    {
      "cell_type": "code",
      "metadata": {
        "id": "PNLw4XvLKZTr"
      },
      "source": [
        "# Calculating the log to make the confirmed time series stationary\n",
        "deaths['adj_log'] = np.log(deaths['Deaths'])"
      ],
      "id": "PNLw4XvLKZTr",
      "execution_count": 31,
      "outputs": []
    },
    {
      "cell_type": "code",
      "metadata": {
        "id": "Y56MqeEKKgXK"
      },
      "source": [
        "deaths['deaths_log_diff'] = deaths['adj_log']  - deaths['adj_log'] .shift(1)"
      ],
      "id": "Y56MqeEKKgXK",
      "execution_count": 32,
      "outputs": []
    },
    {
      "cell_type": "code",
      "metadata": {
        "colab": {
          "base_uri": "https://localhost:8080/"
        },
        "id": "8B7jYHybKgbG",
        "outputId": "759e9fbb-8fe9-4dbb-e571-944e304e1b90"
      },
      "source": [
        "adfuller_test(deaths['deaths_log_diff'].dropna())"
      ],
      "id": "8B7jYHybKgbG",
      "execution_count": 33,
      "outputs": [
        {
          "output_type": "stream",
          "text": [
            "ADF Test Statistic : -3.2329855425509124\n",
            "p-value : 0.018152999100318593\n",
            "#Lags Used : 18\n",
            "Number of Observations Used : 482\n",
            "strong evidence against the null hypothesis(Ho), reject the null hypothesis. Data has no unit root and is stationary\n"
          ],
          "name": "stdout"
        }
      ]
    },
    {
      "cell_type": "markdown",
      "metadata": {
        "id": "DU-kyAlKMFzU"
      },
      "source": [
        "APPLYING ARIMA MODEL"
      ],
      "id": "DU-kyAlKMFzU"
    },
    {
      "cell_type": "code",
      "metadata": {
        "id": "AgCFlELXMAeI"
      },
      "source": [
        "from pmdarima import auto_arima\n",
        "import warnings\n",
        "warnings.filterwarnings(\"ignore\")"
      ],
      "id": "AgCFlELXMAeI",
      "execution_count": 34,
      "outputs": []
    },
    {
      "cell_type": "code",
      "metadata": {
        "colab": {
          "base_uri": "https://localhost:8080/"
        },
        "id": "ubE8VtC8MAhC",
        "outputId": "b911ed5d-e84b-446b-9665-0c5cd090a6fc"
      },
      "source": [
        "# FOR CONFIRMED DATASET\n",
        "stepwise_fit = auto_arima(confirmed['Confirmed'],trace=True,suppress_warnings=True)\n",
        "#stepwise_fit.summary()"
      ],
      "id": "ubE8VtC8MAhC",
      "execution_count": 35,
      "outputs": [
        {
          "output_type": "stream",
          "text": [
            "Performing stepwise search to minimize aic\n",
            " ARIMA(2,2,2)(0,0,0)[0]             : AIC=12466.386, Time=0.96 sec\n",
            " ARIMA(0,2,0)(0,0,0)[0]             : AIC=12675.502, Time=0.02 sec\n",
            " ARIMA(1,2,0)(0,0,0)[0]             : AIC=12661.549, Time=0.03 sec\n",
            " ARIMA(0,2,1)(0,0,0)[0]             : AIC=12645.546, Time=0.06 sec\n",
            " ARIMA(1,2,2)(0,0,0)[0]             : AIC=12590.546, Time=0.23 sec\n",
            " ARIMA(2,2,1)(0,0,0)[0]             : AIC=12579.015, Time=0.30 sec\n",
            " ARIMA(3,2,2)(0,0,0)[0]             : AIC=12411.232, Time=1.15 sec\n",
            " ARIMA(3,2,1)(0,0,0)[0]             : AIC=12531.768, Time=0.26 sec\n",
            " ARIMA(4,2,2)(0,0,0)[0]             : AIC=12383.181, Time=1.21 sec\n",
            " ARIMA(4,2,1)(0,0,0)[0]             : AIC=12485.929, Time=0.26 sec\n",
            " ARIMA(5,2,2)(0,0,0)[0]             : AIC=12374.785, Time=1.62 sec\n",
            " ARIMA(5,2,1)(0,0,0)[0]             : AIC=12449.639, Time=0.48 sec\n",
            " ARIMA(5,2,3)(0,0,0)[0]             : AIC=12383.437, Time=2.09 sec\n",
            " ARIMA(4,2,3)(0,0,0)[0]             : AIC=12410.423, Time=1.65 sec\n",
            " ARIMA(5,2,2)(0,0,0)[0] intercept   : AIC=12377.315, Time=1.89 sec\n",
            "\n",
            "Best model:  ARIMA(5,2,2)(0,0,0)[0]          \n",
            "Total fit time: 12.257 seconds\n"
          ],
          "name": "stdout"
        }
      ]
    },
    {
      "cell_type": "code",
      "metadata": {
        "colab": {
          "base_uri": "https://localhost:8080/"
        },
        "id": "v6r8TEPiMAk3",
        "outputId": "96468edb-a0cc-4825-916b-62a101d61edf"
      },
      "source": [
        "# FOR DEATHS DATASET\n",
        "stepwise_fit = auto_arima(deaths['Deaths'],trace=True,suppress_warnings=True)\n",
        "#stepwise_fit.summary()"
      ],
      "id": "v6r8TEPiMAk3",
      "execution_count": 36,
      "outputs": [
        {
          "output_type": "stream",
          "text": [
            "Performing stepwise search to minimize aic\n",
            " ARIMA(2,2,2)(0,0,0)[0]             : AIC=10058.852, Time=0.22 sec\n",
            " ARIMA(0,2,0)(0,0,0)[0]             : AIC=10334.918, Time=0.02 sec\n",
            " ARIMA(1,2,0)(0,0,0)[0]             : AIC=10227.187, Time=0.04 sec\n",
            " ARIMA(0,2,1)(0,0,0)[0]             : AIC=10051.631, Time=0.22 sec\n",
            " ARIMA(1,2,1)(0,0,0)[0]             : AIC=10052.624, Time=0.29 sec\n",
            " ARIMA(0,2,2)(0,0,0)[0]             : AIC=10053.285, Time=0.14 sec\n",
            " ARIMA(1,2,2)(0,0,0)[0]             : AIC=10055.159, Time=0.44 sec\n",
            " ARIMA(0,2,1)(0,0,0)[0] intercept   : AIC=10049.445, Time=0.41 sec\n",
            " ARIMA(0,2,0)(0,0,0)[0] intercept   : AIC=10336.913, Time=0.03 sec\n",
            " ARIMA(1,2,1)(0,0,0)[0] intercept   : AIC=10050.282, Time=0.70 sec\n",
            " ARIMA(0,2,2)(0,0,0)[0] intercept   : AIC=10050.487, Time=0.48 sec\n",
            " ARIMA(1,2,0)(0,0,0)[0] intercept   : AIC=10229.184, Time=0.05 sec\n",
            " ARIMA(1,2,2)(0,0,0)[0] intercept   : AIC=inf, Time=1.16 sec\n",
            "\n",
            "Best model:  ARIMA(0,2,1)(0,0,0)[0] intercept\n",
            "Total fit time: 4.238 seconds\n"
          ],
          "name": "stdout"
        }
      ]
    },
    {
      "cell_type": "code",
      "metadata": {
        "id": "DCoV66cxMAp5"
      },
      "source": [
        "from statsmodels.tsa.arima_model import ARIMA"
      ],
      "id": "DCoV66cxMAp5",
      "execution_count": 37,
      "outputs": []
    },
    {
      "cell_type": "markdown",
      "metadata": {
        "id": "6AStBPmKNbPE"
      },
      "source": [
        "split data into train and test set"
      ],
      "id": "6AStBPmKNbPE"
    },
    {
      "cell_type": "code",
      "metadata": {
        "colab": {
          "base_uri": "https://localhost:8080/"
        },
        "id": "PtaBxvvFMAtJ",
        "outputId": "febcc5d7-92a5-4d31-9446-ef18c06a3fdc"
      },
      "source": [
        "print(confirmed.shape)\n",
        "print(deaths.shape)"
      ],
      "id": "PtaBxvvFMAtJ",
      "execution_count": 38,
      "outputs": [
        {
          "output_type": "stream",
          "text": [
            "(502, 3)\n",
            "(502, 3)\n"
          ],
          "name": "stdout"
        }
      ]
    },
    {
      "cell_type": "code",
      "metadata": {
        "id": "kD6kJlsFNXQy"
      },
      "source": [
        "train_confirmed = confirmed.iloc[:-30]\n",
        "test_confirmed = confirmed.iloc[-30:]"
      ],
      "id": "kD6kJlsFNXQy",
      "execution_count": 39,
      "outputs": []
    },
    {
      "cell_type": "code",
      "metadata": {
        "id": "30A_d6f1NXT1"
      },
      "source": [
        "train_deaths = deaths.iloc[:-30]\n",
        "test_deaths = deaths.iloc[-30:]"
      ],
      "id": "30A_d6f1NXT1",
      "execution_count": 40,
      "outputs": []
    },
    {
      "cell_type": "code",
      "metadata": {
        "colab": {
          "base_uri": "https://localhost:8080/"
        },
        "id": "bcNT8c2PN04J",
        "outputId": "2fb3353b-86c4-44cf-9b27-a1109e4ea9f5"
      },
      "source": [
        "print(train_confirmed.shape,test_confirmed.shape)\n",
        "print(train_deaths.shape,test_deaths.shape)"
      ],
      "id": "bcNT8c2PN04J",
      "execution_count": 41,
      "outputs": [
        {
          "output_type": "stream",
          "text": [
            "(472, 3) (30, 3)\n",
            "(472, 3) (30, 3)\n"
          ],
          "name": "stdout"
        }
      ]
    },
    {
      "cell_type": "markdown",
      "metadata": {
        "id": "UBsh5NhMOzb5"
      },
      "source": [
        "training the model in confirmed dataset"
      ],
      "id": "UBsh5NhMOzb5"
    },
    {
      "cell_type": "code",
      "metadata": {
        "id": "WZnDmFZnN087"
      },
      "source": [
        "model = ARIMA(train_confirmed['Confirmed'],order=(5,2,2))\n",
        "model = model.fit()\n",
        "#model.summary()"
      ],
      "id": "WZnDmFZnN087",
      "execution_count": 42,
      "outputs": []
    },
    {
      "cell_type": "markdown",
      "metadata": {
        "id": "RGFw772HO5ua"
      },
      "source": [
        "make predictions on test set of confirmed dataset"
      ],
      "id": "RGFw772HO5ua"
    },
    {
      "cell_type": "code",
      "metadata": {
        "colab": {
          "base_uri": "https://localhost:8080/"
        },
        "id": "nuTBrDP8N1Ad",
        "outputId": "c97bad5c-6550-457a-8a60-d389d132f886"
      },
      "source": [
        "start = len(train_confirmed)\n",
        "end = len(train_confirmed)+len(test_confirmed)-1\n",
        "pred_confirmed = model.predict(start=start,end=end,typ='levels')\n",
        "print(pred_confirmed)"
      ],
      "id": "nuTBrDP8N1Ad",
      "execution_count": 43,
      "outputs": [
        {
          "output_type": "stream",
          "text": [
            "2021-05-08    1.576595e+08\n",
            "2021-05-09    1.583474e+08\n",
            "2021-05-10    1.590476e+08\n",
            "2021-05-11    1.598229e+08\n",
            "2021-05-12    1.606807e+08\n",
            "2021-05-13    1.615678e+08\n",
            "2021-05-14    1.624113e+08\n",
            "2021-05-15    1.631724e+08\n",
            "2021-05-16    1.638759e+08\n",
            "2021-05-17    1.645911e+08\n",
            "2021-05-18    1.653795e+08\n",
            "2021-05-19    1.662485e+08\n",
            "2021-05-20    1.671460e+08\n",
            "2021-05-21    1.680002e+08\n",
            "2021-05-22    1.687737e+08\n",
            "2021-05-23    1.694913e+08\n",
            "2021-05-24    1.702210e+08\n",
            "2021-05-25    1.710228e+08\n",
            "2021-05-26    1.719031e+08\n",
            "2021-05-27    1.728109e+08\n",
            "2021-05-28    1.736758e+08\n",
            "2021-05-29    1.744618e+08\n",
            "2021-05-30    1.751935e+08\n",
            "2021-05-31    1.759377e+08\n",
            "2021-06-01    1.767527e+08\n",
            "2021-06-02    1.776445e+08\n",
            "2021-06-03    1.785626e+08\n",
            "2021-06-04    1.794383e+08\n",
            "2021-06-05    1.802367e+08\n",
            "2021-06-06    1.809825e+08\n",
            "Freq: D, dtype: float64\n"
          ],
          "name": "stdout"
        }
      ]
    },
    {
      "cell_type": "code",
      "metadata": {
        "colab": {
          "base_uri": "https://localhost:8080/",
          "height": 651
        },
        "id": "pgSoLWV8N1Di",
        "outputId": "16901b5b-f824-4458-cfb5-6968fa8efb88"
      },
      "source": [
        "pred_confirmed.plot(legend=True)\n",
        "test_confirmed['Confirmed'].plot(legend=True)\n",
        "plt.xlabel(\"Date\")\n",
        "plt.ylabel(\"No. of Confirmed cases\")\n",
        "plt.legend([\"predicted confirmed cases\",\"actual confirmed cases\"])\n",
        "plt.show()"
      ],
      "id": "pgSoLWV8N1Di",
      "execution_count": 44,
      "outputs": [
        {
          "output_type": "display_data",
          "data": {
            "image/png": "[encoded data removed]",
            "text/plain": [
              "<Figure size 576x720 with 1 Axes>"
            ]
          },
          "metadata": {
            "tags": [],
            "needs_background": "light"
          }
        }
      ]
    },
    {
      "cell_type": "markdown",
      "metadata": {
        "id": "UitFyMdbQO8S"
      },
      "source": [
        "CHECKING THE R2-SCORE FOR CONFIRMED DATASET"
      ],
      "id": "UitFyMdbQO8S"
    },
    {
      "cell_type": "code",
      "metadata": {
        "colab": {
          "base_uri": "https://localhost:8080/"
        },
        "id": "EDbHZfV9QCej",
        "outputId": "02474dcd-caba-4d5c-85b4-b449b965f31d"
      },
      "source": [
        "score=r2_score(test_confirmed['Confirmed'],pred_confirmed)\n",
        "print(\"r2_score is \",score)"
      ],
      "id": "EDbHZfV9QCej",
      "execution_count": 45,
      "outputs": [
        {
          "output_type": "stream",
          "text": [
            "r2_score is  0.339867968660161\n"
          ],
          "name": "stdout"
        }
      ]
    },
    {
      "cell_type": "markdown",
      "metadata": {
        "id": "ePkh7pX6QmOx"
      },
      "source": [
        "training the model in deaths dataset"
      ],
      "id": "ePkh7pX6QmOx"
    },
    {
      "cell_type": "code",
      "metadata": {
        "id": "SjY6ewZHQCh5"
      },
      "source": [
        "model = ARIMA(train_deaths['Deaths'],order=(0,2,1))\n",
        "model = model.fit()\n",
        "#model.summary()"
      ],
      "id": "SjY6ewZHQCh5",
      "execution_count": 46,
      "outputs": []
    },
    {
      "cell_type": "markdown",
      "metadata": {
        "id": "p-GBC2FUQ2Na"
      },
      "source": [
        "make predictions on test set of deaths dataset"
      ],
      "id": "p-GBC2FUQ2Na"
    },
    {
      "cell_type": "code",
      "metadata": {
        "colab": {
          "base_uri": "https://localhost:8080/"
        },
        "id": "6mE5ddPUQg5K",
        "outputId": "9f6c68e7-a917-4d45-baf5-0ba48ee0b09c"
      },
      "source": [
        "start = len(train_deaths)\n",
        "end = len(train_deaths)+len(test_deaths)-1\n",
        "pred_deaths = model.predict(start=start,end=end,typ='levels')\n",
        "print(pred_deaths)"
      ],
      "id": "6mE5ddPUQg5K",
      "execution_count": 47,
      "outputs": [
        {
          "output_type": "stream",
          "text": [
            "2021-05-08    3.283885e+06\n",
            "2021-05-09    3.297582e+06\n",
            "2021-05-10    3.311307e+06\n",
            "2021-05-11    3.325062e+06\n",
            "2021-05-12    3.338847e+06\n",
            "2021-05-13    3.352660e+06\n",
            "2021-05-14    3.366502e+06\n",
            "2021-05-15    3.380374e+06\n",
            "2021-05-16    3.394275e+06\n",
            "2021-05-17    3.408206e+06\n",
            "2021-05-18    3.422165e+06\n",
            "2021-05-19    3.436154e+06\n",
            "2021-05-20    3.450172e+06\n",
            "2021-05-21    3.464219e+06\n",
            "2021-05-22    3.478295e+06\n",
            "2021-05-23    3.492401e+06\n",
            "2021-05-24    3.506535e+06\n",
            "2021-05-25    3.520699e+06\n",
            "2021-05-26    3.534893e+06\n",
            "2021-05-27    3.549115e+06\n",
            "2021-05-28    3.563367e+06\n",
            "2021-05-29    3.577648e+06\n",
            "2021-05-30    3.591958e+06\n",
            "2021-05-31    3.606297e+06\n",
            "2021-06-01    3.620665e+06\n",
            "2021-06-02    3.635063e+06\n",
            "2021-06-03    3.649490e+06\n",
            "2021-06-04    3.663946e+06\n",
            "2021-06-05    3.678432e+06\n",
            "2021-06-06    3.692946e+06\n",
            "Freq: D, dtype: float64\n"
          ],
          "name": "stdout"
        }
      ]
    },
    {
      "cell_type": "code",
      "metadata": {
        "colab": {
          "base_uri": "https://localhost:8080/",
          "height": 651
        },
        "id": "xhCGJLmTQg8F",
        "outputId": "0b20530e-1df1-4c72-cd7b-f423fa1bbb40"
      },
      "source": [
        "pred_deaths.plot(legend=True)\n",
        "test_deaths['Deaths'].plot(legend=True)\n",
        "plt.xlabel(\"Date\")\n",
        "plt.ylabel(\"No. of Confirmed cases\")\n",
        "plt.legend([\"predicted death cases\",\"actual death cases\"])\n",
        "plt.show()"
      ],
      "id": "xhCGJLmTQg8F",
      "execution_count": 48,
      "outputs": [
        {
          "output_type": "display_data",
          "data": {
            "image/png": "[encoded data removed]",
            "text/plain": [
              "<Figure size 576x720 with 1 Axes>"
            ]
          },
          "metadata": {
            "tags": [],
            "needs_background": "light"
          }
        }
      ]
    },
    {
      "cell_type": "markdown",
      "metadata": {
        "id": "L4ithdi4RHt1"
      },
      "source": [
        "CHECKING THE R2-SCORE FOR DEATH DATASET"
      ],
      "id": "L4ithdi4RHt1"
    },
    {
      "cell_type": "code",
      "metadata": {
        "colab": {
          "base_uri": "https://localhost:8080/"
        },
        "id": "Ggqeay0AROMo",
        "outputId": "f8b10455-4c85-4f57-d9ca-5a0eb2088d70"
      },
      "source": [
        "score=r2_score(test_deaths['Deaths'],pred_deaths)\n",
        "print(\"r2_score is \",score)"
      ],
      "id": "Ggqeay0AROMo",
      "execution_count": 49,
      "outputs": [
        {
          "output_type": "stream",
          "text": [
            "r2_score is  0.9374347067005159\n"
          ],
          "name": "stdout"
        }
      ]
    },
    {
      "cell_type": "markdown",
      "metadata": {
        "id": "d7ZUehPzLz-7"
      },
      "source": [
        "FBPROPHET\n"
      ],
      "id": "d7ZUehPzLz-7"
    },
    {
      "cell_type": "code",
      "metadata": {
        "colab": {
          "base_uri": "https://localhost:8080/",
          "height": 204
        },
        "id": "GctReCpuW-Uq",
        "outputId": "6a80790e-7589-47d0-a6b9-3af1e2eca6a8"
      },
      "source": [
        "confirmed_df.head()"
      ],
      "id": "GctReCpuW-Uq",
      "execution_count": 50,
      "outputs": [
        {
          "output_type": "execute_result",
          "data": {
            "text/html": [
              "<div>\n",
              "<style scoped>\n",
              "    .dataframe tbody tr th:only-of-type {\n",
              "        vertical-align: middle;\n",
              "    }\n",
              "\n",
              "    .dataframe tbody tr th {\n",
              "        vertical-align: top;\n",
              "    }\n",
              "\n",
              "    .dataframe thead th {\n",
              "        text-align: right;\n",
              "    }\n",
              "</style>\n",
              "<table border=\"1\" class=\"dataframe\">\n",
              "  <thead>\n",
              "    <tr style=\"text-align: right;\">\n",
              "      <th></th>\n",
              "      <th>Province/State</th>\n",
              "      <th>Country</th>\n",
              "      <th>Date</th>\n",
              "      <th>Confirmed</th>\n",
              "    </tr>\n",
              "  </thead>\n",
              "  <tbody>\n",
              "    <tr>\n",
              "      <th>0</th>\n",
              "      <td>NaN</td>\n",
              "      <td>Afghanistan</td>\n",
              "      <td>2020-01-22</td>\n",
              "      <td>0</td>\n",
              "    </tr>\n",
              "    <tr>\n",
              "      <th>1</th>\n",
              "      <td>NaN</td>\n",
              "      <td>Albania</td>\n",
              "      <td>2020-01-22</td>\n",
              "      <td>0</td>\n",
              "    </tr>\n",
              "    <tr>\n",
              "      <th>2</th>\n",
              "      <td>NaN</td>\n",
              "      <td>Algeria</td>\n",
              "      <td>2020-01-22</td>\n",
              "      <td>0</td>\n",
              "    </tr>\n",
              "    <tr>\n",
              "      <th>3</th>\n",
              "      <td>NaN</td>\n",
              "      <td>Andorra</td>\n",
              "      <td>2020-01-22</td>\n",
              "      <td>0</td>\n",
              "    </tr>\n",
              "    <tr>\n",
              "      <th>4</th>\n",
              "      <td>NaN</td>\n",
              "      <td>Angola</td>\n",
              "      <td>2020-01-22</td>\n",
              "      <td>0</td>\n",
              "    </tr>\n",
              "  </tbody>\n",
              "</table>\n",
              "</div>"
            ],
            "text/plain": [
              "  Province/State      Country       Date  Confirmed\n",
              "0            NaN  Afghanistan 2020-01-22          0\n",
              "1            NaN      Albania 2020-01-22          0\n",
              "2            NaN      Algeria 2020-01-22          0\n",
              "3            NaN      Andorra 2020-01-22          0\n",
              "4            NaN       Angola 2020-01-22          0"
            ]
          },
          "metadata": {
            "tags": []
          },
          "execution_count": 50
        }
      ]
    },
    {
      "cell_type": "code",
      "metadata": {
        "colab": {
          "base_uri": "https://localhost:8080/",
          "height": 204
        },
        "id": "GBNehD2XW-X-",
        "outputId": "3e9f8ea1-15fb-431b-92c9-5ed425473aaa"
      },
      "source": [
        "deaths_df.head()"
      ],
      "id": "GBNehD2XW-X-",
      "execution_count": 51,
      "outputs": [
        {
          "output_type": "execute_result",
          "data": {
            "text/html": [
              "<div>\n",
              "<style scoped>\n",
              "    .dataframe tbody tr th:only-of-type {\n",
              "        vertical-align: middle;\n",
              "    }\n",
              "\n",
              "    .dataframe tbody tr th {\n",
              "        vertical-align: top;\n",
              "    }\n",
              "\n",
              "    .dataframe thead th {\n",
              "        text-align: right;\n",
              "    }\n",
              "</style>\n",
              "<table border=\"1\" class=\"dataframe\">\n",
              "  <thead>\n",
              "    <tr style=\"text-align: right;\">\n",
              "      <th></th>\n",
              "      <th>Province/State</th>\n",
              "      <th>Country</th>\n",
              "      <th>Date</th>\n",
              "      <th>Deaths</th>\n",
              "    </tr>\n",
              "  </thead>\n",
              "  <tbody>\n",
              "    <tr>\n",
              "      <th>0</th>\n",
              "      <td>NaN</td>\n",
              "      <td>Afghanistan</td>\n",
              "      <td>2020-01-22</td>\n",
              "      <td>0</td>\n",
              "    </tr>\n",
              "    <tr>\n",
              "      <th>1</th>\n",
              "      <td>NaN</td>\n",
              "      <td>Albania</td>\n",
              "      <td>2020-01-22</td>\n",
              "      <td>0</td>\n",
              "    </tr>\n",
              "    <tr>\n",
              "      <th>2</th>\n",
              "      <td>NaN</td>\n",
              "      <td>Algeria</td>\n",
              "      <td>2020-01-22</td>\n",
              "      <td>0</td>\n",
              "    </tr>\n",
              "    <tr>\n",
              "      <th>3</th>\n",
              "      <td>NaN</td>\n",
              "      <td>Andorra</td>\n",
              "      <td>2020-01-22</td>\n",
              "      <td>0</td>\n",
              "    </tr>\n",
              "    <tr>\n",
              "      <th>4</th>\n",
              "      <td>NaN</td>\n",
              "      <td>Angola</td>\n",
              "      <td>2020-01-22</td>\n",
              "      <td>0</td>\n",
              "    </tr>\n",
              "  </tbody>\n",
              "</table>\n",
              "</div>"
            ],
            "text/plain": [
              "  Province/State      Country       Date  Deaths\n",
              "0            NaN  Afghanistan 2020-01-22       0\n",
              "1            NaN      Albania 2020-01-22       0\n",
              "2            NaN      Algeria 2020-01-22       0\n",
              "3            NaN      Andorra 2020-01-22       0\n",
              "4            NaN       Angola 2020-01-22       0"
            ]
          },
          "metadata": {
            "tags": []
          },
          "execution_count": 51
        }
      ]
    },
    {
      "cell_type": "code",
      "metadata": {
        "id": "vFXGjk0FW-jX"
      },
      "source": [
        "confirmed_df['Date'] = pd.to_datetime(confirmed_df['Date'])\n",
        "deaths_df['Date'] = pd.to_datetime(deaths_df['Date'])"
      ],
      "id": "vFXGjk0FW-jX",
      "execution_count": 52,
      "outputs": []
    },
    {
      "cell_type": "code",
      "metadata": {
        "id": "3dEmXce-W-lv"
      },
      "source": [
        "confirmed_fb = confirmed_df.groupby('Date').sum()['Confirmed'].reset_index()\n",
        "deaths_fb = deaths_df.groupby('Date').sum()['Deaths'].reset_index()"
      ],
      "id": "3dEmXce-W-lv",
      "execution_count": 53,
      "outputs": []
    },
    {
      "cell_type": "code",
      "metadata": {
        "colab": {
          "base_uri": "https://localhost:8080/",
          "height": 204
        },
        "id": "zUjFf_eqW-2n",
        "outputId": "adaddb05-b3b5-4e43-f4f4-bf758cc5dac4"
      },
      "source": [
        "confirmed_fb.head()"
      ],
      "id": "zUjFf_eqW-2n",
      "execution_count": 54,
      "outputs": [
        {
          "output_type": "execute_result",
          "data": {
            "text/html": [
              "<div>\n",
              "<style scoped>\n",
              "    .dataframe tbody tr th:only-of-type {\n",
              "        vertical-align: middle;\n",
              "    }\n",
              "\n",
              "    .dataframe tbody tr th {\n",
              "        vertical-align: top;\n",
              "    }\n",
              "\n",
              "    .dataframe thead th {\n",
              "        text-align: right;\n",
              "    }\n",
              "</style>\n",
              "<table border=\"1\" class=\"dataframe\">\n",
              "  <thead>\n",
              "    <tr style=\"text-align: right;\">\n",
              "      <th></th>\n",
              "      <th>Date</th>\n",
              "      <th>Confirmed</th>\n",
              "    </tr>\n",
              "  </thead>\n",
              "  <tbody>\n",
              "    <tr>\n",
              "      <th>0</th>\n",
              "      <td>2020-01-22</td>\n",
              "      <td>557</td>\n",
              "    </tr>\n",
              "    <tr>\n",
              "      <th>1</th>\n",
              "      <td>2020-01-23</td>\n",
              "      <td>655</td>\n",
              "    </tr>\n",
              "    <tr>\n",
              "      <th>2</th>\n",
              "      <td>2020-01-24</td>\n",
              "      <td>941</td>\n",
              "    </tr>\n",
              "    <tr>\n",
              "      <th>3</th>\n",
              "      <td>2020-01-25</td>\n",
              "      <td>1433</td>\n",
              "    </tr>\n",
              "    <tr>\n",
              "      <th>4</th>\n",
              "      <td>2020-01-26</td>\n",
              "      <td>2118</td>\n",
              "    </tr>\n",
              "  </tbody>\n",
              "</table>\n",
              "</div>"
            ],
            "text/plain": [
              "        Date  Confirmed\n",
              "0 2020-01-22        557\n",
              "1 2020-01-23        655\n",
              "2 2020-01-24        941\n",
              "3 2020-01-25       1433\n",
              "4 2020-01-26       2118"
            ]
          },
          "metadata": {
            "tags": []
          },
          "execution_count": 54
        }
      ]
    },
    {
      "cell_type": "code",
      "metadata": {
        "id": "28h0Kl4jSeZS"
      },
      "source": [
        "def rename_func(dataframe):\n",
        "    cols = dataframe.columns\n",
        "    dataframe = dataframe.rename(columns={cols[0]:'ds', cols[1]:'y'})\n",
        "    return dataframe"
      ],
      "id": "28h0Kl4jSeZS",
      "execution_count": 55,
      "outputs": []
    },
    {
      "cell_type": "code",
      "metadata": {
        "id": "78UvTh2iSlv2"
      },
      "source": [
        "confirmed_fb= rename_func(confirmed_fb)\n",
        "deaths_fb= rename_func(deaths_fb)"
      ],
      "id": "78UvTh2iSlv2",
      "execution_count": 56,
      "outputs": []
    },
    {
      "cell_type": "code",
      "metadata": {
        "colab": {
          "base_uri": "https://localhost:8080/",
          "height": 204
        },
        "id": "mySqM3jySenM",
        "outputId": "8e80063e-5e8e-44e8-f7f5-f23395cc269d"
      },
      "source": [
        "confirmed_fb.head()"
      ],
      "id": "mySqM3jySenM",
      "execution_count": 57,
      "outputs": [
        {
          "output_type": "execute_result",
          "data": {
            "text/html": [
              "<div>\n",
              "<style scoped>\n",
              "    .dataframe tbody tr th:only-of-type {\n",
              "        vertical-align: middle;\n",
              "    }\n",
              "\n",
              "    .dataframe tbody tr th {\n",
              "        vertical-align: top;\n",
              "    }\n",
              "\n",
              "    .dataframe thead th {\n",
              "        text-align: right;\n",
              "    }\n",
              "</style>\n",
              "<table border=\"1\" class=\"dataframe\">\n",
              "  <thead>\n",
              "    <tr style=\"text-align: right;\">\n",
              "      <th></th>\n",
              "      <th>ds</th>\n",
              "      <th>y</th>\n",
              "    </tr>\n",
              "  </thead>\n",
              "  <tbody>\n",
              "    <tr>\n",
              "      <th>0</th>\n",
              "      <td>2020-01-22</td>\n",
              "      <td>557</td>\n",
              "    </tr>\n",
              "    <tr>\n",
              "      <th>1</th>\n",
              "      <td>2020-01-23</td>\n",
              "      <td>655</td>\n",
              "    </tr>\n",
              "    <tr>\n",
              "      <th>2</th>\n",
              "      <td>2020-01-24</td>\n",
              "      <td>941</td>\n",
              "    </tr>\n",
              "    <tr>\n",
              "      <th>3</th>\n",
              "      <td>2020-01-25</td>\n",
              "      <td>1433</td>\n",
              "    </tr>\n",
              "    <tr>\n",
              "      <th>4</th>\n",
              "      <td>2020-01-26</td>\n",
              "      <td>2118</td>\n",
              "    </tr>\n",
              "  </tbody>\n",
              "</table>\n",
              "</div>"
            ],
            "text/plain": [
              "          ds     y\n",
              "0 2020-01-22   557\n",
              "1 2020-01-23   655\n",
              "2 2020-01-24   941\n",
              "3 2020-01-25  1433\n",
              "4 2020-01-26  2118"
            ]
          },
          "metadata": {
            "tags": []
          },
          "execution_count": 57
        }
      ]
    },
    {
      "cell_type": "markdown",
      "metadata": {
        "id": "rInD3plbZvd5"
      },
      "source": [
        "spliting confirmed dataset into train and test set"
      ],
      "id": "rInD3plbZvd5"
    },
    {
      "cell_type": "code",
      "metadata": {
        "id": "MFdUPuiOgJC-"
      },
      "source": [
        "def train_test_split(dataframe, ratio):\n",
        "    divisor= round((ratio/100)*dataframe.shape[0])\n",
        "    train = dataframe.iloc[:divisor]\n",
        "    test = dataframe.iloc[divisor:]\n",
        "    return train, test, divisor"
      ],
      "id": "MFdUPuiOgJC-",
      "execution_count": 58,
      "outputs": []
    },
    {
      "cell_type": "code",
      "metadata": {
        "id": "pvlAZU4DgLzF"
      },
      "source": [
        "train_confirmed_fb, test_confirmed_fb, divisor= train_test_split(confirmed_fb,80)"
      ],
      "id": "pvlAZU4DgLzF",
      "execution_count": 59,
      "outputs": []
    },
    {
      "cell_type": "code",
      "metadata": {
        "colab": {
          "base_uri": "https://localhost:8080/"
        },
        "id": "g0IuHHapYlbv",
        "outputId": "08dc280e-f1b4-48a7-f662-282c4fe48195"
      },
      "source": [
        "print(train_confirmed_fb.shape,test_confirmed_fb.shape)"
      ],
      "id": "g0IuHHapYlbv",
      "execution_count": 60,
      "outputs": [
        {
          "output_type": "stream",
          "text": [
            "(402, 2) (100, 2)\n"
          ],
          "name": "stdout"
        }
      ]
    },
    {
      "cell_type": "code",
      "metadata": {
        "colab": {
          "base_uri": "https://localhost:8080/"
        },
        "id": "Rwtgcwu7Ylgj",
        "outputId": "b14691fa-1006-4e40-cf77-f0fe898a85ff"
      },
      "source": [
        "from fbprophet import Prophet\n",
        "model = Prophet(interval_width=0.95)\n",
        "model.add_seasonality(name='Monthly',period=30.42, fourier_order=5)"
      ],
      "id": "Rwtgcwu7Ylgj",
      "execution_count": 61,
      "outputs": [
        {
          "output_type": "execute_result",
          "data": {
            "text/plain": [
              "<fbprophet.forecaster.Prophet at 0x7f0af72e7750>"
            ]
          },
          "metadata": {
            "tags": []
          },
          "execution_count": 61
        }
      ]
    },
    {
      "cell_type": "code",
      "metadata": {
        "colab": {
          "base_uri": "https://localhost:8080/"
        },
        "id": "YnxKuDTiZtnq",
        "outputId": "031e06f2-afc9-46eb-9a22-3a6fb8d263af"
      },
      "source": [
        "model.fit(train_confirmed_fb) "
      ],
      "id": "YnxKuDTiZtnq",
      "execution_count": 62,
      "outputs": [
        {
          "output_type": "stream",
          "text": [
            "INFO:fbprophet:Disabling yearly seasonality. Run prophet with yearly_seasonality=True to override this.\n",
            "INFO:fbprophet:Disabling daily seasonality. Run prophet with daily_seasonality=True to override this.\n"
          ],
          "name": "stderr"
        },
        {
          "output_type": "execute_result",
          "data": {
            "text/plain": [
              "<fbprophet.forecaster.Prophet at 0x7f0af72e7750>"
            ]
          },
          "metadata": {
            "tags": []
          },
          "execution_count": 62
        }
      ]
    },
    {
      "cell_type": "code",
      "metadata": {
        "colab": {
          "base_uri": "https://localhost:8080/",
          "height": 204
        },
        "id": "wz4MaVhJZtrO",
        "outputId": "98378bc7-f22c-4003-d0a6-38bac0e0a7da"
      },
      "source": [
        "future_confirmed = model.make_future_dataframe(periods=100) \n",
        "future_confirmed.tail()"
      ],
      "id": "wz4MaVhJZtrO",
      "execution_count": 63,
      "outputs": [
        {
          "output_type": "execute_result",
          "data": {
            "text/html": [
              "<div>\n",
              "<style scoped>\n",
              "    .dataframe tbody tr th:only-of-type {\n",
              "        vertical-align: middle;\n",
              "    }\n",
              "\n",
              "    .dataframe tbody tr th {\n",
              "        vertical-align: top;\n",
              "    }\n",
              "\n",
              "    .dataframe thead th {\n",
              "        text-align: right;\n",
              "    }\n",
              "</style>\n",
              "<table border=\"1\" class=\"dataframe\">\n",
              "  <thead>\n",
              "    <tr style=\"text-align: right;\">\n",
              "      <th></th>\n",
              "      <th>ds</th>\n",
              "    </tr>\n",
              "  </thead>\n",
              "  <tbody>\n",
              "    <tr>\n",
              "      <th>497</th>\n",
              "      <td>2021-06-02</td>\n",
              "    </tr>\n",
              "    <tr>\n",
              "      <th>498</th>\n",
              "      <td>2021-06-03</td>\n",
              "    </tr>\n",
              "    <tr>\n",
              "      <th>499</th>\n",
              "      <td>2021-06-04</td>\n",
              "    </tr>\n",
              "    <tr>\n",
              "      <th>500</th>\n",
              "      <td>2021-06-05</td>\n",
              "    </tr>\n",
              "    <tr>\n",
              "      <th>501</th>\n",
              "      <td>2021-06-06</td>\n",
              "    </tr>\n",
              "  </tbody>\n",
              "</table>\n",
              "</div>"
            ],
            "text/plain": [
              "            ds\n",
              "497 2021-06-02\n",
              "498 2021-06-03\n",
              "499 2021-06-04\n",
              "500 2021-06-05\n",
              "501 2021-06-06"
            ]
          },
          "metadata": {
            "tags": []
          },
          "execution_count": 63
        }
      ]
    },
    {
      "cell_type": "code",
      "metadata": {
        "colab": {
          "base_uri": "https://localhost:8080/",
          "height": 204
        },
        "id": "4jTSiyuLZtvw",
        "outputId": "b7bb26d1-2844-4f1a-cfc8-cda1ff9de220"
      },
      "source": [
        "forecast_confirmed = model.predict(future_confirmed)\n",
        "forecast_confirmed[['ds', 'yhat', 'yhat_lower', 'yhat_upper']].tail()"
      ],
      "id": "4jTSiyuLZtvw",
      "execution_count": 64,
      "outputs": [
        {
          "output_type": "execute_result",
          "data": {
            "text/html": [
              "<div>\n",
              "<style scoped>\n",
              "    .dataframe tbody tr th:only-of-type {\n",
              "        vertical-align: middle;\n",
              "    }\n",
              "\n",
              "    .dataframe tbody tr th {\n",
              "        vertical-align: top;\n",
              "    }\n",
              "\n",
              "    .dataframe thead th {\n",
              "        text-align: right;\n",
              "    }\n",
              "</style>\n",
              "<table border=\"1\" class=\"dataframe\">\n",
              "  <thead>\n",
              "    <tr style=\"text-align: right;\">\n",
              "      <th></th>\n",
              "      <th>ds</th>\n",
              "      <th>yhat</th>\n",
              "      <th>yhat_lower</th>\n",
              "      <th>yhat_upper</th>\n",
              "    </tr>\n",
              "  </thead>\n",
              "  <tbody>\n",
              "    <tr>\n",
              "      <th>497</th>\n",
              "      <td>2021-06-02</td>\n",
              "      <td>1.731957e+08</td>\n",
              "      <td>1.610563e+08</td>\n",
              "      <td>1.856264e+08</td>\n",
              "    </tr>\n",
              "    <tr>\n",
              "      <th>498</th>\n",
              "      <td>2021-06-03</td>\n",
              "      <td>1.737900e+08</td>\n",
              "      <td>1.615353e+08</td>\n",
              "      <td>1.863911e+08</td>\n",
              "    </tr>\n",
              "    <tr>\n",
              "      <th>499</th>\n",
              "      <td>2021-06-04</td>\n",
              "      <td>1.743886e+08</td>\n",
              "      <td>1.618288e+08</td>\n",
              "      <td>1.870656e+08</td>\n",
              "    </tr>\n",
              "    <tr>\n",
              "      <th>500</th>\n",
              "      <td>2021-06-05</td>\n",
              "      <td>1.750297e+08</td>\n",
              "      <td>1.619061e+08</td>\n",
              "      <td>1.880331e+08</td>\n",
              "    </tr>\n",
              "    <tr>\n",
              "      <th>501</th>\n",
              "      <td>2021-06-06</td>\n",
              "      <td>1.755615e+08</td>\n",
              "      <td>1.629577e+08</td>\n",
              "      <td>1.885738e+08</td>\n",
              "    </tr>\n",
              "  </tbody>\n",
              "</table>\n",
              "</div>"
            ],
            "text/plain": [
              "            ds          yhat    yhat_lower    yhat_upper\n",
              "497 2021-06-02  1.731957e+08  1.610563e+08  1.856264e+08\n",
              "498 2021-06-03  1.737900e+08  1.615353e+08  1.863911e+08\n",
              "499 2021-06-04  1.743886e+08  1.618288e+08  1.870656e+08\n",
              "500 2021-06-05  1.750297e+08  1.619061e+08  1.880331e+08\n",
              "501 2021-06-06  1.755615e+08  1.629577e+08  1.885738e+08"
            ]
          },
          "metadata": {
            "tags": []
          },
          "execution_count": 64
        }
      ]
    },
    {
      "cell_type": "markdown",
      "metadata": {
        "id": "hM1AgWgqcaOR"
      },
      "source": [
        "\n",
        "\n",
        "*   yhat= the predicted forecast\n",
        "*   yhat_lower = lower border of the prediction\n",
        "*   yhat_upper = upper border of the prediction\n",
        "\n",
        "\n",
        "\n",
        "\n",
        "\n",
        "\n"
      ],
      "id": "hM1AgWgqcaOR"
    },
    {
      "cell_type": "code",
      "metadata": {
        "colab": {
          "base_uri": "https://localhost:8080/",
          "height": 441
        },
        "id": "-tg1ndK9cVgc",
        "outputId": "6e2b6def-2bc2-4654-bf85-bc1b0c408f65"
      },
      "source": [
        "model.plot(forecast_confirmed);"
      ],
      "id": "-tg1ndK9cVgc",
      "execution_count": 65,
      "outputs": [
        {
          "output_type": "display_data",
          "data": {
            "image/png": "[encoded data removed]",
            "text/plain": [
              "<Figure size 720x432 with 1 Axes>"
            ]
          },
          "metadata": {
            "tags": []
          }
        }
      ]
    },
    {
      "cell_type": "markdown",
      "metadata": {
        "id": "lJ1gGOyFdHsC"
      },
      "source": [
        "\n",
        "\n",
        "*   black line = actual values\n",
        "*   deep blue line = predicted values\n",
        "*   light blue lines = boundary\n",
        "\n",
        "\n",
        "\n"
      ],
      "id": "lJ1gGOyFdHsC"
    },
    {
      "cell_type": "code",
      "metadata": {
        "colab": {
          "base_uri": "https://localhost:8080/",
          "height": 657
        },
        "id": "BJtkC2lNcVps",
        "outputId": "4d097e2d-d483-474b-b665-3aabd8800c23"
      },
      "source": [
        "model.plot_components(forecast_confirmed);"
      ],
      "id": "BJtkC2lNcVps",
      "execution_count": 66,
      "outputs": [
        {
          "output_type": "display_data",
          "data": {
            "image/png": "[encoded data removed]",
            "text/plain": [
              "<Figure size 648x648 with 3 Axes>"
            ]
          },
          "metadata": {
            "tags": []
          }
        }
      ]
    },
    {
      "cell_type": "code",
      "metadata": {
        "id": "stEAbcGLdZdg"
      },
      "source": [
        "def check_metrics(test_confirmed_fb,forecast_confirmed):\n",
        "    R2_score=r2_score(test_confirmed_fb['y'],forecast_confirmed['yhat'].iloc[divisor:])\n",
        "    print(f'R-square score: {R2_score}')"
      ],
      "id": "stEAbcGLdZdg",
      "execution_count": 67,
      "outputs": []
    },
    {
      "cell_type": "code",
      "metadata": {
        "colab": {
          "base_uri": "https://localhost:8080/"
        },
        "id": "OtXRNlmQhEEF",
        "outputId": "6fb6273f-eb73-42bc-fd48-dbdd13378f2a"
      },
      "source": [
        "check_metrics(test_confirmed_fb,forecast_confirmed)"
      ],
      "id": "OtXRNlmQhEEF",
      "execution_count": 68,
      "outputs": [
        {
          "output_type": "stream",
          "text": [
            "R-square score: 0.9367035981560301\n"
          ],
          "name": "stdout"
        }
      ]
    },
    {
      "cell_type": "markdown",
      "metadata": {
        "id": "fhUhVgAohLCk"
      },
      "source": [
        "R-square measures the proportion of variation in the dependent variable that can be attributed to the independent variable. The R-squared value R 2 is always between 0 and 1. In general, the higher the R-squared, the better the model fits your data."
      ],
      "id": "fhUhVgAohLCk"
    },
    {
      "cell_type": "markdown",
      "metadata": {
        "id": "LU_X8bIchRr9"
      },
      "source": [
        "spliting death dataset into train and test set"
      ],
      "id": "LU_X8bIchRr9"
    },
    {
      "cell_type": "code",
      "metadata": {
        "id": "JyzcdPPzhEa1"
      },
      "source": [
        "def train_test_split(dataframe, ratio):\n",
        "    divisor= round((ratio/100)*dataframe.shape[0])\n",
        "    train = dataframe.iloc[:divisor]\n",
        "    test = dataframe.iloc[divisor:]\n",
        "    return train, test, divisor"
      ],
      "id": "JyzcdPPzhEa1",
      "execution_count": 69,
      "outputs": []
    },
    {
      "cell_type": "code",
      "metadata": {
        "id": "2EkgQH0YhEdW"
      },
      "source": [
        "train_deaths_fb, test_deaths_fb, divisor= train_test_split(deaths_fb,80)"
      ],
      "id": "2EkgQH0YhEdW",
      "execution_count": 70,
      "outputs": []
    },
    {
      "cell_type": "code",
      "metadata": {
        "colab": {
          "base_uri": "https://localhost:8080/"
        },
        "id": "UX__WKZYhEgH",
        "outputId": "1c19d454-b2be-482e-9ddd-845ed9b5c251"
      },
      "source": [
        "print(train_deaths_fb.shape,test_deaths_fb.shape)"
      ],
      "id": "UX__WKZYhEgH",
      "execution_count": 71,
      "outputs": [
        {
          "output_type": "stream",
          "text": [
            "(402, 2) (100, 2)\n"
          ],
          "name": "stdout"
        }
      ]
    },
    {
      "cell_type": "code",
      "metadata": {
        "colab": {
          "base_uri": "https://localhost:8080/"
        },
        "id": "5chXV3iphEir",
        "outputId": "b205fb2b-d486-4f4c-cbb9-99cd2dbccf8d"
      },
      "source": [
        "from fbprophet import Prophet\n",
        "model = Prophet(interval_width=0.95)\n",
        "model.add_seasonality(name='Monthly',period=30.42, fourier_order=5)"
      ],
      "id": "5chXV3iphEir",
      "execution_count": 72,
      "outputs": [
        {
          "output_type": "execute_result",
          "data": {
            "text/plain": [
              "<fbprophet.forecaster.Prophet at 0x7f0af4446090>"
            ]
          },
          "metadata": {
            "tags": []
          },
          "execution_count": 72
        }
      ]
    },
    {
      "cell_type": "code",
      "metadata": {
        "colab": {
          "base_uri": "https://localhost:8080/"
        },
        "id": "9wuORtJXhElG",
        "outputId": "daf0167e-c557-4bce-e76c-2388cc75d45e"
      },
      "source": [
        "model.fit(train_deaths_fb) "
      ],
      "id": "9wuORtJXhElG",
      "execution_count": 73,
      "outputs": [
        {
          "output_type": "stream",
          "text": [
            "INFO:fbprophet:Disabling yearly seasonality. Run prophet with yearly_seasonality=True to override this.\n",
            "INFO:fbprophet:Disabling daily seasonality. Run prophet with daily_seasonality=True to override this.\n"
          ],
          "name": "stderr"
        },
        {
          "output_type": "execute_result",
          "data": {
            "text/plain": [
              "<fbprophet.forecaster.Prophet at 0x7f0af4446090>"
            ]
          },
          "metadata": {
            "tags": []
          },
          "execution_count": 73
        }
      ]
    },
    {
      "cell_type": "code",
      "metadata": {
        "colab": {
          "base_uri": "https://localhost:8080/",
          "height": 204
        },
        "id": "fACeKZsUhEqu",
        "outputId": "135f134e-cb0f-4921-9a7b-f157e204d73e"
      },
      "source": [
        "future_deaths = model.make_future_dataframe(periods=100) \n",
        "future_deaths.tail()"
      ],
      "id": "fACeKZsUhEqu",
      "execution_count": 74,
      "outputs": [
        {
          "output_type": "execute_result",
          "data": {
            "text/html": [
              "<div>\n",
              "<style scoped>\n",
              "    .dataframe tbody tr th:only-of-type {\n",
              "        vertical-align: middle;\n",
              "    }\n",
              "\n",
              "    .dataframe tbody tr th {\n",
              "        vertical-align: top;\n",
              "    }\n",
              "\n",
              "    .dataframe thead th {\n",
              "        text-align: right;\n",
              "    }\n",
              "</style>\n",
              "<table border=\"1\" class=\"dataframe\">\n",
              "  <thead>\n",
              "    <tr style=\"text-align: right;\">\n",
              "      <th></th>\n",
              "      <th>ds</th>\n",
              "    </tr>\n",
              "  </thead>\n",
              "  <tbody>\n",
              "    <tr>\n",
              "      <th>497</th>\n",
              "      <td>2021-06-02</td>\n",
              "    </tr>\n",
              "    <tr>\n",
              "      <th>498</th>\n",
              "      <td>2021-06-03</td>\n",
              "    </tr>\n",
              "    <tr>\n",
              "      <th>499</th>\n",
              "      <td>2021-06-04</td>\n",
              "    </tr>\n",
              "    <tr>\n",
              "      <th>500</th>\n",
              "      <td>2021-06-05</td>\n",
              "    </tr>\n",
              "    <tr>\n",
              "      <th>501</th>\n",
              "      <td>2021-06-06</td>\n",
              "    </tr>\n",
              "  </tbody>\n",
              "</table>\n",
              "</div>"
            ],
            "text/plain": [
              "            ds\n",
              "497 2021-06-02\n",
              "498 2021-06-03\n",
              "499 2021-06-04\n",
              "500 2021-06-05\n",
              "501 2021-06-06"
            ]
          },
          "metadata": {
            "tags": []
          },
          "execution_count": 74
        }
      ]
    },
    {
      "cell_type": "code",
      "metadata": {
        "colab": {
          "base_uri": "https://localhost:8080/",
          "height": 204
        },
        "id": "pDhtCoVjhEts",
        "outputId": "664db857-f7f0-42ae-9f28-b1c16375aba6"
      },
      "source": [
        "forecast_deaths = model.predict(future_deaths)\n",
        "forecast_deaths[['ds', 'yhat', 'yhat_lower', 'yhat_upper']].tail()"
      ],
      "id": "pDhtCoVjhEts",
      "execution_count": 75,
      "outputs": [
        {
          "output_type": "execute_result",
          "data": {
            "text/html": [
              "<div>\n",
              "<style scoped>\n",
              "    .dataframe tbody tr th:only-of-type {\n",
              "        vertical-align: middle;\n",
              "    }\n",
              "\n",
              "    .dataframe tbody tr th {\n",
              "        vertical-align: top;\n",
              "    }\n",
              "\n",
              "    .dataframe thead th {\n",
              "        text-align: right;\n",
              "    }\n",
              "</style>\n",
              "<table border=\"1\" class=\"dataframe\">\n",
              "  <thead>\n",
              "    <tr style=\"text-align: right;\">\n",
              "      <th></th>\n",
              "      <th>ds</th>\n",
              "      <th>yhat</th>\n",
              "      <th>yhat_lower</th>\n",
              "      <th>yhat_upper</th>\n",
              "    </tr>\n",
              "  </thead>\n",
              "  <tbody>\n",
              "    <tr>\n",
              "      <th>497</th>\n",
              "      <td>2021-06-02</td>\n",
              "      <td>3.735904e+06</td>\n",
              "      <td>3.427536e+06</td>\n",
              "      <td>4.051139e+06</td>\n",
              "    </tr>\n",
              "    <tr>\n",
              "      <th>498</th>\n",
              "      <td>2021-06-03</td>\n",
              "      <td>3.748768e+06</td>\n",
              "      <td>3.431649e+06</td>\n",
              "      <td>4.072672e+06</td>\n",
              "    </tr>\n",
              "    <tr>\n",
              "      <th>499</th>\n",
              "      <td>2021-06-04</td>\n",
              "      <td>3.761842e+06</td>\n",
              "      <td>3.439708e+06</td>\n",
              "      <td>4.087546e+06</td>\n",
              "    </tr>\n",
              "    <tr>\n",
              "      <th>500</th>\n",
              "      <td>2021-06-05</td>\n",
              "      <td>3.774551e+06</td>\n",
              "      <td>3.438633e+06</td>\n",
              "      <td>4.110389e+06</td>\n",
              "    </tr>\n",
              "    <tr>\n",
              "      <th>501</th>\n",
              "      <td>2021-06-06</td>\n",
              "      <td>3.785484e+06</td>\n",
              "      <td>3.451597e+06</td>\n",
              "      <td>4.120543e+06</td>\n",
              "    </tr>\n",
              "  </tbody>\n",
              "</table>\n",
              "</div>"
            ],
            "text/plain": [
              "            ds          yhat    yhat_lower    yhat_upper\n",
              "497 2021-06-02  3.735904e+06  3.427536e+06  4.051139e+06\n",
              "498 2021-06-03  3.748768e+06  3.431649e+06  4.072672e+06\n",
              "499 2021-06-04  3.761842e+06  3.439708e+06  4.087546e+06\n",
              "500 2021-06-05  3.774551e+06  3.438633e+06  4.110389e+06\n",
              "501 2021-06-06  3.785484e+06  3.451597e+06  4.120543e+06"
            ]
          },
          "metadata": {
            "tags": []
          },
          "execution_count": 75
        }
      ]
    },
    {
      "cell_type": "markdown",
      "metadata": {
        "id": "EbuolRhBiD-c"
      },
      "source": [
        "*   yhat= the predicted forecast\n",
        "*   yhat_lower = lower border of the prediction\n",
        "*   yhat_upper = upper border of the prediction\n"
      ],
      "id": "EbuolRhBiD-c"
    },
    {
      "cell_type": "code",
      "metadata": {
        "colab": {
          "base_uri": "https://localhost:8080/",
          "height": 441
        },
        "id": "9fIdFxfKhEwI",
        "outputId": "40c77d11-33b0-420b-82b4-e5fda21c1bde"
      },
      "source": [
        "model.plot(forecast_deaths);"
      ],
      "id": "9fIdFxfKhEwI",
      "execution_count": 76,
      "outputs": [
        {
          "output_type": "display_data",
          "data": {
            "image/png": "[encoded data removed]",
            "text/plain": [
              "<Figure size 720x432 with 1 Axes>"
            ]
          },
          "metadata": {
            "tags": []
          }
        }
      ]
    },
    {
      "cell_type": "markdown",
      "metadata": {
        "id": "J4hPnexmiM-e"
      },
      "source": [
        "*   black line = actual values\n",
        "*   deep blue line = predicted values\n",
        "*   light blue lines = boundary"
      ],
      "id": "J4hPnexmiM-e"
    },
    {
      "cell_type": "code",
      "metadata": {
        "colab": {
          "base_uri": "https://localhost:8080/",
          "height": 657
        },
        "id": "MBl1706VhEzk",
        "outputId": "16006e48-e8d8-4a57-8f20-c5984944573b"
      },
      "source": [
        "model.plot_components(forecast_deaths);"
      ],
      "id": "MBl1706VhEzk",
      "execution_count": 77,
      "outputs": [
        {
          "output_type": "display_data",
          "data": {
            "image/png": "[encoded data removed]",
            "text/plain": [
              "<Figure size 648x648 with 3 Axes>"
            ]
          },
          "metadata": {
            "tags": []
          }
        }
      ]
    },
    {
      "cell_type": "code",
      "metadata": {
        "id": "uXIvbp5giSEN"
      },
      "source": [
        "def check_metrics(test_deaths_fb,forecast_deaths):\n",
        "    R2_score=r2_score(test_deaths_fb['y'],forecast_deaths['yhat'].iloc[divisor:])\n",
        "    print(f'R-square score: {R2_score}')"
      ],
      "id": "uXIvbp5giSEN",
      "execution_count": 78,
      "outputs": []
    },
    {
      "cell_type": "code",
      "metadata": {
        "colab": {
          "base_uri": "https://localhost:8080/"
        },
        "id": "cHsooLg4iSHc",
        "outputId": "b70fec19-74d4-493b-b46b-f08ea23c6a6c"
      },
      "source": [
        "check_metrics(test_deaths_fb,forecast_deaths)"
      ],
      "id": "cHsooLg4iSHc",
      "execution_count": 79,
      "outputs": [
        {
          "output_type": "stream",
          "text": [
            "R-square score: 0.8547058705436048\n"
          ],
          "name": "stdout"
        }
      ]
    },
    {
      "cell_type": "markdown",
      "metadata": {
        "id": "gEa6bJ2riZu-"
      },
      "source": [
        "R-square measures the proportion of variation in the dependent variable that can be attributed to the independent variable. The R-squared value R 2 is always between 0 and 1. In general, the higher the R-squared, the better the model fits your data."
      ],
      "id": "gEa6bJ2riZu-"
    },
    {
      "cell_type": "markdown",
      "metadata": {
        "id": "bfpK-LgekyY2"
      },
      "source": [
        "SINCE R-SQUARE MEASURE IN FBPROPHET IS MORE CLOSE TO 1 THAN R-SQUARE MEASURE IN ARIMA HENCE WE KNOW THAT FBPROPHET FITS BETTER IN OUR DATASET"
      ],
      "id": "bfpK-LgekyY2"
    },
    {
      "cell_type": "markdown",
      "metadata": {
        "id": "dLriONwJj4IN"
      },
      "source": [
        "now forecasting confirmed cases for the next 7 days USING FBPROPHET"
      ],
      "id": "dLriONwJj4IN"
    },
    {
      "cell_type": "code",
      "metadata": {
        "colab": {
          "base_uri": "https://localhost:8080/",
          "height": 239
        },
        "id": "Qr0Sj9m8iSLK",
        "outputId": "d150c7cc-dd74-45b6-eab7-aef220e85098"
      },
      "source": [
        "model = Prophet(interval_width=0.95)\n",
        "model.fit(confirmed_fb) \n",
        "future = model.make_future_dataframe(periods=7) \n",
        "future.tail()"
      ],
      "id": "Qr0Sj9m8iSLK",
      "execution_count": 80,
      "outputs": [
        {
          "output_type": "stream",
          "text": [
            "INFO:fbprophet:Disabling yearly seasonality. Run prophet with yearly_seasonality=True to override this.\n",
            "INFO:fbprophet:Disabling daily seasonality. Run prophet with daily_seasonality=True to override this.\n"
          ],
          "name": "stderr"
        },
        {
          "output_type": "execute_result",
          "data": {
            "text/html": [
              "<div>\n",
              "<style scoped>\n",
              "    .dataframe tbody tr th:only-of-type {\n",
              "        vertical-align: middle;\n",
              "    }\n",
              "\n",
              "    .dataframe tbody tr th {\n",
              "        vertical-align: top;\n",
              "    }\n",
              "\n",
              "    .dataframe thead th {\n",
              "        text-align: right;\n",
              "    }\n",
              "</style>\n",
              "<table border=\"1\" class=\"dataframe\">\n",
              "  <thead>\n",
              "    <tr style=\"text-align: right;\">\n",
              "      <th></th>\n",
              "      <th>ds</th>\n",
              "    </tr>\n",
              "  </thead>\n",
              "  <tbody>\n",
              "    <tr>\n",
              "      <th>504</th>\n",
              "      <td>2021-06-09</td>\n",
              "    </tr>\n",
              "    <tr>\n",
              "      <th>505</th>\n",
              "      <td>2021-06-10</td>\n",
              "    </tr>\n",
              "    <tr>\n",
              "      <th>506</th>\n",
              "      <td>2021-06-11</td>\n",
              "    </tr>\n",
              "    <tr>\n",
              "      <th>507</th>\n",
              "      <td>2021-06-12</td>\n",
              "    </tr>\n",
              "    <tr>\n",
              "      <th>508</th>\n",
              "      <td>2021-06-13</td>\n",
              "    </tr>\n",
              "  </tbody>\n",
              "</table>\n",
              "</div>"
            ],
            "text/plain": [
              "            ds\n",
              "504 2021-06-09\n",
              "505 2021-06-10\n",
              "506 2021-06-11\n",
              "507 2021-06-12\n",
              "508 2021-06-13"
            ]
          },
          "metadata": {
            "tags": []
          },
          "execution_count": 80
        }
      ]
    },
    {
      "cell_type": "code",
      "metadata": {
        "colab": {
          "base_uri": "https://localhost:8080/",
          "height": 265
        },
        "id": "b_hPryoxiSNq",
        "outputId": "253316ff-e7da-4410-cbb7-ef1342473f1c"
      },
      "source": [
        "forecast = model.predict(future)\n",
        "forecast[['ds', 'yhat', 'yhat_lower', 'yhat_upper']].tail(7)"
      ],
      "id": "b_hPryoxiSNq",
      "execution_count": 81,
      "outputs": [
        {
          "output_type": "execute_result",
          "data": {
            "text/html": [
              "<div>\n",
              "<style scoped>\n",
              "    .dataframe tbody tr th:only-of-type {\n",
              "        vertical-align: middle;\n",
              "    }\n",
              "\n",
              "    .dataframe tbody tr th {\n",
              "        vertical-align: top;\n",
              "    }\n",
              "\n",
              "    .dataframe thead th {\n",
              "        text-align: right;\n",
              "    }\n",
              "</style>\n",
              "<table border=\"1\" class=\"dataframe\">\n",
              "  <thead>\n",
              "    <tr style=\"text-align: right;\">\n",
              "      <th></th>\n",
              "      <th>ds</th>\n",
              "      <th>yhat</th>\n",
              "      <th>yhat_lower</th>\n",
              "      <th>yhat_upper</th>\n",
              "    </tr>\n",
              "  </thead>\n",
              "  <tbody>\n",
              "    <tr>\n",
              "      <th>502</th>\n",
              "      <td>2021-06-07</td>\n",
              "      <td>1.750897e+08</td>\n",
              "      <td>1.735054e+08</td>\n",
              "      <td>1.767711e+08</td>\n",
              "    </tr>\n",
              "    <tr>\n",
              "      <th>503</th>\n",
              "      <td>2021-06-08</td>\n",
              "      <td>1.757302e+08</td>\n",
              "      <td>1.741416e+08</td>\n",
              "      <td>1.773291e+08</td>\n",
              "    </tr>\n",
              "    <tr>\n",
              "      <th>504</th>\n",
              "      <td>2021-06-09</td>\n",
              "      <td>1.764064e+08</td>\n",
              "      <td>1.746978e+08</td>\n",
              "      <td>1.781202e+08</td>\n",
              "    </tr>\n",
              "    <tr>\n",
              "      <th>505</th>\n",
              "      <td>2021-06-10</td>\n",
              "      <td>1.770949e+08</td>\n",
              "      <td>1.754457e+08</td>\n",
              "      <td>1.788795e+08</td>\n",
              "    </tr>\n",
              "    <tr>\n",
              "      <th>506</th>\n",
              "      <td>2021-06-11</td>\n",
              "      <td>1.777611e+08</td>\n",
              "      <td>1.760705e+08</td>\n",
              "      <td>1.794071e+08</td>\n",
              "    </tr>\n",
              "    <tr>\n",
              "      <th>507</th>\n",
              "      <td>2021-06-12</td>\n",
              "      <td>1.783930e+08</td>\n",
              "      <td>1.767428e+08</td>\n",
              "      <td>1.801626e+08</td>\n",
              "    </tr>\n",
              "    <tr>\n",
              "      <th>508</th>\n",
              "      <td>2021-06-13</td>\n",
              "      <td>1.789735e+08</td>\n",
              "      <td>1.772046e+08</td>\n",
              "      <td>1.807361e+08</td>\n",
              "    </tr>\n",
              "  </tbody>\n",
              "</table>\n",
              "</div>"
            ],
            "text/plain": [
              "            ds          yhat    yhat_lower    yhat_upper\n",
              "502 2021-06-07  1.750897e+08  1.735054e+08  1.767711e+08\n",
              "503 2021-06-08  1.757302e+08  1.741416e+08  1.773291e+08\n",
              "504 2021-06-09  1.764064e+08  1.746978e+08  1.781202e+08\n",
              "505 2021-06-10  1.770949e+08  1.754457e+08  1.788795e+08\n",
              "506 2021-06-11  1.777611e+08  1.760705e+08  1.794071e+08\n",
              "507 2021-06-12  1.783930e+08  1.767428e+08  1.801626e+08\n",
              "508 2021-06-13  1.789735e+08  1.772046e+08  1.807361e+08"
            ]
          },
          "metadata": {
            "tags": []
          },
          "execution_count": 81
        }
      ]
    },
    {
      "cell_type": "code",
      "metadata": {
        "colab": {
          "base_uri": "https://localhost:8080/",
          "height": 441
        },
        "id": "N6_i_cD1kPQG",
        "outputId": "4b974363-98ed-464d-d534-ce13cf67e7d1"
      },
      "source": [
        "confirmed_forecast_plot = model.plot(forecast);"
      ],
      "id": "N6_i_cD1kPQG",
      "execution_count": 82,
      "outputs": [
        {
          "output_type": "display_data",
          "data": {
            "image/png": "[encoded data removed]",
            "text/plain": [
              "<Figure size 720x432 with 1 Axes>"
            ]
          },
          "metadata": {
            "tags": []
          }
        }
      ]
    },
    {
      "cell_type": "code",
      "metadata": {
        "colab": {
          "base_uri": "https://localhost:8080/",
          "height": 441
        },
        "id": "kqqSz-WokPTy",
        "outputId": "7f418ea4-ed77-49fc-ab08-ac8979cfdc9d"
      },
      "source": [
        "confirmed_forecast_plot =model.plot_components(forecast);"
      ],
      "id": "kqqSz-WokPTy",
      "execution_count": 83,
      "outputs": [
        {
          "output_type": "display_data",
          "data": {
            "image/png": "[encoded data removed]",
            "text/plain": [
              "<Figure size 648x432 with 2 Axes>"
            ]
          },
          "metadata": {
            "tags": []
          }
        }
      ]
    },
    {
      "cell_type": "markdown",
      "metadata": {
        "id": "1wx5mMMukbjR"
      },
      "source": [
        "now forecasting death cases for the next 7 days using FBPROPHET"
      ],
      "id": "1wx5mMMukbjR"
    },
    {
      "cell_type": "code",
      "metadata": {
        "colab": {
          "base_uri": "https://localhost:8080/",
          "height": 239
        },
        "id": "aR97l1f6kcel",
        "outputId": "b1f9237c-74c2-4410-f10f-e82042e59836"
      },
      "source": [
        "model = Prophet(interval_width=0.95)\n",
        "model.fit(deaths_fb)\n",
        "future = model.make_future_dataframe(periods=7)\n",
        "future.tail()"
      ],
      "id": "aR97l1f6kcel",
      "execution_count": 84,
      "outputs": [
        {
          "output_type": "stream",
          "text": [
            "INFO:fbprophet:Disabling yearly seasonality. Run prophet with yearly_seasonality=True to override this.\n",
            "INFO:fbprophet:Disabling daily seasonality. Run prophet with daily_seasonality=True to override this.\n"
          ],
          "name": "stderr"
        },
        {
          "output_type": "execute_result",
          "data": {
            "text/html": [
              "<div>\n",
              "<style scoped>\n",
              "    .dataframe tbody tr th:only-of-type {\n",
              "        vertical-align: middle;\n",
              "    }\n",
              "\n",
              "    .dataframe tbody tr th {\n",
              "        vertical-align: top;\n",
              "    }\n",
              "\n",
              "    .dataframe thead th {\n",
              "        text-align: right;\n",
              "    }\n",
              "</style>\n",
              "<table border=\"1\" class=\"dataframe\">\n",
              "  <thead>\n",
              "    <tr style=\"text-align: right;\">\n",
              "      <th></th>\n",
              "      <th>ds</th>\n",
              "    </tr>\n",
              "  </thead>\n",
              "  <tbody>\n",
              "    <tr>\n",
              "      <th>504</th>\n",
              "      <td>2021-06-09</td>\n",
              "    </tr>\n",
              "    <tr>\n",
              "      <th>505</th>\n",
              "      <td>2021-06-10</td>\n",
              "    </tr>\n",
              "    <tr>\n",
              "      <th>506</th>\n",
              "      <td>2021-06-11</td>\n",
              "    </tr>\n",
              "    <tr>\n",
              "      <th>507</th>\n",
              "      <td>2021-06-12</td>\n",
              "    </tr>\n",
              "    <tr>\n",
              "      <th>508</th>\n",
              "      <td>2021-06-13</td>\n",
              "    </tr>\n",
              "  </tbody>\n",
              "</table>\n",
              "</div>"
            ],
            "text/plain": [
              "            ds\n",
              "504 2021-06-09\n",
              "505 2021-06-10\n",
              "506 2021-06-11\n",
              "507 2021-06-12\n",
              "508 2021-06-13"
            ]
          },
          "metadata": {
            "tags": []
          },
          "execution_count": 84
        }
      ]
    },
    {
      "cell_type": "code",
      "metadata": {
        "colab": {
          "base_uri": "https://localhost:8080/",
          "height": 204
        },
        "id": "c5_823S8kcht",
        "outputId": "e653b14e-f120-4deb-ca7f-6b18c9a3edb3"
      },
      "source": [
        "forecast = model.predict(future)\n",
        "forecast[['ds', 'yhat', 'yhat_lower', 'yhat_upper']].tail()"
      ],
      "id": "c5_823S8kcht",
      "execution_count": 85,
      "outputs": [
        {
          "output_type": "execute_result",
          "data": {
            "text/html": [
              "<div>\n",
              "<style scoped>\n",
              "    .dataframe tbody tr th:only-of-type {\n",
              "        vertical-align: middle;\n",
              "    }\n",
              "\n",
              "    .dataframe tbody tr th {\n",
              "        vertical-align: top;\n",
              "    }\n",
              "\n",
              "    .dataframe thead th {\n",
              "        text-align: right;\n",
              "    }\n",
              "</style>\n",
              "<table border=\"1\" class=\"dataframe\">\n",
              "  <thead>\n",
              "    <tr style=\"text-align: right;\">\n",
              "      <th></th>\n",
              "      <th>ds</th>\n",
              "      <th>yhat</th>\n",
              "      <th>yhat_lower</th>\n",
              "      <th>yhat_upper</th>\n",
              "    </tr>\n",
              "  </thead>\n",
              "  <tbody>\n",
              "    <tr>\n",
              "      <th>504</th>\n",
              "      <td>2021-06-09</td>\n",
              "      <td>3.654179e+06</td>\n",
              "      <td>3.622227e+06</td>\n",
              "      <td>3.686240e+06</td>\n",
              "    </tr>\n",
              "    <tr>\n",
              "      <th>505</th>\n",
              "      <td>2021-06-10</td>\n",
              "      <td>3.666630e+06</td>\n",
              "      <td>3.635397e+06</td>\n",
              "      <td>3.697525e+06</td>\n",
              "    </tr>\n",
              "    <tr>\n",
              "      <th>506</th>\n",
              "      <td>2021-06-11</td>\n",
              "      <td>3.678787e+06</td>\n",
              "      <td>3.643282e+06</td>\n",
              "      <td>3.712447e+06</td>\n",
              "    </tr>\n",
              "    <tr>\n",
              "      <th>507</th>\n",
              "      <td>2021-06-12</td>\n",
              "      <td>3.689713e+06</td>\n",
              "      <td>3.656548e+06</td>\n",
              "      <td>3.722397e+06</td>\n",
              "    </tr>\n",
              "    <tr>\n",
              "      <th>508</th>\n",
              "      <td>2021-06-13</td>\n",
              "      <td>3.698892e+06</td>\n",
              "      <td>3.662270e+06</td>\n",
              "      <td>3.732968e+06</td>\n",
              "    </tr>\n",
              "  </tbody>\n",
              "</table>\n",
              "</div>"
            ],
            "text/plain": [
              "            ds          yhat    yhat_lower    yhat_upper\n",
              "504 2021-06-09  3.654179e+06  3.622227e+06  3.686240e+06\n",
              "505 2021-06-10  3.666630e+06  3.635397e+06  3.697525e+06\n",
              "506 2021-06-11  3.678787e+06  3.643282e+06  3.712447e+06\n",
              "507 2021-06-12  3.689713e+06  3.656548e+06  3.722397e+06\n",
              "508 2021-06-13  3.698892e+06  3.662270e+06  3.732968e+06"
            ]
          },
          "metadata": {
            "tags": []
          },
          "execution_count": 85
        }
      ]
    },
    {
      "cell_type": "code",
      "metadata": {
        "colab": {
          "base_uri": "https://localhost:8080/",
          "height": 441
        },
        "id": "L2g9NK4qkcll",
        "outputId": "32b05066-0144-4d39-a482-c0faa8fa0b38"
      },
      "source": [
        "deaths_forecast_plot = model.plot(forecast);"
      ],
      "id": "L2g9NK4qkcll",
      "execution_count": 86,
      "outputs": [
        {
          "output_type": "display_data",
          "data": {
            "image/png": "[encoded data removed]",
            "text/plain": [
              "<Figure size 720x432 with 1 Axes>"
            ]
          },
          "metadata": {
            "tags": []
          }
        }
      ]
    },
    {
      "cell_type": "code",
      "metadata": {
        "colab": {
          "base_uri": "https://localhost:8080/",
          "height": 441
        },
        "id": "Yr2m6344kouN",
        "outputId": "fee8423a-d1c8-4405-9985-f533b276ef24"
      },
      "source": [
        "deaths_forecast_plot = model.plot_components(forecast);"
      ],
      "id": "Yr2m6344kouN",
      "execution_count": 87,
      "outputs": [
        {
          "output_type": "display_data",
          "data": {
            "image/png": "[encoded data removed]",
            "text/plain": [
              "<Figure size 648x432 with 2 Axes>"
            ]
          },
          "metadata": {
            "tags": []
          }
        }
      ]
    },
    {
      "cell_type": "code",
      "metadata": {
        "id": "jej34tO1ks8g"
      },
      "source": [
        ""
      ],
      "id": "jej34tO1ks8g",
      "execution_count": 87,
      "outputs": []
    }
  ]
}