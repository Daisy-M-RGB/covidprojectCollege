{
  "nbformat": 4,
  "nbformat_minor": 5,
  "metadata": {
    "kernelspec": {
      "display_name": "Python 3",
      "language": "python",
      "name": "python3"
    },
    "language_info": {
      "codemirror_mode": {
        "name": "ipython",
        "version": 3
      },
      "file_extension": ".py",
      "mimetype": "text/x-python",
      "name": "python",
      "nbconvert_exporter": "python",
      "pygments_lexer": "ipython3",
      "version": "3.7.10"
    },
    "colab": {
      "name": "arima.ipynb",
      "provenance": [],
      "collapsed_sections": [],
      "include_colab_link": true
    }
  },
  "cells": [
    {
      "cell_type": "markdown",
      "metadata": {
        "id": "view-in-github",
        "colab_type": "text"
      },
      "source": [
        "<a href=\"https://colab.research.google.com/github/Daisy-M-RGB/covidprojectCollege/blob/main/arima.ipynb\" target=\"_parent\"><img src=\"https://colab.research.google.com/assets/colab-badge.svg\" alt=\"Open In Colab\"/></a>"
      ]
    },
    {
      "cell_type": "code",
      "metadata": {
        "id": "VKGoRNjUMnjL"
      },
      "source": [
        "from google.colab import drive"
      ],
      "id": "VKGoRNjUMnjL",
      "execution_count": null,
      "outputs": []
    },
    {
      "cell_type": "code",
      "metadata": {
        "colab": {
          "base_uri": "https://localhost:8080/"
        },
        "id": "VXCy43HHNP9t",
        "outputId": "b0c88d13-610c-46bc-fca2-f0d133937202"
      },
      "source": [
        "from google.colab import drive\n",
        "drive.mount('/content/drive')"
      ],
      "id": "VXCy43HHNP9t",
      "execution_count": null,
      "outputs": [
        {
          "output_type": "stream",
          "text": [
            "Drive already mounted at /content/drive; to attempt to forcibly remount, call drive.mount(\"/content/drive\", force_remount=True).\n"
          ],
          "name": "stdout"
        }
      ]
    },
    {
      "cell_type": "code",
      "metadata": {
        "colab": {
          "base_uri": "https://localhost:8080/"
        },
        "id": "crJLTF1DTFIg",
        "outputId": "395786ff-6b7d-4e62-86bb-dfd2c57c4acc"
      },
      "source": [
        "#!pip install statsmodels --upgrade"
      ],
      "id": "crJLTF1DTFIg",
      "execution_count": null,
      "outputs": [
        {
          "output_type": "stream",
          "text": [
            "Requirement already up-to-date: statsmodels in /usr/local/lib/python3.7/dist-packages (0.12.2)\n",
            "Requirement already satisfied, skipping upgrade: pandas>=0.21 in /usr/local/lib/python3.7/dist-packages (from statsmodels) (1.1.5)\n",
            "Requirement already satisfied, skipping upgrade: patsy>=0.5 in /usr/local/lib/python3.7/dist-packages (from statsmodels) (0.5.1)\n",
            "Requirement already satisfied, skipping upgrade: numpy>=1.15 in /usr/local/lib/python3.7/dist-packages (from statsmodels) (1.19.5)\n",
            "Requirement already satisfied, skipping upgrade: scipy>=1.1 in /usr/local/lib/python3.7/dist-packages (from statsmodels) (1.4.1)\n",
            "Requirement already satisfied, skipping upgrade: python-dateutil>=2.7.3 in /usr/local/lib/python3.7/dist-packages (from pandas>=0.21->statsmodels) (2.8.1)\n",
            "Requirement already satisfied, skipping upgrade: pytz>=2017.2 in /usr/local/lib/python3.7/dist-packages (from pandas>=0.21->statsmodels) (2018.9)\n",
            "Requirement already satisfied, skipping upgrade: six in /usr/local/lib/python3.7/dist-packages (from patsy>=0.5->statsmodels) (1.15.0)\n"
          ],
          "name": "stdout"
        }
      ]
    },
    {
      "cell_type": "code",
      "metadata": {
        "colab": {
          "base_uri": "https://localhost:8080/"
        },
        "id": "g-L7veuHoePv",
        "outputId": "3a34f0eb-8fe2-427d-a137-f521c3a064f4"
      },
      "source": [
        "#pip install pmdarima"
      ],
      "id": "g-L7veuHoePv",
      "execution_count": null,
      "outputs": [
        {
          "output_type": "stream",
          "text": [
            "Collecting pmdarima\n",
            "\u001b[?25l  Downloading https://files.pythonhosted.org/packages/f4/c2/2a94bce6bba1deac3c0b16dbb14f28de0b9035e3211919cae8448455aa65/pmdarima-1.8.2-cp37-cp37m-manylinux1_x86_64.whl (1.5MB)\n",
            "\r\u001b[K     |▎                               | 10kB 14.9MB/s eta 0:00:01\r\u001b[K     |▌                               | 20kB 21.5MB/s eta 0:00:01\r\u001b[K     |▊                               | 30kB 19.8MB/s eta 0:00:01\r\u001b[K     |█                               | 40kB 16.3MB/s eta 0:00:01\r\u001b[K     |█▏                              | 51kB 7.5MB/s eta 0:00:01\r\u001b[K     |█▍                              | 61kB 8.6MB/s eta 0:00:01\r\u001b[K     |█▋                              | 71kB 8.2MB/s eta 0:00:01\r\u001b[K     |█▉                              | 81kB 9.1MB/s eta 0:00:01\r\u001b[K     |██                              | 92kB 9.9MB/s eta 0:00:01\r\u001b[K     |██▎                             | 102kB 8.0MB/s eta 0:00:01\r\u001b[K     |██▌                             | 112kB 8.0MB/s eta 0:00:01\r\u001b[K     |██▊                             | 122kB 8.0MB/s eta 0:00:01\r\u001b[K     |███                             | 133kB 8.0MB/s eta 0:00:01\r\u001b[K     |███▏                            | 143kB 8.0MB/s eta 0:00:01\r\u001b[K     |███▍                            | 153kB 8.0MB/s eta 0:00:01\r\u001b[K     |███▋                            | 163kB 8.0MB/s eta 0:00:01\r\u001b[K     |███▉                            | 174kB 8.0MB/s eta 0:00:01\r\u001b[K     |████                            | 184kB 8.0MB/s eta 0:00:01\r\u001b[K     |████▎                           | 194kB 8.0MB/s eta 0:00:01\r\u001b[K     |████▌                           | 204kB 8.0MB/s eta 0:00:01\r\u001b[K     |████▊                           | 215kB 8.0MB/s eta 0:00:01\r\u001b[K     |█████                           | 225kB 8.0MB/s eta 0:00:01\r\u001b[K     |█████▏                          | 235kB 8.0MB/s eta 0:00:01\r\u001b[K     |█████▍                          | 245kB 8.0MB/s eta 0:00:01\r\u001b[K     |█████▋                          | 256kB 8.0MB/s eta 0:00:01\r\u001b[K     |█████▉                          | 266kB 8.0MB/s eta 0:00:01\r\u001b[K     |██████                          | 276kB 8.0MB/s eta 0:00:01\r\u001b[K     |██████▎                         | 286kB 8.0MB/s eta 0:00:01\r\u001b[K     |██████▌                         | 296kB 8.0MB/s eta 0:00:01\r\u001b[K     |██████▊                         | 307kB 8.0MB/s eta 0:00:01\r\u001b[K     |███████                         | 317kB 8.0MB/s eta 0:00:01\r\u001b[K     |███████▏                        | 327kB 8.0MB/s eta 0:00:01\r\u001b[K     |███████▍                        | 337kB 8.0MB/s eta 0:00:01\r\u001b[K     |███████▋                        | 348kB 8.0MB/s eta 0:00:01\r\u001b[K     |███████▉                        | 358kB 8.0MB/s eta 0:00:01\r\u001b[K     |████████                        | 368kB 8.0MB/s eta 0:00:01\r\u001b[K     |████████▎                       | 378kB 8.0MB/s eta 0:00:01\r\u001b[K     |████████▌                       | 389kB 8.0MB/s eta 0:00:01\r\u001b[K     |████████▊                       | 399kB 8.0MB/s eta 0:00:01\r\u001b[K     |█████████                       | 409kB 8.0MB/s eta 0:00:01\r\u001b[K     |█████████▎                      | 419kB 8.0MB/s eta 0:00:01\r\u001b[K     |█████████▌                      | 430kB 8.0MB/s eta 0:00:01\r\u001b[K     |█████████▊                      | 440kB 8.0MB/s eta 0:00:01\r\u001b[K     |██████████                      | 450kB 8.0MB/s eta 0:00:01\r\u001b[K     |██████████▏                     | 460kB 8.0MB/s eta 0:00:01\r\u001b[K     |██████████▍                     | 471kB 8.0MB/s eta 0:00:01\r\u001b[K     |██████████▋                     | 481kB 8.0MB/s eta 0:00:01\r\u001b[K     |██████████▉                     | 491kB 8.0MB/s eta 0:00:01\r\u001b[K     |███████████                     | 501kB 8.0MB/s eta 0:00:01\r\u001b[K     |███████████▎                    | 512kB 8.0MB/s eta 0:00:01\r\u001b[K     |███████████▌                    | 522kB 8.0MB/s eta 0:00:01\r\u001b[K     |███████████▊                    | 532kB 8.0MB/s eta 0:00:01\r\u001b[K     |████████████                    | 542kB 8.0MB/s eta 0:00:01\r\u001b[K     |████████████▏                   | 552kB 8.0MB/s eta 0:00:01\r\u001b[K     |████████████▍                   | 563kB 8.0MB/s eta 0:00:01\r\u001b[K     |████████████▋                   | 573kB 8.0MB/s eta 0:00:01\r\u001b[K     |████████████▉                   | 583kB 8.0MB/s eta 0:00:01\r\u001b[K     |█████████████                   | 593kB 8.0MB/s eta 0:00:01\r\u001b[K     |█████████████▎                  | 604kB 8.0MB/s eta 0:00:01\r\u001b[K     |█████████████▌                  | 614kB 8.0MB/s eta 0:00:01\r\u001b[K     |█████████████▊                  | 624kB 8.0MB/s eta 0:00:01\r\u001b[K     |██████████████                  | 634kB 8.0MB/s eta 0:00:01\r\u001b[K     |██████████████▏                 | 645kB 8.0MB/s eta 0:00:01\r\u001b[K     |██████████████▍                 | 655kB 8.0MB/s eta 0:00:01\r\u001b[K     |██████████████▋                 | 665kB 8.0MB/s eta 0:00:01\r\u001b[K     |██████████████▉                 | 675kB 8.0MB/s eta 0:00:01\r\u001b[K     |███████████████                 | 686kB 8.0MB/s eta 0:00:01\r\u001b[K     |███████████████▎                | 696kB 8.0MB/s eta 0:00:01\r\u001b[K     |███████████████▌                | 706kB 8.0MB/s eta 0:00:01\r\u001b[K     |███████████████▊                | 716kB 8.0MB/s eta 0:00:01\r\u001b[K     |████████████████                | 727kB 8.0MB/s eta 0:00:01\r\u001b[K     |████████████████▏               | 737kB 8.0MB/s eta 0:00:01\r\u001b[K     |████████████████▍               | 747kB 8.0MB/s eta 0:00:01\r\u001b[K     |████████████████▋               | 757kB 8.0MB/s eta 0:00:01\r\u001b[K     |████████████████▉               | 768kB 8.0MB/s eta 0:00:01\r\u001b[K     |█████████████████               | 778kB 8.0MB/s eta 0:00:01\r\u001b[K     |█████████████████▎              | 788kB 8.0MB/s eta 0:00:01\r\u001b[K     |█████████████████▌              | 798kB 8.0MB/s eta 0:00:01\r\u001b[K     |█████████████████▊              | 808kB 8.0MB/s eta 0:00:01\r\u001b[K     |██████████████████              | 819kB 8.0MB/s eta 0:00:01\r\u001b[K     |██████████████████▎             | 829kB 8.0MB/s eta 0:00:01\r\u001b[K     |██████████████████▌             | 839kB 8.0MB/s eta 0:00:01\r\u001b[K     |██████████████████▊             | 849kB 8.0MB/s eta 0:00:01\r\u001b[K     |███████████████████             | 860kB 8.0MB/s eta 0:00:01\r\u001b[K     |███████████████████▏            | 870kB 8.0MB/s eta 0:00:01\r\u001b[K     |███████████████████▍            | 880kB 8.0MB/s eta 0:00:01\r\u001b[K     |███████████████████▋            | 890kB 8.0MB/s eta 0:00:01\r\u001b[K     |███████████████████▉            | 901kB 8.0MB/s eta 0:00:01\r\u001b[K     |████████████████████            | 911kB 8.0MB/s eta 0:00:01\r\u001b[K     |████████████████████▎           | 921kB 8.0MB/s eta 0:00:01\r\u001b[K     |████████████████████▌           | 931kB 8.0MB/s eta 0:00:01\r\u001b[K     |████████████████████▊           | 942kB 8.0MB/s eta 0:00:01\r\u001b[K     |█████████████████████           | 952kB 8.0MB/s eta 0:00:01\r\u001b[K     |█████████████████████▏          | 962kB 8.0MB/s eta 0:00:01\r\u001b[K     |█████████████████████▍          | 972kB 8.0MB/s eta 0:00:01\r\u001b[K     |█████████████████████▋          | 983kB 8.0MB/s eta 0:00:01\r\u001b[K     |█████████████████████▉          | 993kB 8.0MB/s eta 0:00:01\r\u001b[K     |██████████████████████          | 1.0MB 8.0MB/s eta 0:00:01\r\u001b[K     |██████████████████████▎         | 1.0MB 8.0MB/s eta 0:00:01\r\u001b[K     |██████████████████████▌         | 1.0MB 8.0MB/s eta 0:00:01\r\u001b[K     |██████████████████████▊         | 1.0MB 8.0MB/s eta 0:00:01\r\u001b[K     |███████████████████████         | 1.0MB 8.0MB/s eta 0:00:01\r\u001b[K     |███████████████████████▏        | 1.1MB 8.0MB/s eta 0:00:01\r\u001b[K     |███████████████████████▍        | 1.1MB 8.0MB/s eta 0:00:01\r\u001b[K     |███████████████████████▋        | 1.1MB 8.0MB/s eta 0:00:01\r\u001b[K     |███████████████████████▉        | 1.1MB 8.0MB/s eta 0:00:01\r\u001b[K     |████████████████████████        | 1.1MB 8.0MB/s eta 0:00:01\r\u001b[K     |████████████████████████▎       | 1.1MB 8.0MB/s eta 0:00:01\r\u001b[K     |████████████████████████▌       | 1.1MB 8.0MB/s eta 0:00:01\r\u001b[K     |████████████████████████▊       | 1.1MB 8.0MB/s eta 0:00:01\r\u001b[K     |█████████████████████████       | 1.1MB 8.0MB/s eta 0:00:01\r\u001b[K     |█████████████████████████▏      | 1.1MB 8.0MB/s eta 0:00:01\r\u001b[K     |█████████████████████████▍      | 1.2MB 8.0MB/s eta 0:00:01\r\u001b[K     |█████████████████████████▋      | 1.2MB 8.0MB/s eta 0:00:01\r\u001b[K     |█████████████████████████▉      | 1.2MB 8.0MB/s eta 0:00:01\r\u001b[K     |██████████████████████████      | 1.2MB 8.0MB/s eta 0:00:01\r\u001b[K     |██████████████████████████▎     | 1.2MB 8.0MB/s eta 0:00:01\r\u001b[K     |██████████████████████████▌     | 1.2MB 8.0MB/s eta 0:00:01\r\u001b[K     |██████████████████████████▊     | 1.2MB 8.0MB/s eta 0:00:01\r\u001b[K     |███████████████████████████     | 1.2MB 8.0MB/s eta 0:00:01\r\u001b[K     |███████████████████████████▎    | 1.2MB 8.0MB/s eta 0:00:01\r\u001b[K     |███████████████████████████▌    | 1.2MB 8.0MB/s eta 0:00:01\r\u001b[K     |███████████████████████████▊    | 1.3MB 8.0MB/s eta 0:00:01\r\u001b[K     |████████████████████████████    | 1.3MB 8.0MB/s eta 0:00:01\r\u001b[K     |████████████████████████████▏   | 1.3MB 8.0MB/s eta 0:00:01\r\u001b[K     |████████████████████████████▍   | 1.3MB 8.0MB/s eta 0:00:01\r\u001b[K     |████████████████████████████▋   | 1.3MB 8.0MB/s eta 0:00:01\r\u001b[K     |████████████████████████████▉   | 1.3MB 8.0MB/s eta 0:00:01\r\u001b[K     |█████████████████████████████   | 1.3MB 8.0MB/s eta 0:00:01\r\u001b[K     |█████████████████████████████▎  | 1.3MB 8.0MB/s eta 0:00:01\r\u001b[K     |█████████████████████████████▌  | 1.3MB 8.0MB/s eta 0:00:01\r\u001b[K     |█████████████████████████████▊  | 1.4MB 8.0MB/s eta 0:00:01\r\u001b[K     |██████████████████████████████  | 1.4MB 8.0MB/s eta 0:00:01\r\u001b[K     |██████████████████████████████▏ | 1.4MB 8.0MB/s eta 0:00:01\r\u001b[K     |██████████████████████████████▍ | 1.4MB 8.0MB/s eta 0:00:01\r\u001b[K     |██████████████████████████████▋ | 1.4MB 8.0MB/s eta 0:00:01\r\u001b[K     |██████████████████████████████▉ | 1.4MB 8.0MB/s eta 0:00:01\r\u001b[K     |███████████████████████████████ | 1.4MB 8.0MB/s eta 0:00:01\r\u001b[K     |███████████████████████████████▎| 1.4MB 8.0MB/s eta 0:00:01\r\u001b[K     |███████████████████████████████▌| 1.4MB 8.0MB/s eta 0:00:01\r\u001b[K     |███████████████████████████████▊| 1.4MB 8.0MB/s eta 0:00:01\r\u001b[K     |████████████████████████████████| 1.5MB 8.0MB/s eta 0:00:01\r\u001b[K     |████████████████████████████████| 1.5MB 8.0MB/s \n",
            "\u001b[?25hRequirement already satisfied: numpy~=1.19.0 in /usr/local/lib/python3.7/dist-packages (from pmdarima) (1.19.5)\n",
            "Requirement already satisfied: setuptools!=50.0.0,>=38.6.0 in /usr/local/lib/python3.7/dist-packages (from pmdarima) (57.0.0)\n",
            "Requirement already satisfied: scikit-learn>=0.22 in /usr/local/lib/python3.7/dist-packages (from pmdarima) (0.22.2.post1)\n",
            "Requirement already satisfied: Cython!=0.29.18,>=0.29 in /usr/local/lib/python3.7/dist-packages (from pmdarima) (0.29.23)\n",
            "Requirement already satisfied: pandas>=0.19 in /usr/local/lib/python3.7/dist-packages (from pmdarima) (1.1.5)\n",
            "Requirement already satisfied: joblib>=0.11 in /usr/local/lib/python3.7/dist-packages (from pmdarima) (1.0.1)\n",
            "Requirement already satisfied: scipy>=1.3.2 in /usr/local/lib/python3.7/dist-packages (from pmdarima) (1.4.1)\n",
            "Requirement already satisfied: statsmodels!=0.12.0,>=0.11 in /usr/local/lib/python3.7/dist-packages (from pmdarima) (0.12.2)\n",
            "Requirement already satisfied: urllib3 in /usr/local/lib/python3.7/dist-packages (from pmdarima) (1.24.3)\n",
            "Requirement already satisfied: pytz>=2017.2 in /usr/local/lib/python3.7/dist-packages (from pandas>=0.19->pmdarima) (2018.9)\n",
            "Requirement already satisfied: python-dateutil>=2.7.3 in /usr/local/lib/python3.7/dist-packages (from pandas>=0.19->pmdarima) (2.8.1)\n",
            "Requirement already satisfied: patsy>=0.5 in /usr/local/lib/python3.7/dist-packages (from statsmodels!=0.12.0,>=0.11->pmdarima) (0.5.1)\n",
            "Requirement already satisfied: six>=1.5 in /usr/local/lib/python3.7/dist-packages (from python-dateutil>=2.7.3->pandas>=0.19->pmdarima) (1.15.0)\n",
            "Installing collected packages: pmdarima\n",
            "Successfully installed pmdarima-1.8.2\n"
          ],
          "name": "stdout"
        }
      ]
    },
    {
      "cell_type": "code",
      "metadata": {
        "id": "4af7285f"
      },
      "source": [
        "# importing the required libraries\n",
        "import pandas as pd\n",
        "import numpy as np\n",
        "# Visualisation libraries\n",
        "import matplotlib.pyplot as plt\n",
        "%matplotlib inline\n",
        "from sklearn.metrics import r2_score\n",
        "# Manipulating the default plot size\n",
        "plt.rcParams['figure.figsize'] = 8, 10\n",
        "# Disable warnings\n",
        "import warnings\n",
        "warnings.filterwarnings('ignore')"
      ],
      "id": "4af7285f",
      "execution_count": null,
      "outputs": []
    },
    {
      "cell_type": "code",
      "metadata": {
        "id": "e4371729"
      },
      "source": [
        "confirmed_cases = pd.read_csv('/content/drive/MyDrive/dataset/time_series_covid19_confirmed_global.csv')"
      ],
      "id": "e4371729",
      "execution_count": null,
      "outputs": []
    },
    {
      "cell_type": "code",
      "metadata": {
        "id": "6756dcb5",
        "colab": {
          "base_uri": "https://localhost:8080/",
          "height": 438
        },
        "outputId": "2a3651be-0418-44b1-8226-23200e6bb8ff"
      },
      "source": [
        "confirmed_cases"
      ],
      "id": "6756dcb5",
      "execution_count": null,
      "outputs": [
        {
          "output_type": "execute_result",
          "data": {
            "text/html": [
              "<div>\n",
              "<style scoped>\n",
              "    .dataframe tbody tr th:only-of-type {\n",
              "        vertical-align: middle;\n",
              "    }\n",
              "\n",
              "    .dataframe tbody tr th {\n",
              "        vertical-align: top;\n",
              "    }\n",
              "\n",
              "    .dataframe thead th {\n",
              "        text-align: right;\n",
              "    }\n",
              "</style>\n",
              "<table border=\"1\" class=\"dataframe\">\n",
              "  <thead>\n",
              "    <tr style=\"text-align: right;\">\n",
              "      <th></th>\n",
              "      <th>Province/State</th>\n",
              "      <th>Country/Region</th>\n",
              "      <th>Lat</th>\n",
              "      <th>Long</th>\n",
              "      <th>1/22/20</th>\n",
              "      <th>1/23/20</th>\n",
              "      <th>1/24/20</th>\n",
              "      <th>1/25/20</th>\n",
              "      <th>1/26/20</th>\n",
              "      <th>1/27/20</th>\n",
              "      <th>1/28/20</th>\n",
              "      <th>1/29/20</th>\n",
              "      <th>1/30/20</th>\n",
              "      <th>1/31/20</th>\n",
              "      <th>2/1/20</th>\n",
              "      <th>2/2/20</th>\n",
              "      <th>2/3/20</th>\n",
              "      <th>2/4/20</th>\n",
              "      <th>2/5/20</th>\n",
              "      <th>2/6/20</th>\n",
              "      <th>2/7/20</th>\n",
              "      <th>2/8/20</th>\n",
              "      <th>2/9/20</th>\n",
              "      <th>2/10/20</th>\n",
              "      <th>2/11/20</th>\n",
              "      <th>2/12/20</th>\n",
              "      <th>2/13/20</th>\n",
              "      <th>2/14/20</th>\n",
              "      <th>2/15/20</th>\n",
              "      <th>2/16/20</th>\n",
              "      <th>2/17/20</th>\n",
              "      <th>2/18/20</th>\n",
              "      <th>2/19/20</th>\n",
              "      <th>2/20/20</th>\n",
              "      <th>2/21/20</th>\n",
              "      <th>2/22/20</th>\n",
              "      <th>2/23/20</th>\n",
              "      <th>2/24/20</th>\n",
              "      <th>2/25/20</th>\n",
              "      <th>2/26/20</th>\n",
              "      <th>...</th>\n",
              "      <th>4/28/21</th>\n",
              "      <th>4/29/21</th>\n",
              "      <th>4/30/21</th>\n",
              "      <th>5/1/21</th>\n",
              "      <th>5/2/21</th>\n",
              "      <th>5/3/21</th>\n",
              "      <th>5/4/21</th>\n",
              "      <th>5/5/21</th>\n",
              "      <th>5/6/21</th>\n",
              "      <th>5/7/21</th>\n",
              "      <th>5/8/21</th>\n",
              "      <th>5/9/21</th>\n",
              "      <th>5/10/21</th>\n",
              "      <th>5/11/21</th>\n",
              "      <th>5/12/21</th>\n",
              "      <th>5/13/21</th>\n",
              "      <th>5/14/21</th>\n",
              "      <th>5/15/21</th>\n",
              "      <th>5/16/21</th>\n",
              "      <th>5/17/21</th>\n",
              "      <th>5/18/21</th>\n",
              "      <th>5/19/21</th>\n",
              "      <th>5/20/21</th>\n",
              "      <th>5/21/21</th>\n",
              "      <th>5/22/21</th>\n",
              "      <th>5/23/21</th>\n",
              "      <th>5/24/21</th>\n",
              "      <th>5/25/21</th>\n",
              "      <th>5/26/21</th>\n",
              "      <th>5/27/21</th>\n",
              "      <th>5/28/21</th>\n",
              "      <th>5/29/21</th>\n",
              "      <th>5/30/21</th>\n",
              "      <th>5/31/21</th>\n",
              "      <th>6/1/21</th>\n",
              "      <th>6/2/21</th>\n",
              "      <th>6/3/21</th>\n",
              "      <th>6/4/21</th>\n",
              "      <th>6/5/21</th>\n",
              "      <th>6/6/21</th>\n",
              "    </tr>\n",
              "  </thead>\n",
              "  <tbody>\n",
              "    <tr>\n",
              "      <th>0</th>\n",
              "      <td>NaN</td>\n",
              "      <td>Afghanistan</td>\n",
              "      <td>33.939110</td>\n",
              "      <td>67.709953</td>\n",
              "      <td>0</td>\n",
              "      <td>0</td>\n",
              "      <td>0</td>\n",
              "      <td>0</td>\n",
              "      <td>0</td>\n",
              "      <td>0</td>\n",
              "      <td>0</td>\n",
              "      <td>0</td>\n",
              "      <td>0</td>\n",
              "      <td>0</td>\n",
              "      <td>0</td>\n",
              "      <td>0</td>\n",
              "      <td>0</td>\n",
              "      <td>0</td>\n",
              "      <td>0</td>\n",
              "      <td>0</td>\n",
              "      <td>0</td>\n",
              "      <td>0</td>\n",
              "      <td>0</td>\n",
              "      <td>0</td>\n",
              "      <td>0</td>\n",
              "      <td>0</td>\n",
              "      <td>0</td>\n",
              "      <td>0</td>\n",
              "      <td>0</td>\n",
              "      <td>0</td>\n",
              "      <td>0</td>\n",
              "      <td>0</td>\n",
              "      <td>0</td>\n",
              "      <td>0</td>\n",
              "      <td>0</td>\n",
              "      <td>0</td>\n",
              "      <td>0</td>\n",
              "      <td>1</td>\n",
              "      <td>1</td>\n",
              "      <td>1</td>\n",
              "      <td>...</td>\n",
              "      <td>59370</td>\n",
              "      <td>59576</td>\n",
              "      <td>59745</td>\n",
              "      <td>59939</td>\n",
              "      <td>60122</td>\n",
              "      <td>60300</td>\n",
              "      <td>60563</td>\n",
              "      <td>60797</td>\n",
              "      <td>61162</td>\n",
              "      <td>61455</td>\n",
              "      <td>61755</td>\n",
              "      <td>61842</td>\n",
              "      <td>62063</td>\n",
              "      <td>62403</td>\n",
              "      <td>62718</td>\n",
              "      <td>63045</td>\n",
              "      <td>63355</td>\n",
              "      <td>63412</td>\n",
              "      <td>63484</td>\n",
              "      <td>63598</td>\n",
              "      <td>63819</td>\n",
              "      <td>64122</td>\n",
              "      <td>64575</td>\n",
              "      <td>65080</td>\n",
              "      <td>65486</td>\n",
              "      <td>65728</td>\n",
              "      <td>66275</td>\n",
              "      <td>66903</td>\n",
              "      <td>67743</td>\n",
              "      <td>68366</td>\n",
              "      <td>69130</td>\n",
              "      <td>70111</td>\n",
              "      <td>70761</td>\n",
              "      <td>71838</td>\n",
              "      <td>72977</td>\n",
              "      <td>74026</td>\n",
              "      <td>75119</td>\n",
              "      <td>76628</td>\n",
              "      <td>77963</td>\n",
              "      <td>79224</td>\n",
              "    </tr>\n",
              "    <tr>\n",
              "      <th>1</th>\n",
              "      <td>NaN</td>\n",
              "      <td>Albania</td>\n",
              "      <td>41.153300</td>\n",
              "      <td>20.168300</td>\n",
              "      <td>0</td>\n",
              "      <td>0</td>\n",
              "      <td>0</td>\n",
              "      <td>0</td>\n",
              "      <td>0</td>\n",
              "      <td>0</td>\n",
              "      <td>0</td>\n",
              "      <td>0</td>\n",
              "      <td>0</td>\n",
              "      <td>0</td>\n",
              "      <td>0</td>\n",
              "      <td>0</td>\n",
              "      <td>0</td>\n",
              "      <td>0</td>\n",
              "      <td>0</td>\n",
              "      <td>0</td>\n",
              "      <td>0</td>\n",
              "      <td>0</td>\n",
              "      <td>0</td>\n",
              "      <td>0</td>\n",
              "      <td>0</td>\n",
              "      <td>0</td>\n",
              "      <td>0</td>\n",
              "      <td>0</td>\n",
              "      <td>0</td>\n",
              "      <td>0</td>\n",
              "      <td>0</td>\n",
              "      <td>0</td>\n",
              "      <td>0</td>\n",
              "      <td>0</td>\n",
              "      <td>0</td>\n",
              "      <td>0</td>\n",
              "      <td>0</td>\n",
              "      <td>0</td>\n",
              "      <td>0</td>\n",
              "      <td>0</td>\n",
              "      <td>...</td>\n",
              "      <td>130859</td>\n",
              "      <td>130977</td>\n",
              "      <td>131085</td>\n",
              "      <td>131185</td>\n",
              "      <td>131238</td>\n",
              "      <td>131276</td>\n",
              "      <td>131327</td>\n",
              "      <td>131419</td>\n",
              "      <td>131510</td>\n",
              "      <td>131577</td>\n",
              "      <td>131666</td>\n",
              "      <td>131723</td>\n",
              "      <td>131753</td>\n",
              "      <td>131803</td>\n",
              "      <td>131845</td>\n",
              "      <td>131890</td>\n",
              "      <td>131939</td>\n",
              "      <td>131978</td>\n",
              "      <td>132015</td>\n",
              "      <td>132032</td>\n",
              "      <td>132071</td>\n",
              "      <td>132095</td>\n",
              "      <td>132118</td>\n",
              "      <td>132153</td>\n",
              "      <td>132176</td>\n",
              "      <td>132209</td>\n",
              "      <td>132215</td>\n",
              "      <td>132229</td>\n",
              "      <td>132244</td>\n",
              "      <td>132264</td>\n",
              "      <td>132285</td>\n",
              "      <td>132297</td>\n",
              "      <td>132309</td>\n",
              "      <td>132315</td>\n",
              "      <td>132337</td>\n",
              "      <td>132351</td>\n",
              "      <td>132360</td>\n",
              "      <td>132372</td>\n",
              "      <td>132374</td>\n",
              "      <td>132379</td>\n",
              "    </tr>\n",
              "    <tr>\n",
              "      <th>2</th>\n",
              "      <td>NaN</td>\n",
              "      <td>Algeria</td>\n",
              "      <td>28.033900</td>\n",
              "      <td>1.659600</td>\n",
              "      <td>0</td>\n",
              "      <td>0</td>\n",
              "      <td>0</td>\n",
              "      <td>0</td>\n",
              "      <td>0</td>\n",
              "      <td>0</td>\n",
              "      <td>0</td>\n",
              "      <td>0</td>\n",
              "      <td>0</td>\n",
              "      <td>0</td>\n",
              "      <td>0</td>\n",
              "      <td>0</td>\n",
              "      <td>0</td>\n",
              "      <td>0</td>\n",
              "      <td>0</td>\n",
              "      <td>0</td>\n",
              "      <td>0</td>\n",
              "      <td>0</td>\n",
              "      <td>0</td>\n",
              "      <td>0</td>\n",
              "      <td>0</td>\n",
              "      <td>0</td>\n",
              "      <td>0</td>\n",
              "      <td>0</td>\n",
              "      <td>0</td>\n",
              "      <td>0</td>\n",
              "      <td>0</td>\n",
              "      <td>0</td>\n",
              "      <td>0</td>\n",
              "      <td>0</td>\n",
              "      <td>0</td>\n",
              "      <td>0</td>\n",
              "      <td>0</td>\n",
              "      <td>0</td>\n",
              "      <td>1</td>\n",
              "      <td>1</td>\n",
              "      <td>...</td>\n",
              "      <td>121580</td>\n",
              "      <td>121866</td>\n",
              "      <td>122108</td>\n",
              "      <td>122311</td>\n",
              "      <td>122522</td>\n",
              "      <td>122717</td>\n",
              "      <td>122999</td>\n",
              "      <td>123272</td>\n",
              "      <td>123473</td>\n",
              "      <td>123692</td>\n",
              "      <td>123900</td>\n",
              "      <td>124104</td>\n",
              "      <td>124288</td>\n",
              "      <td>124483</td>\n",
              "      <td>124682</td>\n",
              "      <td>124889</td>\n",
              "      <td>125059</td>\n",
              "      <td>125194</td>\n",
              "      <td>125311</td>\n",
              "      <td>125485</td>\n",
              "      <td>125693</td>\n",
              "      <td>125896</td>\n",
              "      <td>126156</td>\n",
              "      <td>126434</td>\n",
              "      <td>126651</td>\n",
              "      <td>126860</td>\n",
              "      <td>127107</td>\n",
              "      <td>127361</td>\n",
              "      <td>127646</td>\n",
              "      <td>127926</td>\n",
              "      <td>128198</td>\n",
              "      <td>128456</td>\n",
              "      <td>128725</td>\n",
              "      <td>128913</td>\n",
              "      <td>129218</td>\n",
              "      <td>129640</td>\n",
              "      <td>129976</td>\n",
              "      <td>130361</td>\n",
              "      <td>130681</td>\n",
              "      <td>130958</td>\n",
              "    </tr>\n",
              "    <tr>\n",
              "      <th>3</th>\n",
              "      <td>NaN</td>\n",
              "      <td>Andorra</td>\n",
              "      <td>42.506300</td>\n",
              "      <td>1.521800</td>\n",
              "      <td>0</td>\n",
              "      <td>0</td>\n",
              "      <td>0</td>\n",
              "      <td>0</td>\n",
              "      <td>0</td>\n",
              "      <td>0</td>\n",
              "      <td>0</td>\n",
              "      <td>0</td>\n",
              "      <td>0</td>\n",
              "      <td>0</td>\n",
              "      <td>0</td>\n",
              "      <td>0</td>\n",
              "      <td>0</td>\n",
              "      <td>0</td>\n",
              "      <td>0</td>\n",
              "      <td>0</td>\n",
              "      <td>0</td>\n",
              "      <td>0</td>\n",
              "      <td>0</td>\n",
              "      <td>0</td>\n",
              "      <td>0</td>\n",
              "      <td>0</td>\n",
              "      <td>0</td>\n",
              "      <td>0</td>\n",
              "      <td>0</td>\n",
              "      <td>0</td>\n",
              "      <td>0</td>\n",
              "      <td>0</td>\n",
              "      <td>0</td>\n",
              "      <td>0</td>\n",
              "      <td>0</td>\n",
              "      <td>0</td>\n",
              "      <td>0</td>\n",
              "      <td>0</td>\n",
              "      <td>0</td>\n",
              "      <td>0</td>\n",
              "      <td>...</td>\n",
              "      <td>13148</td>\n",
              "      <td>13198</td>\n",
              "      <td>13232</td>\n",
              "      <td>13232</td>\n",
              "      <td>13282</td>\n",
              "      <td>13295</td>\n",
              "      <td>13316</td>\n",
              "      <td>13340</td>\n",
              "      <td>13363</td>\n",
              "      <td>13390</td>\n",
              "      <td>13406</td>\n",
              "      <td>13423</td>\n",
              "      <td>13429</td>\n",
              "      <td>13447</td>\n",
              "      <td>13470</td>\n",
              "      <td>13470</td>\n",
              "      <td>13510</td>\n",
              "      <td>13510</td>\n",
              "      <td>13510</td>\n",
              "      <td>13555</td>\n",
              "      <td>13569</td>\n",
              "      <td>13569</td>\n",
              "      <td>13569</td>\n",
              "      <td>13569</td>\n",
              "      <td>13569</td>\n",
              "      <td>13569</td>\n",
              "      <td>13569</td>\n",
              "      <td>13664</td>\n",
              "      <td>13671</td>\n",
              "      <td>13682</td>\n",
              "      <td>13693</td>\n",
              "      <td>13693</td>\n",
              "      <td>13693</td>\n",
              "      <td>13727</td>\n",
              "      <td>13729</td>\n",
              "      <td>13744</td>\n",
              "      <td>13752</td>\n",
              "      <td>13758</td>\n",
              "      <td>13758</td>\n",
              "      <td>13758</td>\n",
              "    </tr>\n",
              "    <tr>\n",
              "      <th>4</th>\n",
              "      <td>NaN</td>\n",
              "      <td>Angola</td>\n",
              "      <td>-11.202700</td>\n",
              "      <td>17.873900</td>\n",
              "      <td>0</td>\n",
              "      <td>0</td>\n",
              "      <td>0</td>\n",
              "      <td>0</td>\n",
              "      <td>0</td>\n",
              "      <td>0</td>\n",
              "      <td>0</td>\n",
              "      <td>0</td>\n",
              "      <td>0</td>\n",
              "      <td>0</td>\n",
              "      <td>0</td>\n",
              "      <td>0</td>\n",
              "      <td>0</td>\n",
              "      <td>0</td>\n",
              "      <td>0</td>\n",
              "      <td>0</td>\n",
              "      <td>0</td>\n",
              "      <td>0</td>\n",
              "      <td>0</td>\n",
              "      <td>0</td>\n",
              "      <td>0</td>\n",
              "      <td>0</td>\n",
              "      <td>0</td>\n",
              "      <td>0</td>\n",
              "      <td>0</td>\n",
              "      <td>0</td>\n",
              "      <td>0</td>\n",
              "      <td>0</td>\n",
              "      <td>0</td>\n",
              "      <td>0</td>\n",
              "      <td>0</td>\n",
              "      <td>0</td>\n",
              "      <td>0</td>\n",
              "      <td>0</td>\n",
              "      <td>0</td>\n",
              "      <td>0</td>\n",
              "      <td>...</td>\n",
              "      <td>26168</td>\n",
              "      <td>26431</td>\n",
              "      <td>26652</td>\n",
              "      <td>26815</td>\n",
              "      <td>26993</td>\n",
              "      <td>27133</td>\n",
              "      <td>27284</td>\n",
              "      <td>27529</td>\n",
              "      <td>27921</td>\n",
              "      <td>28201</td>\n",
              "      <td>28477</td>\n",
              "      <td>28740</td>\n",
              "      <td>28875</td>\n",
              "      <td>29146</td>\n",
              "      <td>29405</td>\n",
              "      <td>29695</td>\n",
              "      <td>30030</td>\n",
              "      <td>30354</td>\n",
              "      <td>30637</td>\n",
              "      <td>30787</td>\n",
              "      <td>31045</td>\n",
              "      <td>31438</td>\n",
              "      <td>31661</td>\n",
              "      <td>31909</td>\n",
              "      <td>32149</td>\n",
              "      <td>32441</td>\n",
              "      <td>32623</td>\n",
              "      <td>32933</td>\n",
              "      <td>33338</td>\n",
              "      <td>33607</td>\n",
              "      <td>33944</td>\n",
              "      <td>34180</td>\n",
              "      <td>34366</td>\n",
              "      <td>34551</td>\n",
              "      <td>34752</td>\n",
              "      <td>34960</td>\n",
              "      <td>35140</td>\n",
              "      <td>35307</td>\n",
              "      <td>35594</td>\n",
              "      <td>35772</td>\n",
              "    </tr>\n",
              "    <tr>\n",
              "      <th>...</th>\n",
              "      <td>...</td>\n",
              "      <td>...</td>\n",
              "      <td>...</td>\n",
              "      <td>...</td>\n",
              "      <td>...</td>\n",
              "      <td>...</td>\n",
              "      <td>...</td>\n",
              "      <td>...</td>\n",
              "      <td>...</td>\n",
              "      <td>...</td>\n",
              "      <td>...</td>\n",
              "      <td>...</td>\n",
              "      <td>...</td>\n",
              "      <td>...</td>\n",
              "      <td>...</td>\n",
              "      <td>...</td>\n",
              "      <td>...</td>\n",
              "      <td>...</td>\n",
              "      <td>...</td>\n",
              "      <td>...</td>\n",
              "      <td>...</td>\n",
              "      <td>...</td>\n",
              "      <td>...</td>\n",
              "      <td>...</td>\n",
              "      <td>...</td>\n",
              "      <td>...</td>\n",
              "      <td>...</td>\n",
              "      <td>...</td>\n",
              "      <td>...</td>\n",
              "      <td>...</td>\n",
              "      <td>...</td>\n",
              "      <td>...</td>\n",
              "      <td>...</td>\n",
              "      <td>...</td>\n",
              "      <td>...</td>\n",
              "      <td>...</td>\n",
              "      <td>...</td>\n",
              "      <td>...</td>\n",
              "      <td>...</td>\n",
              "      <td>...</td>\n",
              "      <td>...</td>\n",
              "      <td>...</td>\n",
              "      <td>...</td>\n",
              "      <td>...</td>\n",
              "      <td>...</td>\n",
              "      <td>...</td>\n",
              "      <td>...</td>\n",
              "      <td>...</td>\n",
              "      <td>...</td>\n",
              "      <td>...</td>\n",
              "      <td>...</td>\n",
              "      <td>...</td>\n",
              "      <td>...</td>\n",
              "      <td>...</td>\n",
              "      <td>...</td>\n",
              "      <td>...</td>\n",
              "      <td>...</td>\n",
              "      <td>...</td>\n",
              "      <td>...</td>\n",
              "      <td>...</td>\n",
              "      <td>...</td>\n",
              "      <td>...</td>\n",
              "      <td>...</td>\n",
              "      <td>...</td>\n",
              "      <td>...</td>\n",
              "      <td>...</td>\n",
              "      <td>...</td>\n",
              "      <td>...</td>\n",
              "      <td>...</td>\n",
              "      <td>...</td>\n",
              "      <td>...</td>\n",
              "      <td>...</td>\n",
              "      <td>...</td>\n",
              "      <td>...</td>\n",
              "      <td>...</td>\n",
              "      <td>...</td>\n",
              "      <td>...</td>\n",
              "      <td>...</td>\n",
              "      <td>...</td>\n",
              "      <td>...</td>\n",
              "      <td>...</td>\n",
              "    </tr>\n",
              "    <tr>\n",
              "      <th>271</th>\n",
              "      <td>NaN</td>\n",
              "      <td>Vietnam</td>\n",
              "      <td>14.058324</td>\n",
              "      <td>108.277199</td>\n",
              "      <td>0</td>\n",
              "      <td>2</td>\n",
              "      <td>2</td>\n",
              "      <td>2</td>\n",
              "      <td>2</td>\n",
              "      <td>2</td>\n",
              "      <td>2</td>\n",
              "      <td>2</td>\n",
              "      <td>2</td>\n",
              "      <td>2</td>\n",
              "      <td>6</td>\n",
              "      <td>6</td>\n",
              "      <td>8</td>\n",
              "      <td>8</td>\n",
              "      <td>8</td>\n",
              "      <td>10</td>\n",
              "      <td>10</td>\n",
              "      <td>13</td>\n",
              "      <td>13</td>\n",
              "      <td>14</td>\n",
              "      <td>15</td>\n",
              "      <td>15</td>\n",
              "      <td>16</td>\n",
              "      <td>16</td>\n",
              "      <td>16</td>\n",
              "      <td>16</td>\n",
              "      <td>16</td>\n",
              "      <td>16</td>\n",
              "      <td>16</td>\n",
              "      <td>16</td>\n",
              "      <td>16</td>\n",
              "      <td>16</td>\n",
              "      <td>16</td>\n",
              "      <td>16</td>\n",
              "      <td>16</td>\n",
              "      <td>16</td>\n",
              "      <td>...</td>\n",
              "      <td>2865</td>\n",
              "      <td>2910</td>\n",
              "      <td>2928</td>\n",
              "      <td>2942</td>\n",
              "      <td>2962</td>\n",
              "      <td>2985</td>\n",
              "      <td>2995</td>\n",
              "      <td>3030</td>\n",
              "      <td>3090</td>\n",
              "      <td>3137</td>\n",
              "      <td>3245</td>\n",
              "      <td>3412</td>\n",
              "      <td>3489</td>\n",
              "      <td>3571</td>\n",
              "      <td>3658</td>\n",
              "      <td>3740</td>\n",
              "      <td>3816</td>\n",
              "      <td>4112</td>\n",
              "      <td>4212</td>\n",
              "      <td>4359</td>\n",
              "      <td>4512</td>\n",
              "      <td>4720</td>\n",
              "      <td>4809</td>\n",
              "      <td>4941</td>\n",
              "      <td>5119</td>\n",
              "      <td>5275</td>\n",
              "      <td>5404</td>\n",
              "      <td>5931</td>\n",
              "      <td>6086</td>\n",
              "      <td>6356</td>\n",
              "      <td>6396</td>\n",
              "      <td>6908</td>\n",
              "      <td>7107</td>\n",
              "      <td>7432</td>\n",
              "      <td>7625</td>\n",
              "      <td>7870</td>\n",
              "      <td>8063</td>\n",
              "      <td>8364</td>\n",
              "      <td>8580</td>\n",
              "      <td>8791</td>\n",
              "    </tr>\n",
              "    <tr>\n",
              "      <th>272</th>\n",
              "      <td>NaN</td>\n",
              "      <td>West Bank and Gaza</td>\n",
              "      <td>31.952200</td>\n",
              "      <td>35.233200</td>\n",
              "      <td>0</td>\n",
              "      <td>0</td>\n",
              "      <td>0</td>\n",
              "      <td>0</td>\n",
              "      <td>0</td>\n",
              "      <td>0</td>\n",
              "      <td>0</td>\n",
              "      <td>0</td>\n",
              "      <td>0</td>\n",
              "      <td>0</td>\n",
              "      <td>0</td>\n",
              "      <td>0</td>\n",
              "      <td>0</td>\n",
              "      <td>0</td>\n",
              "      <td>0</td>\n",
              "      <td>0</td>\n",
              "      <td>0</td>\n",
              "      <td>0</td>\n",
              "      <td>0</td>\n",
              "      <td>0</td>\n",
              "      <td>0</td>\n",
              "      <td>0</td>\n",
              "      <td>0</td>\n",
              "      <td>0</td>\n",
              "      <td>0</td>\n",
              "      <td>0</td>\n",
              "      <td>0</td>\n",
              "      <td>0</td>\n",
              "      <td>0</td>\n",
              "      <td>0</td>\n",
              "      <td>0</td>\n",
              "      <td>0</td>\n",
              "      <td>0</td>\n",
              "      <td>0</td>\n",
              "      <td>0</td>\n",
              "      <td>0</td>\n",
              "      <td>...</td>\n",
              "      <td>294550</td>\n",
              "      <td>295601</td>\n",
              "      <td>296462</td>\n",
              "      <td>296462</td>\n",
              "      <td>297638</td>\n",
              "      <td>298203</td>\n",
              "      <td>298921</td>\n",
              "      <td>299736</td>\n",
              "      <td>300387</td>\n",
              "      <td>300946</td>\n",
              "      <td>301437</td>\n",
              "      <td>301751</td>\n",
              "      <td>302249</td>\n",
              "      <td>302777</td>\n",
              "      <td>303270</td>\n",
              "      <td>303270</td>\n",
              "      <td>303270</td>\n",
              "      <td>303658</td>\n",
              "      <td>303827</td>\n",
              "      <td>304074</td>\n",
              "      <td>304074</td>\n",
              "      <td>304532</td>\n",
              "      <td>304532</td>\n",
              "      <td>304968</td>\n",
              "      <td>305201</td>\n",
              "      <td>305201</td>\n",
              "      <td>305777</td>\n",
              "      <td>306334</td>\n",
              "      <td>306795</td>\n",
              "      <td>306795</td>\n",
              "      <td>307569</td>\n",
              "      <td>307838</td>\n",
              "      <td>308048</td>\n",
              "      <td>308350</td>\n",
              "      <td>308732</td>\n",
              "      <td>309036</td>\n",
              "      <td>309333</td>\n",
              "      <td>309644</td>\n",
              "      <td>309853</td>\n",
              "      <td>310026</td>\n",
              "    </tr>\n",
              "    <tr>\n",
              "      <th>273</th>\n",
              "      <td>NaN</td>\n",
              "      <td>Yemen</td>\n",
              "      <td>15.552727</td>\n",
              "      <td>48.516388</td>\n",
              "      <td>0</td>\n",
              "      <td>0</td>\n",
              "      <td>0</td>\n",
              "      <td>0</td>\n",
              "      <td>0</td>\n",
              "      <td>0</td>\n",
              "      <td>0</td>\n",
              "      <td>0</td>\n",
              "      <td>0</td>\n",
              "      <td>0</td>\n",
              "      <td>0</td>\n",
              "      <td>0</td>\n",
              "      <td>0</td>\n",
              "      <td>0</td>\n",
              "      <td>0</td>\n",
              "      <td>0</td>\n",
              "      <td>0</td>\n",
              "      <td>0</td>\n",
              "      <td>0</td>\n",
              "      <td>0</td>\n",
              "      <td>0</td>\n",
              "      <td>0</td>\n",
              "      <td>0</td>\n",
              "      <td>0</td>\n",
              "      <td>0</td>\n",
              "      <td>0</td>\n",
              "      <td>0</td>\n",
              "      <td>0</td>\n",
              "      <td>0</td>\n",
              "      <td>0</td>\n",
              "      <td>0</td>\n",
              "      <td>0</td>\n",
              "      <td>0</td>\n",
              "      <td>0</td>\n",
              "      <td>0</td>\n",
              "      <td>0</td>\n",
              "      <td>...</td>\n",
              "      <td>6263</td>\n",
              "      <td>6294</td>\n",
              "      <td>6317</td>\n",
              "      <td>6325</td>\n",
              "      <td>6341</td>\n",
              "      <td>6363</td>\n",
              "      <td>6390</td>\n",
              "      <td>6414</td>\n",
              "      <td>6426</td>\n",
              "      <td>6446</td>\n",
              "      <td>6462</td>\n",
              "      <td>6482</td>\n",
              "      <td>6485</td>\n",
              "      <td>6492</td>\n",
              "      <td>6498</td>\n",
              "      <td>6507</td>\n",
              "      <td>6523</td>\n",
              "      <td>6538</td>\n",
              "      <td>6543</td>\n",
              "      <td>6568</td>\n",
              "      <td>6586</td>\n",
              "      <td>6593</td>\n",
              "      <td>6613</td>\n",
              "      <td>6632</td>\n",
              "      <td>6649</td>\n",
              "      <td>6658</td>\n",
              "      <td>6662</td>\n",
              "      <td>6670</td>\n",
              "      <td>6688</td>\n",
              "      <td>6696</td>\n",
              "      <td>6723</td>\n",
              "      <td>6731</td>\n",
              "      <td>6737</td>\n",
              "      <td>6742</td>\n",
              "      <td>6751</td>\n",
              "      <td>6759</td>\n",
              "      <td>6767</td>\n",
              "      <td>6773</td>\n",
              "      <td>6780</td>\n",
              "      <td>6787</td>\n",
              "    </tr>\n",
              "    <tr>\n",
              "      <th>274</th>\n",
              "      <td>NaN</td>\n",
              "      <td>Zambia</td>\n",
              "      <td>-13.133897</td>\n",
              "      <td>27.849332</td>\n",
              "      <td>0</td>\n",
              "      <td>0</td>\n",
              "      <td>0</td>\n",
              "      <td>0</td>\n",
              "      <td>0</td>\n",
              "      <td>0</td>\n",
              "      <td>0</td>\n",
              "      <td>0</td>\n",
              "      <td>0</td>\n",
              "      <td>0</td>\n",
              "      <td>0</td>\n",
              "      <td>0</td>\n",
              "      <td>0</td>\n",
              "      <td>0</td>\n",
              "      <td>0</td>\n",
              "      <td>0</td>\n",
              "      <td>0</td>\n",
              "      <td>0</td>\n",
              "      <td>0</td>\n",
              "      <td>0</td>\n",
              "      <td>0</td>\n",
              "      <td>0</td>\n",
              "      <td>0</td>\n",
              "      <td>0</td>\n",
              "      <td>0</td>\n",
              "      <td>0</td>\n",
              "      <td>0</td>\n",
              "      <td>0</td>\n",
              "      <td>0</td>\n",
              "      <td>0</td>\n",
              "      <td>0</td>\n",
              "      <td>0</td>\n",
              "      <td>0</td>\n",
              "      <td>0</td>\n",
              "      <td>0</td>\n",
              "      <td>0</td>\n",
              "      <td>...</td>\n",
              "      <td>91484</td>\n",
              "      <td>91533</td>\n",
              "      <td>91586</td>\n",
              "      <td>91670</td>\n",
              "      <td>91693</td>\n",
              "      <td>91722</td>\n",
              "      <td>91804</td>\n",
              "      <td>91849</td>\n",
              "      <td>91946</td>\n",
              "      <td>92004</td>\n",
              "      <td>92057</td>\n",
              "      <td>92092</td>\n",
              "      <td>92112</td>\n",
              "      <td>92152</td>\n",
              "      <td>92211</td>\n",
              "      <td>92262</td>\n",
              "      <td>92356</td>\n",
              "      <td>92409</td>\n",
              "      <td>92436</td>\n",
              "      <td>92460</td>\n",
              "      <td>92520</td>\n",
              "      <td>92630</td>\n",
              "      <td>92754</td>\n",
              "      <td>92920</td>\n",
              "      <td>93106</td>\n",
              "      <td>93201</td>\n",
              "      <td>93279</td>\n",
              "      <td>93428</td>\n",
              "      <td>93627</td>\n",
              "      <td>93947</td>\n",
              "      <td>94430</td>\n",
              "      <td>94751</td>\n",
              "      <td>95050</td>\n",
              "      <td>95263</td>\n",
              "      <td>95821</td>\n",
              "      <td>96563</td>\n",
              "      <td>97388</td>\n",
              "      <td>98376</td>\n",
              "      <td>99540</td>\n",
              "      <td>100278</td>\n",
              "    </tr>\n",
              "    <tr>\n",
              "      <th>275</th>\n",
              "      <td>NaN</td>\n",
              "      <td>Zimbabwe</td>\n",
              "      <td>-19.015438</td>\n",
              "      <td>29.154857</td>\n",
              "      <td>0</td>\n",
              "      <td>0</td>\n",
              "      <td>0</td>\n",
              "      <td>0</td>\n",
              "      <td>0</td>\n",
              "      <td>0</td>\n",
              "      <td>0</td>\n",
              "      <td>0</td>\n",
              "      <td>0</td>\n",
              "      <td>0</td>\n",
              "      <td>0</td>\n",
              "      <td>0</td>\n",
              "      <td>0</td>\n",
              "      <td>0</td>\n",
              "      <td>0</td>\n",
              "      <td>0</td>\n",
              "      <td>0</td>\n",
              "      <td>0</td>\n",
              "      <td>0</td>\n",
              "      <td>0</td>\n",
              "      <td>0</td>\n",
              "      <td>0</td>\n",
              "      <td>0</td>\n",
              "      <td>0</td>\n",
              "      <td>0</td>\n",
              "      <td>0</td>\n",
              "      <td>0</td>\n",
              "      <td>0</td>\n",
              "      <td>0</td>\n",
              "      <td>0</td>\n",
              "      <td>0</td>\n",
              "      <td>0</td>\n",
              "      <td>0</td>\n",
              "      <td>0</td>\n",
              "      <td>0</td>\n",
              "      <td>0</td>\n",
              "      <td>...</td>\n",
              "      <td>38191</td>\n",
              "      <td>38235</td>\n",
              "      <td>38257</td>\n",
              "      <td>38260</td>\n",
              "      <td>38281</td>\n",
              "      <td>38293</td>\n",
              "      <td>38327</td>\n",
              "      <td>38357</td>\n",
              "      <td>38398</td>\n",
              "      <td>38403</td>\n",
              "      <td>38414</td>\n",
              "      <td>38419</td>\n",
              "      <td>38433</td>\n",
              "      <td>38448</td>\n",
              "      <td>38466</td>\n",
              "      <td>38491</td>\n",
              "      <td>38535</td>\n",
              "      <td>38554</td>\n",
              "      <td>38560</td>\n",
              "      <td>38572</td>\n",
              "      <td>38595</td>\n",
              "      <td>38612</td>\n",
              "      <td>38635</td>\n",
              "      <td>38664</td>\n",
              "      <td>38679</td>\n",
              "      <td>38682</td>\n",
              "      <td>38696</td>\n",
              "      <td>38706</td>\n",
              "      <td>38819</td>\n",
              "      <td>38854</td>\n",
              "      <td>38918</td>\n",
              "      <td>38933</td>\n",
              "      <td>38944</td>\n",
              "      <td>38961</td>\n",
              "      <td>38998</td>\n",
              "      <td>39031</td>\n",
              "      <td>39092</td>\n",
              "      <td>39144</td>\n",
              "      <td>39168</td>\n",
              "      <td>39189</td>\n",
              "    </tr>\n",
              "  </tbody>\n",
              "</table>\n",
              "<p>276 rows × 506 columns</p>\n",
              "</div>"
            ],
            "text/plain": [
              "    Province/State      Country/Region        Lat  ...  6/4/21  6/5/21  6/6/21\n",
              "0              NaN         Afghanistan  33.939110  ...   76628   77963   79224\n",
              "1              NaN             Albania  41.153300  ...  132372  132374  132379\n",
              "2              NaN             Algeria  28.033900  ...  130361  130681  130958\n",
              "3              NaN             Andorra  42.506300  ...   13758   13758   13758\n",
              "4              NaN              Angola -11.202700  ...   35307   35594   35772\n",
              "..             ...                 ...        ...  ...     ...     ...     ...\n",
              "271            NaN             Vietnam  14.058324  ...    8364    8580    8791\n",
              "272            NaN  West Bank and Gaza  31.952200  ...  309644  309853  310026\n",
              "273            NaN               Yemen  15.552727  ...    6773    6780    6787\n",
              "274            NaN              Zambia -13.133897  ...   98376   99540  100278\n",
              "275            NaN            Zimbabwe -19.015438  ...   39144   39168   39189\n",
              "\n",
              "[276 rows x 506 columns]"
            ]
          },
          "metadata": {
            "tags": []
          },
          "execution_count": 6
        }
      ]
    },
    {
      "cell_type": "markdown",
      "metadata": {
        "id": "d3d6cc7f"
      },
      "source": [
        "### merging dataframes"
      ],
      "id": "d3d6cc7f"
    },
    {
      "cell_type": "code",
      "metadata": {
        "id": "fdfa6863",
        "colab": {
          "base_uri": "https://localhost:8080/"
        },
        "outputId": "3af70406-6d0f-4d16-fd2d-01e591bb78e3"
      },
      "source": [
        "# extract dates\n",
        "dates = confirmed_cases.columns[4:]\n",
        "\n",
        "confirmed_df = confirmed_cases.melt(id_vars=['Province/State', 'Country/Region','Lat', 'Long'], \n",
        "                            value_vars=dates, var_name='Date', value_name='Confirmed')\n",
        "\n",
        "\n",
        "print(confirmed_df.shape)"
      ],
      "id": "fdfa6863",
      "execution_count": null,
      "outputs": [
        {
          "output_type": "stream",
          "text": [
            "(138552, 6)\n"
          ],
          "name": "stdout"
        }
      ]
    },
    {
      "cell_type": "code",
      "metadata": {
        "id": "d2844323",
        "colab": {
          "base_uri": "https://localhost:8080/",
          "height": 195
        },
        "outputId": "0fb70099-33f6-490f-d092-567aed325a37"
      },
      "source": [
        "confirmed_df.head()"
      ],
      "id": "d2844323",
      "execution_count": null,
      "outputs": [
        {
          "output_type": "execute_result",
          "data": {
            "text/html": [
              "<div>\n",
              "<style scoped>\n",
              "    .dataframe tbody tr th:only-of-type {\n",
              "        vertical-align: middle;\n",
              "    }\n",
              "\n",
              "    .dataframe tbody tr th {\n",
              "        vertical-align: top;\n",
              "    }\n",
              "\n",
              "    .dataframe thead th {\n",
              "        text-align: right;\n",
              "    }\n",
              "</style>\n",
              "<table border=\"1\" class=\"dataframe\">\n",
              "  <thead>\n",
              "    <tr style=\"text-align: right;\">\n",
              "      <th></th>\n",
              "      <th>Province/State</th>\n",
              "      <th>Country/Region</th>\n",
              "      <th>Lat</th>\n",
              "      <th>Long</th>\n",
              "      <th>Date</th>\n",
              "      <th>Confirmed</th>\n",
              "    </tr>\n",
              "  </thead>\n",
              "  <tbody>\n",
              "    <tr>\n",
              "      <th>0</th>\n",
              "      <td>NaN</td>\n",
              "      <td>Afghanistan</td>\n",
              "      <td>33.93911</td>\n",
              "      <td>67.709953</td>\n",
              "      <td>1/22/20</td>\n",
              "      <td>0</td>\n",
              "    </tr>\n",
              "    <tr>\n",
              "      <th>1</th>\n",
              "      <td>NaN</td>\n",
              "      <td>Albania</td>\n",
              "      <td>41.15330</td>\n",
              "      <td>20.168300</td>\n",
              "      <td>1/22/20</td>\n",
              "      <td>0</td>\n",
              "    </tr>\n",
              "    <tr>\n",
              "      <th>2</th>\n",
              "      <td>NaN</td>\n",
              "      <td>Algeria</td>\n",
              "      <td>28.03390</td>\n",
              "      <td>1.659600</td>\n",
              "      <td>1/22/20</td>\n",
              "      <td>0</td>\n",
              "    </tr>\n",
              "    <tr>\n",
              "      <th>3</th>\n",
              "      <td>NaN</td>\n",
              "      <td>Andorra</td>\n",
              "      <td>42.50630</td>\n",
              "      <td>1.521800</td>\n",
              "      <td>1/22/20</td>\n",
              "      <td>0</td>\n",
              "    </tr>\n",
              "    <tr>\n",
              "      <th>4</th>\n",
              "      <td>NaN</td>\n",
              "      <td>Angola</td>\n",
              "      <td>-11.20270</td>\n",
              "      <td>17.873900</td>\n",
              "      <td>1/22/20</td>\n",
              "      <td>0</td>\n",
              "    </tr>\n",
              "  </tbody>\n",
              "</table>\n",
              "</div>"
            ],
            "text/plain": [
              "  Province/State Country/Region       Lat       Long     Date  Confirmed\n",
              "0            NaN    Afghanistan  33.93911  67.709953  1/22/20          0\n",
              "1            NaN        Albania  41.15330  20.168300  1/22/20          0\n",
              "2            NaN        Algeria  28.03390   1.659600  1/22/20          0\n",
              "3            NaN        Andorra  42.50630   1.521800  1/22/20          0\n",
              "4            NaN         Angola -11.20270  17.873900  1/22/20          0"
            ]
          },
          "metadata": {
            "tags": []
          },
          "execution_count": 8
        }
      ]
    },
    {
      "cell_type": "code",
      "metadata": {
        "id": "7ebfc2b0",
        "colab": {
          "base_uri": "https://localhost:8080/"
        },
        "outputId": "92ffa8dc-0f54-4957-ce72-d16f0de430fb"
      },
      "source": [
        "confirmed_df.isnull().sum()"
      ],
      "id": "7ebfc2b0",
      "execution_count": null,
      "outputs": [
        {
          "output_type": "execute_result",
          "data": {
            "text/plain": [
              "Province/State    95380\n",
              "Country/Region        0\n",
              "Lat                1004\n",
              "Long               1004\n",
              "Date                  0\n",
              "Confirmed             0\n",
              "dtype: int64"
            ]
          },
          "metadata": {
            "tags": []
          },
          "execution_count": 9
        }
      ]
    },
    {
      "cell_type": "code",
      "metadata": {
        "id": "5ae80ee9"
      },
      "source": [
        "confirmed_df.drop(['Lat', 'Long'],axis=1,inplace=True)"
      ],
      "id": "5ae80ee9",
      "execution_count": null,
      "outputs": []
    },
    {
      "cell_type": "code",
      "metadata": {
        "id": "b21419f2"
      },
      "source": [
        "confirmed_df['Date'] = pd.to_datetime(confirmed_df['Date'])"
      ],
      "id": "b21419f2",
      "execution_count": null,
      "outputs": []
    },
    {
      "cell_type": "code",
      "metadata": {
        "id": "76c7e04d"
      },
      "source": [
        "confirmed = confirmed_df.groupby('Date').sum()['Confirmed'].reset_index()"
      ],
      "id": "76c7e04d",
      "execution_count": null,
      "outputs": []
    },
    {
      "cell_type": "code",
      "metadata": {
        "id": "d93b59fc",
        "colab": {
          "base_uri": "https://localhost:8080/",
          "height": 402
        },
        "outputId": "c76c74d1-1425-47a8-8bf1-d71becf363f0"
      },
      "source": [
        "confirmed"
      ],
      "id": "d93b59fc",
      "execution_count": null,
      "outputs": [
        {
          "output_type": "execute_result",
          "data": {
            "text/html": [
              "<div>\n",
              "<style scoped>\n",
              "    .dataframe tbody tr th:only-of-type {\n",
              "        vertical-align: middle;\n",
              "    }\n",
              "\n",
              "    .dataframe tbody tr th {\n",
              "        vertical-align: top;\n",
              "    }\n",
              "\n",
              "    .dataframe thead th {\n",
              "        text-align: right;\n",
              "    }\n",
              "</style>\n",
              "<table border=\"1\" class=\"dataframe\">\n",
              "  <thead>\n",
              "    <tr style=\"text-align: right;\">\n",
              "      <th></th>\n",
              "      <th>Date</th>\n",
              "      <th>Confirmed</th>\n",
              "    </tr>\n",
              "  </thead>\n",
              "  <tbody>\n",
              "    <tr>\n",
              "      <th>0</th>\n",
              "      <td>2020-01-22</td>\n",
              "      <td>557</td>\n",
              "    </tr>\n",
              "    <tr>\n",
              "      <th>1</th>\n",
              "      <td>2020-01-23</td>\n",
              "      <td>655</td>\n",
              "    </tr>\n",
              "    <tr>\n",
              "      <th>2</th>\n",
              "      <td>2020-01-24</td>\n",
              "      <td>941</td>\n",
              "    </tr>\n",
              "    <tr>\n",
              "      <th>3</th>\n",
              "      <td>2020-01-25</td>\n",
              "      <td>1433</td>\n",
              "    </tr>\n",
              "    <tr>\n",
              "      <th>4</th>\n",
              "      <td>2020-01-26</td>\n",
              "      <td>2118</td>\n",
              "    </tr>\n",
              "    <tr>\n",
              "      <th>...</th>\n",
              "      <td>...</td>\n",
              "      <td>...</td>\n",
              "    </tr>\n",
              "    <tr>\n",
              "      <th>497</th>\n",
              "      <td>2021-06-02</td>\n",
              "      <td>171680812</td>\n",
              "    </tr>\n",
              "    <tr>\n",
              "      <th>498</th>\n",
              "      <td>2021-06-03</td>\n",
              "      <td>172169929</td>\n",
              "    </tr>\n",
              "    <tr>\n",
              "      <th>499</th>\n",
              "      <td>2021-06-04</td>\n",
              "      <td>172589646</td>\n",
              "    </tr>\n",
              "    <tr>\n",
              "      <th>500</th>\n",
              "      <td>2021-06-05</td>\n",
              "      <td>172987591</td>\n",
              "    </tr>\n",
              "    <tr>\n",
              "      <th>501</th>\n",
              "      <td>2021-06-06</td>\n",
              "      <td>173209947</td>\n",
              "    </tr>\n",
              "  </tbody>\n",
              "</table>\n",
              "<p>502 rows × 2 columns</p>\n",
              "</div>"
            ],
            "text/plain": [
              "          Date  Confirmed\n",
              "0   2020-01-22        557\n",
              "1   2020-01-23        655\n",
              "2   2020-01-24        941\n",
              "3   2020-01-25       1433\n",
              "4   2020-01-26       2118\n",
              "..         ...        ...\n",
              "497 2021-06-02  171680812\n",
              "498 2021-06-03  172169929\n",
              "499 2021-06-04  172589646\n",
              "500 2021-06-05  172987591\n",
              "501 2021-06-06  173209947\n",
              "\n",
              "[502 rows x 2 columns]"
            ]
          },
          "metadata": {
            "tags": []
          },
          "execution_count": 14
        }
      ]
    },
    {
      "cell_type": "code",
      "metadata": {
        "id": "HRfYGsNnOz48"
      },
      "source": [
        "confirmed.set_index('Date',inplace=True)"
      ],
      "id": "HRfYGsNnOz48",
      "execution_count": null,
      "outputs": []
    },
    {
      "cell_type": "code",
      "metadata": {
        "colab": {
          "base_uri": "https://localhost:8080/",
          "height": 431
        },
        "id": "nurGYTD1PHtc",
        "outputId": "6148fa38-3d3f-4516-f950-3fad8f23486e"
      },
      "source": [
        "confirmed"
      ],
      "id": "nurGYTD1PHtc",
      "execution_count": null,
      "outputs": [
        {
          "output_type": "execute_result",
          "data": {
            "text/html": [
              "<div>\n",
              "<style scoped>\n",
              "    .dataframe tbody tr th:only-of-type {\n",
              "        vertical-align: middle;\n",
              "    }\n",
              "\n",
              "    .dataframe tbody tr th {\n",
              "        vertical-align: top;\n",
              "    }\n",
              "\n",
              "    .dataframe thead th {\n",
              "        text-align: right;\n",
              "    }\n",
              "</style>\n",
              "<table border=\"1\" class=\"dataframe\">\n",
              "  <thead>\n",
              "    <tr style=\"text-align: right;\">\n",
              "      <th></th>\n",
              "      <th>Confirmed</th>\n",
              "    </tr>\n",
              "    <tr>\n",
              "      <th>Date</th>\n",
              "      <th></th>\n",
              "    </tr>\n",
              "  </thead>\n",
              "  <tbody>\n",
              "    <tr>\n",
              "      <th>2020-01-22</th>\n",
              "      <td>557</td>\n",
              "    </tr>\n",
              "    <tr>\n",
              "      <th>2020-01-23</th>\n",
              "      <td>655</td>\n",
              "    </tr>\n",
              "    <tr>\n",
              "      <th>2020-01-24</th>\n",
              "      <td>941</td>\n",
              "    </tr>\n",
              "    <tr>\n",
              "      <th>2020-01-25</th>\n",
              "      <td>1433</td>\n",
              "    </tr>\n",
              "    <tr>\n",
              "      <th>2020-01-26</th>\n",
              "      <td>2118</td>\n",
              "    </tr>\n",
              "    <tr>\n",
              "      <th>...</th>\n",
              "      <td>...</td>\n",
              "    </tr>\n",
              "    <tr>\n",
              "      <th>2021-06-02</th>\n",
              "      <td>171680812</td>\n",
              "    </tr>\n",
              "    <tr>\n",
              "      <th>2021-06-03</th>\n",
              "      <td>172169929</td>\n",
              "    </tr>\n",
              "    <tr>\n",
              "      <th>2021-06-04</th>\n",
              "      <td>172589646</td>\n",
              "    </tr>\n",
              "    <tr>\n",
              "      <th>2021-06-05</th>\n",
              "      <td>172987591</td>\n",
              "    </tr>\n",
              "    <tr>\n",
              "      <th>2021-06-06</th>\n",
              "      <td>173209947</td>\n",
              "    </tr>\n",
              "  </tbody>\n",
              "</table>\n",
              "<p>502 rows × 1 columns</p>\n",
              "</div>"
            ],
            "text/plain": [
              "            Confirmed\n",
              "Date                 \n",
              "2020-01-22        557\n",
              "2020-01-23        655\n",
              "2020-01-24        941\n",
              "2020-01-25       1433\n",
              "2020-01-26       2118\n",
              "...               ...\n",
              "2021-06-02  171680812\n",
              "2021-06-03  172169929\n",
              "2021-06-04  172589646\n",
              "2021-06-05  172987591\n",
              "2021-06-06  173209947\n",
              "\n",
              "[502 rows x 1 columns]"
            ]
          },
          "metadata": {
            "tags": []
          },
          "execution_count": 16
        }
      ]
    },
    {
      "cell_type": "code",
      "metadata": {
        "id": "7YfPyjhnURSK",
        "colab": {
          "base_uri": "https://localhost:8080/",
          "height": 645
        },
        "outputId": "1525feff-a5e7-428a-91ab-cf573680d959"
      },
      "source": [
        "confirmed.plot()"
      ],
      "id": "7YfPyjhnURSK",
      "execution_count": null,
      "outputs": [
        {
          "output_type": "execute_result",
          "data": {
            "text/plain": [
              "<matplotlib.axes._subplots.AxesSubplot at 0x7fd37846ad10>"
            ]
          },
          "metadata": {
            "tags": []
          },
          "execution_count": 17
        },
        {
          "output_type": "display_data",
          "data": {
            "image/png": "[encoded data removed]",
            "text/plain": [
              "<Figure size 576x720 with 1 Axes>"
            ]
          },
          "metadata": {
            "tags": [],
            "needs_background": "light"
          }
        }
      ]
    },
    {
      "cell_type": "code",
      "metadata": {
        "id": "PheSupwEPpIg"
      },
      "source": [
        "### Testing For Stationarity\n",
        "\n",
        "from statsmodels.tsa.stattools import adfuller"
      ],
      "id": "PheSupwEPpIg",
      "execution_count": null,
      "outputs": []
    },
    {
      "cell_type": "code",
      "metadata": {
        "id": "UgI7zSeMPpOM"
      },
      "source": [
        "test_result=adfuller(confirmed['Confirmed'])"
      ],
      "id": "UgI7zSeMPpOM",
      "execution_count": null,
      "outputs": []
    },
    {
      "cell_type": "code",
      "metadata": {
        "id": "D_gSPWjIQmbg"
      },
      "source": [
        "def adfuller_test(Confirmed):\n",
        "    result=adfuller(Confirmed)\n",
        "    labels = ['ADF Test Statistic','p-value','#Lags Used','Number of Observations Used']\n",
        "    for value,label in zip(result,labels):\n",
        "        print(label+' : '+str(value) )\n",
        "    if result[1] <= 0.05:\n",
        "        print(\"strong evidence against the null hypothesis(Ho), reject the null hypothesis. Data has no unit root and is stationary\")\n",
        "    else:\n",
        "        print(\"weak evidence against null hypothesis, time series has a unit root, indicating it is non-stationary \")"
      ],
      "id": "D_gSPWjIQmbg",
      "execution_count": null,
      "outputs": []
    },
    {
      "cell_type": "code",
      "metadata": {
        "colab": {
          "base_uri": "https://localhost:8080/"
        },
        "id": "GyO1rA1pQmiE",
        "outputId": "c5273afb-aa30-4dd8-b9de-53453593166f"
      },
      "source": [
        "adfuller_test(confirmed['Confirmed'])"
      ],
      "id": "GyO1rA1pQmiE",
      "execution_count": null,
      "outputs": [
        {
          "output_type": "stream",
          "text": [
            "ADF Test Statistic : 0.02026333776247091\n",
            "p-value : 0.9601761117089871\n",
            "#Lags Used : 15\n",
            "Number of Observations Used : 486\n",
            "weak evidence against null hypothesis, time series has a unit root, indicating it is non-stationary \n"
          ],
          "name": "stdout"
        }
      ]
    },
    {
      "cell_type": "code",
      "metadata": {
        "id": "UJRmWyZBjRjh"
      },
      "source": [
        "# Calculate the log \n",
        "confirmed['adj_log'] = np.log(confirmed['Confirmed'])"
      ],
      "id": "UJRmWyZBjRjh",
      "execution_count": null,
      "outputs": []
    },
    {
      "cell_type": "code",
      "metadata": {
        "id": "1Nuy7paZQm0G"
      },
      "source": [
        "confirmed['confirmed_log_diff'] = confirmed['adj_log']  - confirmed['adj_log'] .shift(1)"
      ],
      "id": "1Nuy7paZQm0G",
      "execution_count": null,
      "outputs": []
    },
    {
      "cell_type": "code",
      "metadata": {
        "colab": {
          "base_uri": "https://localhost:8080/"
        },
        "id": "n78BGsDFjRnV",
        "outputId": "f04d639c-f97f-468c-8fb5-66eafea0c1a4"
      },
      "source": [
        "adfuller_test(confirmed['confirmed_log_diff'].dropna())"
      ],
      "id": "n78BGsDFjRnV",
      "execution_count": null,
      "outputs": [
        {
          "output_type": "stream",
          "text": [
            "ADF Test Statistic : -2.98675454427855\n",
            "p-value : 0.036150010944704936\n",
            "#Lags Used : 17\n",
            "Number of Observations Used : 483\n",
            "strong evidence against the null hypothesis(Ho), reject the null hypothesis. Data has no unit root and is stationary\n"
          ],
          "name": "stdout"
        }
      ]
    },
    {
      "cell_type": "code",
      "metadata": {
        "id": "QdOqs7EolXFZ"
      },
      "source": [
        "from pmdarima import auto_arima"
      ],
      "id": "QdOqs7EolXFZ",
      "execution_count": null,
      "outputs": []
    },
    {
      "cell_type": "code",
      "metadata": {
        "colab": {
          "base_uri": "https://localhost:8080/",
          "height": 842
        },
        "id": "rnOSKZ5Co1mL",
        "outputId": "5b3801ad-c4c3-4245-c8dc-318d5aaf0700"
      },
      "source": [
        "stepwise_fit = auto_arima(confirmed['Confirmed'],trace= True, suppress_warnings= True)\n",
        "stepwise_fit.summary()"
      ],
      "id": "rnOSKZ5Co1mL",
      "execution_count": null,
      "outputs": [
        {
          "output_type": "stream",
          "text": [
            "Performing stepwise search to minimize aic\n",
            " ARIMA(2,2,2)(0,0,0)[0]             : AIC=12466.386, Time=0.92 sec\n",
            " ARIMA(0,2,0)(0,0,0)[0]             : AIC=12675.502, Time=0.04 sec\n",
            " ARIMA(1,2,0)(0,0,0)[0]             : AIC=12661.549, Time=0.05 sec\n",
            " ARIMA(0,2,1)(0,0,0)[0]             : AIC=12645.546, Time=0.07 sec\n",
            " ARIMA(1,2,2)(0,0,0)[0]             : AIC=12590.546, Time=0.21 sec\n",
            " ARIMA(2,2,1)(0,0,0)[0]             : AIC=12579.015, Time=0.24 sec\n",
            " ARIMA(3,2,2)(0,0,0)[0]             : AIC=12411.232, Time=1.09 sec\n",
            " ARIMA(3,2,1)(0,0,0)[0]             : AIC=12531.768, Time=0.26 sec\n",
            " ARIMA(4,2,2)(0,0,0)[0]             : AIC=12383.181, Time=1.27 sec\n",
            " ARIMA(4,2,1)(0,0,0)[0]             : AIC=12485.929, Time=0.28 sec\n",
            " ARIMA(5,2,2)(0,0,0)[0]             : AIC=12374.785, Time=1.74 sec\n",
            " ARIMA(5,2,1)(0,0,0)[0]             : AIC=12449.639, Time=0.51 sec\n",
            " ARIMA(5,2,3)(0,0,0)[0]             : AIC=12383.437, Time=2.10 sec\n",
            " ARIMA(4,2,3)(0,0,0)[0]             : AIC=12410.423, Time=1.68 sec\n",
            " ARIMA(5,2,2)(0,0,0)[0] intercept   : AIC=12377.315, Time=2.00 sec\n",
            "\n",
            "Best model:  ARIMA(5,2,2)(0,0,0)[0]          \n",
            "Total fit time: 12.481 seconds\n"
          ],
          "name": "stdout"
        },
        {
          "output_type": "execute_result",
          "data": {
            "text/html": [
              "<table class=\"simpletable\">\n",
              "<caption>SARIMAX Results</caption>\n",
              "<tr>\n",
              "  <th>Dep. Variable:</th>           <td>y</td>        <th>  No. Observations:  </th>    <td>502</td>   \n",
              "</tr>\n",
              "<tr>\n",
              "  <th>Model:</th>           <td>SARIMAX(5, 2, 2)</td> <th>  Log Likelihood     </th> <td>-6179.393</td>\n",
              "</tr>\n",
              "<tr>\n",
              "  <th>Date:</th>            <td>Wed, 23 Jun 2021</td> <th>  AIC                </th> <td>12374.785</td>\n",
              "</tr>\n",
              "<tr>\n",
              "  <th>Time:</th>                <td>16:16:36</td>     <th>  BIC                </th> <td>12408.502</td>\n",
              "</tr>\n",
              "<tr>\n",
              "  <th>Sample:</th>                  <td>0</td>        <th>  HQIC               </th> <td>12388.016</td>\n",
              "</tr>\n",
              "<tr>\n",
              "  <th></th>                      <td> - 502</td>      <th>                     </th>     <td> </td>    \n",
              "</tr>\n",
              "<tr>\n",
              "  <th>Covariance Type:</th>        <td>opg</td>       <th>                     </th>     <td> </td>    \n",
              "</tr>\n",
              "</table>\n",
              "<table class=\"simpletable\">\n",
              "<tr>\n",
              "     <td></td>       <th>coef</th>     <th>std err</th>      <th>z</th>      <th>P>|z|</th>  <th>[0.025</th>    <th>0.975]</th>  \n",
              "</tr>\n",
              "<tr>\n",
              "  <th>ar.L1</th>  <td>    0.5329</td> <td>    0.046</td> <td>   11.692</td> <td> 0.000</td> <td>    0.444</td> <td>    0.622</td>\n",
              "</tr>\n",
              "<tr>\n",
              "  <th>ar.L2</th>  <td>   -0.5319</td> <td>    0.031</td> <td>  -17.232</td> <td> 0.000</td> <td>   -0.592</td> <td>   -0.471</td>\n",
              "</tr>\n",
              "<tr>\n",
              "  <th>ar.L3</th>  <td>   -0.3581</td> <td>    0.029</td> <td>  -12.498</td> <td> 0.000</td> <td>   -0.414</td> <td>   -0.302</td>\n",
              "</tr>\n",
              "<tr>\n",
              "  <th>ar.L4</th>  <td>   -0.1984</td> <td>    0.032</td> <td>   -6.245</td> <td> 0.000</td> <td>   -0.261</td> <td>   -0.136</td>\n",
              "</tr>\n",
              "<tr>\n",
              "  <th>ar.L5</th>  <td>   -0.1719</td> <td>    0.050</td> <td>   -3.445</td> <td> 0.001</td> <td>   -0.270</td> <td>   -0.074</td>\n",
              "</tr>\n",
              "<tr>\n",
              "  <th>ma.L1</th>  <td>   -1.1851</td> <td>    0.040</td> <td>  -29.356</td> <td> 0.000</td> <td>   -1.264</td> <td>   -1.106</td>\n",
              "</tr>\n",
              "<tr>\n",
              "  <th>ma.L2</th>  <td>    0.8616</td> <td>    0.027</td> <td>   32.408</td> <td> 0.000</td> <td>    0.809</td> <td>    0.914</td>\n",
              "</tr>\n",
              "<tr>\n",
              "  <th>sigma2</th> <td>  3.61e+09</td> <td> 2.76e-11</td> <td> 1.31e+20</td> <td> 0.000</td> <td> 3.61e+09</td> <td> 3.61e+09</td>\n",
              "</tr>\n",
              "</table>\n",
              "<table class=\"simpletable\">\n",
              "<tr>\n",
              "  <th>Ljung-Box (L1) (Q):</th>     <td>0.01</td>  <th>  Jarque-Bera (JB):  </th> <td>169023.62</td>\n",
              "</tr>\n",
              "<tr>\n",
              "  <th>Prob(Q):</th>                <td>0.90</td>  <th>  Prob(JB):          </th>   <td>0.00</td>   \n",
              "</tr>\n",
              "<tr>\n",
              "  <th>Heteroskedasticity (H):</th> <td>44.01</td> <th>  Skew:              </th>   <td>4.45</td>   \n",
              "</tr>\n",
              "<tr>\n",
              "  <th>Prob(H) (two-sided):</th>    <td>0.00</td>  <th>  Kurtosis:          </th>   <td>92.63</td>  \n",
              "</tr>\n",
              "</table><br/><br/>Warnings:<br/>[1] Covariance matrix calculated using the outer product of gradients (complex-step).<br/>[2] Covariance matrix is singular or near-singular, with condition number 1.11e+36. Standard errors may be unstable."
            ],
            "text/plain": [
              "<class 'statsmodels.iolib.summary.Summary'>\n",
              "\"\"\"\n",
              "                               SARIMAX Results                                \n",
              "==============================================================================\n",
              "Dep. Variable:                      y   No. Observations:                  502\n",
              "Model:               SARIMAX(5, 2, 2)   Log Likelihood               -6179.393\n",
              "Date:                Wed, 23 Jun 2021   AIC                          12374.785\n",
              "Time:                        16:16:36   BIC                          12408.502\n",
              "Sample:                             0   HQIC                         12388.016\n",
              "                                - 502                                         \n",
              "Covariance Type:                  opg                                         \n",
              "==============================================================================\n",
              "                 coef    std err          z      P>|z|      [0.025      0.975]\n",
              "------------------------------------------------------------------------------\n",
              "ar.L1          0.5329      0.046     11.692      0.000       0.444       0.622\n",
              "ar.L2         -0.5319      0.031    -17.232      0.000      -0.592      -0.471\n",
              "ar.L3         -0.3581      0.029    -12.498      0.000      -0.414      -0.302\n",
              "ar.L4         -0.1984      0.032     -6.245      0.000      -0.261      -0.136\n",
              "ar.L5         -0.1719      0.050     -3.445      0.001      -0.270      -0.074\n",
              "ma.L1         -1.1851      0.040    -29.356      0.000      -1.264      -1.106\n",
              "ma.L2          0.8616      0.027     32.408      0.000       0.809       0.914\n",
              "sigma2       3.61e+09   2.76e-11   1.31e+20      0.000    3.61e+09    3.61e+09\n",
              "===================================================================================\n",
              "Ljung-Box (L1) (Q):                   0.01   Jarque-Bera (JB):            169023.62\n",
              "Prob(Q):                              0.90   Prob(JB):                         0.00\n",
              "Heteroskedasticity (H):              44.01   Skew:                             4.45\n",
              "Prob(H) (two-sided):                  0.00   Kurtosis:                        92.63\n",
              "===================================================================================\n",
              "\n",
              "Warnings:\n",
              "[1] Covariance matrix calculated using the outer product of gradients (complex-step).\n",
              "[2] Covariance matrix is singular or near-singular, with condition number 1.11e+36. Standard errors may be unstable.\n",
              "\"\"\""
            ]
          },
          "metadata": {
            "tags": []
          },
          "execution_count": 59
        }
      ]
    },
    {
      "cell_type": "code",
      "metadata": {
        "id": "aUbmUdIto1pK"
      },
      "source": [
        "from statsmodels.tsa.arima_model import ARIMA"
      ],
      "id": "aUbmUdIto1pK",
      "execution_count": null,
      "outputs": []
    },
    {
      "cell_type": "markdown",
      "metadata": {
        "id": "_kuhRz5dreMg"
      },
      "source": [
        "split data into train and test set"
      ],
      "id": "_kuhRz5dreMg"
    },
    {
      "cell_type": "code",
      "metadata": {
        "colab": {
          "base_uri": "https://localhost:8080/"
        },
        "id": "oIvdaqC9o1sz",
        "outputId": "8c6d31b7-995b-457e-d208-37dc6a6fc724"
      },
      "source": [
        "print(confirmed.shape)"
      ],
      "id": "oIvdaqC9o1sz",
      "execution_count": null,
      "outputs": [
        {
          "output_type": "stream",
          "text": [
            "(502, 6)\n"
          ],
          "name": "stdout"
        }
      ]
    },
    {
      "cell_type": "code",
      "metadata": {
        "id": "n3o4esczry_J"
      },
      "source": [
        "train = confirmed.iloc[:-30]\n",
        "test = confirmed.iloc[-30:]"
      ],
      "id": "n3o4esczry_J",
      "execution_count": null,
      "outputs": []
    },
    {
      "cell_type": "code",
      "metadata": {
        "colab": {
          "base_uri": "https://localhost:8080/"
        },
        "id": "tJhuywGtrzEr",
        "outputId": "58082cb0-27db-4856-a7f5-d2443fe89288"
      },
      "source": [
        "print(train.shape,test.shape)"
      ],
      "id": "tJhuywGtrzEr",
      "execution_count": null,
      "outputs": [
        {
          "output_type": "stream",
          "text": [
            "(472, 6) (30, 6)\n"
          ],
          "name": "stdout"
        }
      ]
    },
    {
      "cell_type": "markdown",
      "metadata": {
        "id": "mDtpyAi5sebm"
      },
      "source": [
        "train the model"
      ],
      "id": "mDtpyAi5sebm"
    },
    {
      "cell_type": "code",
      "metadata": {
        "colab": {
          "base_uri": "https://localhost:8080/",
          "height": 602
        },
        "id": "mECViYfTrzJJ",
        "outputId": "07ddd401-9a83-4b08-a887-96cd41d28400"
      },
      "source": [
        "model = ARIMA(train['Confirmed'],order=(5,2,2))\n",
        "model = model.fit()\n",
        "model.summary()"
      ],
      "id": "mECViYfTrzJJ",
      "execution_count": null,
      "outputs": [
        {
          "output_type": "stream",
          "text": [
            "/usr/local/lib/python3.7/dist-packages/statsmodels/tsa/base/tsa_model.py:527: ValueWarning: No frequency information was provided, so inferred frequency D will be used.\n",
            "  % freq, ValueWarning)\n",
            "/usr/local/lib/python3.7/dist-packages/statsmodels/tsa/base/tsa_model.py:527: ValueWarning: No frequency information was provided, so inferred frequency D will be used.\n",
            "  % freq, ValueWarning)\n"
          ],
          "name": "stderr"
        },
        {
          "output_type": "execute_result",
          "data": {
            "text/html": [
              "<table class=\"simpletable\">\n",
              "<caption>ARIMA Model Results</caption>\n",
              "<tr>\n",
              "  <th>Dep. Variable:</th>   <td>D2.Confirmed</td>   <th>  No. Observations:  </th>    <td>470</td>   \n",
              "</tr>\n",
              "<tr>\n",
              "  <th>Model:</th>          <td>ARIMA(5, 2, 2)</td>  <th>  Log Likelihood     </th> <td>-5774.404</td>\n",
              "</tr>\n",
              "<tr>\n",
              "  <th>Method:</th>             <td>css-mle</td>     <th>  S.D. of innovations</th> <td>52173.039</td>\n",
              "</tr>\n",
              "<tr>\n",
              "  <th>Date:</th>          <td>Wed, 23 Jun 2021</td> <th>  AIC                </th> <td>11566.808</td>\n",
              "</tr>\n",
              "<tr>\n",
              "  <th>Time:</th>              <td>16:31:14</td>     <th>  BIC                </th> <td>11604.183</td>\n",
              "</tr>\n",
              "<tr>\n",
              "  <th>Sample:</th>           <td>01-24-2020</td>    <th>  HQIC               </th> <td>11581.512</td>\n",
              "</tr>\n",
              "<tr>\n",
              "  <th></th>                 <td>- 05-07-2021</td>   <th>                     </th>     <td> </td>    \n",
              "</tr>\n",
              "</table>\n",
              "<table class=\"simpletable\">\n",
              "<tr>\n",
              "           <td></td>             <th>coef</th>     <th>std err</th>      <th>z</th>      <th>P>|z|</th>  <th>[0.025</th>    <th>0.975]</th>  \n",
              "</tr>\n",
              "<tr>\n",
              "  <th>const</th>              <td> 1770.8672</td> <td>  951.212</td> <td>    1.862</td> <td> 0.063</td> <td>  -93.474</td> <td> 3635.208</td>\n",
              "</tr>\n",
              "<tr>\n",
              "  <th>ar.L1.D2.Confirmed</th> <td>    0.5371</td> <td>    0.061</td> <td>    8.736</td> <td> 0.000</td> <td>    0.417</td> <td>    0.658</td>\n",
              "</tr>\n",
              "<tr>\n",
              "  <th>ar.L2.D2.Confirmed</th> <td>   -0.5079</td> <td>    0.053</td> <td>   -9.644</td> <td> 0.000</td> <td>   -0.611</td> <td>   -0.405</td>\n",
              "</tr>\n",
              "<tr>\n",
              "  <th>ar.L3.D2.Confirmed</th> <td>   -0.3794</td> <td>    0.053</td> <td>   -7.097</td> <td> 0.000</td> <td>   -0.484</td> <td>   -0.275</td>\n",
              "</tr>\n",
              "<tr>\n",
              "  <th>ar.L4.D2.Confirmed</th> <td>   -0.1853</td> <td>    0.054</td> <td>   -3.419</td> <td> 0.001</td> <td>   -0.291</td> <td>   -0.079</td>\n",
              "</tr>\n",
              "<tr>\n",
              "  <th>ar.L5.D2.Confirmed</th> <td>   -0.1608</td> <td>    0.051</td> <td>   -3.135</td> <td> 0.002</td> <td>   -0.261</td> <td>   -0.060</td>\n",
              "</tr>\n",
              "<tr>\n",
              "  <th>ma.L1.D2.Confirmed</th> <td>   -1.1943</td> <td>    0.041</td> <td>  -29.002</td> <td> 0.000</td> <td>   -1.275</td> <td>   -1.114</td>\n",
              "</tr>\n",
              "<tr>\n",
              "  <th>ma.L2.D2.Confirmed</th> <td>    0.8631</td> <td>    0.041</td> <td>   20.866</td> <td> 0.000</td> <td>    0.782</td> <td>    0.944</td>\n",
              "</tr>\n",
              "</table>\n",
              "<table class=\"simpletable\">\n",
              "<caption>Roots</caption>\n",
              "<tr>\n",
              "    <td></td>   <th>            Real</th>  <th>         Imaginary</th> <th>         Modulus</th>  <th>        Frequency</th>\n",
              "</tr>\n",
              "<tr>\n",
              "  <th>AR.1</th> <td>           0.6246</td> <td>          -0.7849j</td> <td>           1.0031</td> <td>          -0.1430</td>\n",
              "</tr>\n",
              "<tr>\n",
              "  <th>AR.2</th> <td>           0.6246</td> <td>          +0.7849j</td> <td>           1.0031</td> <td>           0.1430</td>\n",
              "</tr>\n",
              "<tr>\n",
              "  <th>AR.3</th> <td>          -1.8526</td> <td>          -0.0000j</td> <td>           1.8526</td> <td>          -0.5000</td>\n",
              "</tr>\n",
              "<tr>\n",
              "  <th>AR.4</th> <td>          -0.2746</td> <td>          -1.8060j</td> <td>           1.8267</td> <td>          -0.2740</td>\n",
              "</tr>\n",
              "<tr>\n",
              "  <th>AR.5</th> <td>          -0.2746</td> <td>          +1.8060j</td> <td>           1.8267</td> <td>           0.2740</td>\n",
              "</tr>\n",
              "<tr>\n",
              "  <th>MA.1</th> <td>           0.6918</td> <td>          -0.8246j</td> <td>           1.0764</td> <td>          -0.1389</td>\n",
              "</tr>\n",
              "<tr>\n",
              "  <th>MA.2</th> <td>           0.6918</td> <td>          +0.8246j</td> <td>           1.0764</td> <td>           0.1389</td>\n",
              "</tr>\n",
              "</table>"
            ],
            "text/plain": [
              "<class 'statsmodels.iolib.summary.Summary'>\n",
              "\"\"\"\n",
              "                             ARIMA Model Results                              \n",
              "==============================================================================\n",
              "Dep. Variable:           D2.Confirmed   No. Observations:                  470\n",
              "Model:                 ARIMA(5, 2, 2)   Log Likelihood               -5774.404\n",
              "Method:                       css-mle   S.D. of innovations          52173.039\n",
              "Date:                Wed, 23 Jun 2021   AIC                          11566.808\n",
              "Time:                        16:31:14   BIC                          11604.183\n",
              "Sample:                    01-24-2020   HQIC                         11581.512\n",
              "                         - 05-07-2021                                         \n",
              "======================================================================================\n",
              "                         coef    std err          z      P>|z|      [0.025      0.975]\n",
              "--------------------------------------------------------------------------------------\n",
              "const               1770.8672    951.212      1.862      0.063     -93.474    3635.208\n",
              "ar.L1.D2.Confirmed     0.5371      0.061      8.736      0.000       0.417       0.658\n",
              "ar.L2.D2.Confirmed    -0.5079      0.053     -9.644      0.000      -0.611      -0.405\n",
              "ar.L3.D2.Confirmed    -0.3794      0.053     -7.097      0.000      -0.484      -0.275\n",
              "ar.L4.D2.Confirmed    -0.1853      0.054     -3.419      0.001      -0.291      -0.079\n",
              "ar.L5.D2.Confirmed    -0.1608      0.051     -3.135      0.002      -0.261      -0.060\n",
              "ma.L1.D2.Confirmed    -1.1943      0.041    -29.002      0.000      -1.275      -1.114\n",
              "ma.L2.D2.Confirmed     0.8631      0.041     20.866      0.000       0.782       0.944\n",
              "                                    Roots                                    \n",
              "=============================================================================\n",
              "                  Real          Imaginary           Modulus         Frequency\n",
              "-----------------------------------------------------------------------------\n",
              "AR.1            0.6246           -0.7849j            1.0031           -0.1430\n",
              "AR.2            0.6246           +0.7849j            1.0031            0.1430\n",
              "AR.3           -1.8526           -0.0000j            1.8526           -0.5000\n",
              "AR.4           -0.2746           -1.8060j            1.8267           -0.2740\n",
              "AR.5           -0.2746           +1.8060j            1.8267            0.2740\n",
              "MA.1            0.6918           -0.8246j            1.0764           -0.1389\n",
              "MA.2            0.6918           +0.8246j            1.0764            0.1389\n",
              "-----------------------------------------------------------------------------\n",
              "\"\"\""
            ]
          },
          "metadata": {
            "tags": []
          },
          "execution_count": 65
        }
      ]
    },
    {
      "cell_type": "markdown",
      "metadata": {
        "id": "-Qe_Pj-fuIMP"
      },
      "source": [
        "make predictions on test set"
      ],
      "id": "-Qe_Pj-fuIMP"
    },
    {
      "cell_type": "code",
      "metadata": {
        "colab": {
          "base_uri": "https://localhost:8080/"
        },
        "id": "maeYXEhXlXJU",
        "outputId": "37fe7268-f5c2-4be4-e35b-5a0d687d13d0"
      },
      "source": [
        "start = len(train)\n",
        "end = len(train)+len(test)-1\n",
        "pred = model.predict(start=start,end=end,typ='levels')\n",
        "print(pred)"
      ],
      "id": "maeYXEhXlXJU",
      "execution_count": null,
      "outputs": [
        {
          "output_type": "stream",
          "text": [
            "2021-05-08    1.576595e+08\n",
            "2021-05-09    1.583474e+08\n",
            "2021-05-10    1.590476e+08\n",
            "2021-05-11    1.598229e+08\n",
            "2021-05-12    1.606807e+08\n",
            "2021-05-13    1.615678e+08\n",
            "2021-05-14    1.624113e+08\n",
            "2021-05-15    1.631724e+08\n",
            "2021-05-16    1.638759e+08\n",
            "2021-05-17    1.645911e+08\n",
            "2021-05-18    1.653795e+08\n",
            "2021-05-19    1.662485e+08\n",
            "2021-05-20    1.671460e+08\n",
            "2021-05-21    1.680002e+08\n",
            "2021-05-22    1.687737e+08\n",
            "2021-05-23    1.694913e+08\n",
            "2021-05-24    1.702210e+08\n",
            "2021-05-25    1.710228e+08\n",
            "2021-05-26    1.719031e+08\n",
            "2021-05-27    1.728109e+08\n",
            "2021-05-28    1.736758e+08\n",
            "2021-05-29    1.744618e+08\n",
            "2021-05-30    1.751935e+08\n",
            "2021-05-31    1.759377e+08\n",
            "2021-06-01    1.767527e+08\n",
            "2021-06-02    1.776445e+08\n",
            "2021-06-03    1.785626e+08\n",
            "2021-06-04    1.794383e+08\n",
            "2021-06-05    1.802367e+08\n",
            "2021-06-06    1.809825e+08\n",
            "Freq: D, dtype: float64\n"
          ],
          "name": "stdout"
        }
      ]
    },
    {
      "cell_type": "code",
      "metadata": {
        "colab": {
          "base_uri": "https://localhost:8080/",
          "height": 668
        },
        "id": "ihr_1h-luLbP",
        "outputId": "152bec72-acd2-4855-ac3d-fd69599e8cee"
      },
      "source": [
        "pred.plot(legend=True)\n",
        "test['Confirmed'].plot(legend=True)"
      ],
      "id": "ihr_1h-luLbP",
      "execution_count": null,
      "outputs": [
        {
          "output_type": "execute_result",
          "data": {
            "text/plain": [
              "<matplotlib.axes._subplots.AxesSubplot at 0x7fd355527b50>"
            ]
          },
          "metadata": {
            "tags": []
          },
          "execution_count": 68
        },
        {
          "output_type": "display_data",
          "data": {
            "image/png": "[encoded data removed]",
            "text/plain": [
              "<Figure size 576x720 with 1 Axes>"
            ]
          },
          "metadata": {
            "tags": [],
            "needs_background": "light"
          }
        }
      ]
    },
    {
      "cell_type": "code",
      "metadata": {
        "colab": {
          "base_uri": "https://localhost:8080/"
        },
        "id": "6E3m7zJNwLPZ",
        "outputId": "1b61e67e-29a7-40ee-ca85-82dae3bdc69f"
      },
      "source": [
        "test['Confirmed'].mean()"
      ],
      "id": "6E3m7zJNwLPZ",
      "execution_count": null,
      "outputs": [
        {
          "output_type": "execute_result",
          "data": {
            "text/plain": [
              "166256864.33333334"
            ]
          },
          "metadata": {
            "tags": []
          },
          "execution_count": 70
        }
      ]
    },
    {
      "cell_type": "code",
      "metadata": {
        "colab": {
          "base_uri": "https://localhost:8080/"
        },
        "id": "RbRKYRaEuLiy",
        "outputId": "c560c0b5-0526-4b59-d77d-e7f806a04458"
      },
      "source": [
        "from sklearn.metrics import mean_squared_error\n",
        "from math import sqrt\n",
        "rmse = sqrt(mean_squared_error(pred,test['Confirmed']))\n",
        "print(rmse)"
      ],
      "id": "RbRKYRaEuLiy",
      "execution_count": null,
      "outputs": [
        {
          "output_type": "stream",
          "text": [
            "3777493.0979347066\n"
          ],
          "name": "stdout"
        }
      ]
    },
    {
      "cell_type": "markdown",
      "metadata": {
        "id": "-6PjqytJwcEw"
      },
      "source": [
        "we can see above that mean of the test set is 166256864.33333334 whereas rmse is 3777493.0979347066 , error in compare to mean is acceptable."
      ],
      "id": "-6PjqytJwcEw"
    },
    {
      "cell_type": "markdown",
      "metadata": {
        "id": "38cWx2V9xHCZ"
      },
      "source": [
        "now making future predictions"
      ],
      "id": "38cWx2V9xHCZ"
    },
    {
      "cell_type": "code",
      "metadata": {
        "colab": {
          "base_uri": "https://localhost:8080/",
          "height": 292
        },
        "id": "RbfqN25SwbhT",
        "outputId": "ff8257d5-a185-4420-e873-9f0835138b07"
      },
      "source": [
        "model2 = ARIMA(confirmed['Confirmed'],order=(5,2,2))\n",
        "model2 = model2.fit()\n",
        "confirmed.tail()"
      ],
      "id": "RbfqN25SwbhT",
      "execution_count": null,
      "outputs": [
        {
          "output_type": "stream",
          "text": [
            "/usr/local/lib/python3.7/dist-packages/statsmodels/tsa/base/tsa_model.py:527: ValueWarning: No frequency information was provided, so inferred frequency D will be used.\n",
            "  % freq, ValueWarning)\n",
            "/usr/local/lib/python3.7/dist-packages/statsmodels/tsa/base/tsa_model.py:527: ValueWarning: No frequency information was provided, so inferred frequency D will be used.\n",
            "  % freq, ValueWarning)\n"
          ],
          "name": "stderr"
        },
        {
          "output_type": "execute_result",
          "data": {
            "text/html": [
              "<div>\n",
              "<style scoped>\n",
              "    .dataframe tbody tr th:only-of-type {\n",
              "        vertical-align: middle;\n",
              "    }\n",
              "\n",
              "    .dataframe tbody tr th {\n",
              "        vertical-align: top;\n",
              "    }\n",
              "\n",
              "    .dataframe thead th {\n",
              "        text-align: right;\n",
              "    }\n",
              "</style>\n",
              "<table border=\"1\" class=\"dataframe\">\n",
              "  <thead>\n",
              "    <tr style=\"text-align: right;\">\n",
              "      <th></th>\n",
              "      <th>Confirmed</th>\n",
              "      <th>confirmed First Difference</th>\n",
              "      <th>adj_log</th>\n",
              "      <th>adj_sqrt</th>\n",
              "      <th>adj_cbrt</th>\n",
              "      <th>confirmed_log_diff</th>\n",
              "    </tr>\n",
              "    <tr>\n",
              "      <th>Date</th>\n",
              "      <th></th>\n",
              "      <th></th>\n",
              "      <th></th>\n",
              "      <th></th>\n",
              "      <th></th>\n",
              "      <th></th>\n",
              "    </tr>\n",
              "  </thead>\n",
              "  <tbody>\n",
              "    <tr>\n",
              "      <th>2021-06-02</th>\n",
              "      <td>171680812</td>\n",
              "      <td>18124876.0</td>\n",
              "      <td>18.961148</td>\n",
              "      <td>13102.702469</td>\n",
              "      <td>555.785552</td>\n",
              "      <td>0.002877</td>\n",
              "    </tr>\n",
              "    <tr>\n",
              "      <th>2021-06-03</th>\n",
              "      <td>172169929</td>\n",
              "      <td>17806574.0</td>\n",
              "      <td>18.963993</td>\n",
              "      <td>13121.353932</td>\n",
              "      <td>556.312861</td>\n",
              "      <td>0.002845</td>\n",
              "    </tr>\n",
              "    <tr>\n",
              "      <th>2021-06-04</th>\n",
              "      <td>172589646</td>\n",
              "      <td>17385089.0</td>\n",
              "      <td>18.966427</td>\n",
              "      <td>13137.337858</td>\n",
              "      <td>556.764555</td>\n",
              "      <td>0.002435</td>\n",
              "    </tr>\n",
              "    <tr>\n",
              "      <th>2021-06-05</th>\n",
              "      <td>172987591</td>\n",
              "      <td>16913024.0</td>\n",
              "      <td>18.968730</td>\n",
              "      <td>13152.474710</td>\n",
              "      <td>557.192143</td>\n",
              "      <td>0.002303</td>\n",
              "    </tr>\n",
              "    <tr>\n",
              "      <th>2021-06-06</th>\n",
              "      <td>173209947</td>\n",
              "      <td>16302974.0</td>\n",
              "      <td>18.970015</td>\n",
              "      <td>13160.925005</td>\n",
              "      <td>557.430776</td>\n",
              "      <td>0.001285</td>\n",
              "    </tr>\n",
              "  </tbody>\n",
              "</table>\n",
              "</div>"
            ],
            "text/plain": [
              "            Confirmed  ...  confirmed_log_diff\n",
              "Date                   ...                    \n",
              "2021-06-02  171680812  ...            0.002877\n",
              "2021-06-03  172169929  ...            0.002845\n",
              "2021-06-04  172589646  ...            0.002435\n",
              "2021-06-05  172987591  ...            0.002303\n",
              "2021-06-06  173209947  ...            0.001285\n",
              "\n",
              "[5 rows x 6 columns]"
            ]
          },
          "metadata": {
            "tags": []
          },
          "execution_count": 71
        }
      ]
    },
    {
      "cell_type": "code",
      "metadata": {
        "colab": {
          "base_uri": "https://localhost:8080/"
        },
        "id": "lbjUWKTBuLmo",
        "outputId": "634cb94d-ee7b-48bf-9b69-77425085c462"
      },
      "source": [
        "index_future_dates = pd.date_range(start='2021-06-06',end='2021-07-06')\n",
        "print(index_future_dates)"
      ],
      "id": "lbjUWKTBuLmo",
      "execution_count": null,
      "outputs": [
        {
          "output_type": "stream",
          "text": [
            "DatetimeIndex(['2021-06-06', '2021-06-07', '2021-06-08', '2021-06-09',\n",
            "               '2021-06-10', '2021-06-11', '2021-06-12', '2021-06-13',\n",
            "               '2021-06-14', '2021-06-15', '2021-06-16', '2021-06-17',\n",
            "               '2021-06-18', '2021-06-19', '2021-06-20', '2021-06-21',\n",
            "               '2021-06-22', '2021-06-23', '2021-06-24', '2021-06-25',\n",
            "               '2021-06-26', '2021-06-27', '2021-06-28', '2021-06-29',\n",
            "               '2021-06-30', '2021-07-01', '2021-07-02', '2021-07-03',\n",
            "               '2021-07-04', '2021-07-05', '2021-07-06'],\n",
            "              dtype='datetime64[ns]', freq='D')\n"
          ],
          "name": "stdout"
        }
      ]
    },
    {
      "cell_type": "code",
      "metadata": {
        "colab": {
          "base_uri": "https://localhost:8080/"
        },
        "id": "U_exaONwyPVA",
        "outputId": "e3194fed-dbd3-4818-cbd7-3a7d5afa4f1a"
      },
      "source": [
        "pred = model2.predict(start=len(confirmed),end=len(confirmed)+30,typ='levels').rename('ARIMA predictions')\n",
        "print(pred)"
      ],
      "id": "U_exaONwyPVA",
      "execution_count": null,
      "outputs": [
        {
          "output_type": "stream",
          "text": [
            "2021-06-07    1.735379e+08\n",
            "2021-06-08    1.739063e+08\n",
            "2021-06-09    1.743199e+08\n",
            "2021-06-10    1.747376e+08\n",
            "2021-06-11    1.751290e+08\n",
            "2021-06-12    1.754626e+08\n",
            "2021-06-13    1.757629e+08\n",
            "2021-06-14    1.760777e+08\n",
            "2021-06-15    1.764439e+08\n",
            "2021-06-16    1.768584e+08\n",
            "2021-06-17    1.772835e+08\n",
            "2021-06-18    1.776737e+08\n",
            "2021-06-19    1.780105e+08\n",
            "2021-06-20    1.783161e+08\n",
            "2021-06-21    1.786361e+08\n",
            "2021-06-22    1.790055e+08\n",
            "2021-06-23    1.794220e+08\n",
            "2021-06-24    1.798483e+08\n",
            "2021-06-25    1.802404e+08\n",
            "2021-06-26    1.805807e+08\n",
            "2021-06-27    1.808911e+08\n",
            "2021-06-28    1.812160e+08\n",
            "2021-06-29    1.815890e+08\n",
            "2021-06-30    1.820074e+08\n",
            "2021-07-01    1.824350e+08\n",
            "2021-07-02    1.828290e+08\n",
            "2021-07-03    1.831728e+08\n",
            "2021-07-04    1.834880e+08\n",
            "2021-07-05    1.838177e+08\n",
            "2021-07-06    1.841942e+08\n",
            "2021-07-07    1.846146e+08\n",
            "Freq: D, Name: ARIMA predictions, dtype: float64\n"
          ],
          "name": "stdout"
        }
      ]
    },
    {
      "cell_type": "code",
      "metadata": {
        "id": "yeZqu1hGyPfl"
      },
      "source": [
        ""
      ],
      "id": "yeZqu1hGyPfl",
      "execution_count": null,
      "outputs": []
    }
  ]
}